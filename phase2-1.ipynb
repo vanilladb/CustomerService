{
 "cells": [
  {
   "cell_type": "markdown",
   "metadata": {},
   "source": [
    "# phase 1 分完重點後，切換到對應的 thread"
   ]
  },
  {
   "cell_type": "markdown",
   "metadata": {},
   "source": [
    "step 1 只有一步"
   ]
  },
  {
   "cell_type": "code",
   "execution_count": 1,
   "metadata": {},
   "outputs": [],
   "source": [
    "import os\n",
    "import time\n",
    "from openai import OpenAI\n",
    "client = OpenAI()\n",
    "OpenAI.api_key = os.getenv('OPENAI_API_KEY')\n",
    "# print(OpenAI.api_key)"
   ]
  },
  {
   "cell_type": "code",
   "execution_count": 2,
   "metadata": {},
   "outputs": [
    {
     "name": "stderr",
     "output_type": "stream",
     "text": [
      "C:\\Users\\USER\\AppData\\Local\\Temp\\ipykernel_25604\\2016165297.py:1: DeprecationWarning: \n",
      "Pyarrow will become a required dependency of pandas in the next major release of pandas (pandas 3.0),\n",
      "(to allow more performant data types, such as the Arrow string type, and better interoperability with other libraries)\n",
      "but was not found to be installed on your system.\n",
      "If this would cause problems for you,\n",
      "please provide us feedback at https://github.com/pandas-dev/pandas/issues/54466\n",
      "        \n",
      "  import pandas as pd\n"
     ]
    }
   ],
   "source": [
    "import pandas as pd\n",
    "import numpy as np\n",
    "\n",
    "csv_file = './data/key_point_embeddings0527.csv'\n",
    "df = pd.read_csv(csv_file)\n",
    "data = df.to_numpy()"
   ]
  },
  {
   "cell_type": "code",
   "execution_count": 3,
   "metadata": {},
   "outputs": [],
   "source": [
    "import faiss\n",
    "\n",
    "index = faiss.IndexFlatL2(data.shape[1])\n",
    "index.add(data)"
   ]
  },
  {
   "cell_type": "code",
   "execution_count": 4,
   "metadata": {},
   "outputs": [],
   "source": [
    "def get_similar_QAK(input):\n",
    "    response = client.embeddings.create(input=input, model=\"text-embedding-3-large\", dimensions=3072)\n",
    "    key_point = np.array(response.data[0].embedding, ndmin=2)\n",
    "    distances, indices = index.search(key_point, 3)\n",
    "    QAK_csv = './data/QAK0527.csv'\n",
    "    QAK_df = pd.read_csv(QAK_csv)\n",
    "    QAK_array = QAK_df.to_numpy()\n",
    "    QAKD = [(QAK_array[i], float(dist)) for dist, i in zip(distances[0], indices[0])]\n",
    "    top3 = '{\"Three candidate problem-resolution approaches\": [\\n'\n",
    "    for i in range(0,3):\n",
    "        top3 = top3 + '{\"problem\": \"' + QAKD[i][0][0].replace(\"\\\"\", \"\\'\") + '\",\\n'\n",
    "        top3 = top3 + '\"summarized keypoints\": [\"' + QAKD[i][0][2][16:-3].replace(\"\\\"\", \"\\\"\") + '\"],\\n'\n",
    "        top3 = top3 + '\"solution\": { \\n \"form\": \"'+QAKD[i][0][3]+'\", \\n \"content\": \"' + QAKD[i][0][1].replace(\"\\\"\", \"\\'\") + '\"}},\\n'\n",
    "    top3 = top3[0:-2] + ']}'\n",
    "    return top3\n",
    "\n",
    "def get_similar_flow(input):\n",
    "    pass"
   ]
  },
  {
   "cell_type": "markdown",
   "metadata": {},
   "source": [
    "模擬 phase1"
   ]
  },
  {
   "cell_type": "code",
   "execution_count": 5,
   "metadata": {},
   "outputs": [],
   "source": [
    "question = \"I am not gaining the medal for studying 25+ minutes with a friend anymore. We also do not gain each other's plants anymore after a shared study session. What happened to these features?\""
   ]
  },
  {
   "cell_type": "code",
   "execution_count": 6,
   "metadata": {},
   "outputs": [],
   "source": [
    "instruction = \"\"\n",
    "instructions = [\n",
    "    \"# Objective: \",\n",
    "    \"As an intelligent customer service chatbot of the “Flora” focus app , my goal is to understand and help you solve problems encountered when using flora app effectively. \" ,\n",
    "    \"# Main features of the Flora app: \",\n",
    "    \"Flora is a new way to stay off your phone, clear to-do lists, and build positive, life-changing habits. Whenever you want to make progress towards your goals, plant a seed in Flora. As you work hard, the seed will grow into a healthy tree. Let the tree be your coach and grow yourself with it. You will be amazed by how great you can be. FOCUS TREES Have trouble putting down the phone? Flora blocks distracting apps in a pleasant way to help you focus on what’s more important in real life. If you cannot resist the temptation of using your phone and leave the app while growing a tree, the tree will be killed! But if succeeding, you'll unlock new trees. DOUBLE EFFICIENCY WITH FRIENDS Things get even more interesting when you challenge your friends to plant trees together—you will see who kills a tree (ouch). However, if you successfully stay away from your phones together, each of you will win an additional tree from a random friend. You can also chat and share your progress to motivate each other and keep everyone on track.* * Flora is the original app for multi-user tree planting and delivers the best features that help you and your friends be productive. TO-DO LIST & WIDGET Flora is a to-do list, and more. Simply create a to-do item and set a reminder, then you will never forget a thing. Even better, you can tag your trees with a to-do item to easily track the progress towards each of your life goals. No matter if your goal is daily, weekly, or monthly, Flora will help you follow it through and achieve it. HABIT TRACKER Enjoy a rewarding daily habit routine. If you grow trees regularly, you will earn yourself a beautiful, vibrant garden. Take a look at it and feel proud of yourself! Each tree records your perseverance and a step towards a healthy life. You can also view the daily, weekly, or monthly statistics of your activities in Flora to find opportunities to improve your time-management and planning skills. REAL TREES, REAL IMPACT Why not plant REAL trees while improving yourself? Flora proudly offers the opt-in Price and Care services that let you plant real trees on the earth if you kill or successfully grow a tree in the app. We partner with tree-planting organizations in Africa and East Asia, such as the Trees.org and Eden Reforestation Projects, to plant fast-growing soil rebuilding trees, fruit trees that diversify incomes and nutrition, and trees that can provide forage and fuel-wood. All these trees help make the earth greener and provide long-term financial aid to families who need it most. \",\n",
    "    \"# Support Process: \",\n",
    "    \"Issue Identification: To ensure that I understand your problems, I will summarize the constructive, non-emotional parts of our input text in your tone into one key point. but if one key point is not enough to describe problem, key point can be more than one. Avoid using conjunctions. Then, I will and must only output these key points in json format. \",\n",
    "    \"#Example: \",\n",
    "    \"input: How do I change my password? \",\n",
    "    'output: {\"keypoints\": [\"my problem is I need to change password.\"]}',\n",
    "    \"input: I am just doing my a-levels at the moment and I love using your app for revision. However, when I went onto the app earlier it logged me out and all my data had been lost. I was just wondering if you could help me out.\",\n",
    "    'output: {\"keypoints\": [\"My data lost after being logged out of the app.\"]}'\n",
    "    \"input: My flora friend page won't load. If I delete the app and re download it and then login. Will all my data and garden time be lost?\",\n",
    "    'output: {\"keypoints\": [\"my Flora friend page will not load.\",\"I am concern about losing data and garden time after deleting and reinstalling the app.\"]}'\n",
    "]\n",
    "for i in instructions:\n",
    "    instruction = instruction + i + \"\\n\""
   ]
  },
  {
   "cell_type": "markdown",
   "metadata": {},
   "source": [
    "模擬 phase1 拿到 key point"
   ]
  },
  {
   "cell_type": "code",
   "execution_count": 7,
   "metadata": {},
   "outputs": [
    {
     "name": "stdout",
     "output_type": "stream",
     "text": [
      "{\"keypoints\": [\"Not gaining the medal for studying 25+ minutes with a friend\", \"Not gaining each other's plants after a shared study session\"]}\n"
     ]
    }
   ],
   "source": [
    "completion = client.chat.completions.create(\n",
    "    model=\"gpt-3.5-turbo-1106\",\n",
    "    messages=[\n",
    "        {\"role\": \"system\", \"content\": instruction},\n",
    "        {\"role\": \"user\", \"content\": question}\n",
    "    ]\n",
    ")\n",
    "time.sleep(5)\n",
    "key_point_json = completion.choices[0].message.content.replace(\"\\n\", \" \")\n",
    "print(key_point_json)"
   ]
  },
  {
   "cell_type": "code",
   "execution_count": 8,
   "metadata": {},
   "outputs": [
    {
     "name": "stdout",
     "output_type": "stream",
     "text": [
      "['Not gaining the medal for studying 25+ minutes with a friend', \"Not gaining each other's plants after a shared study session\"]\n"
     ]
    }
   ],
   "source": [
    "import json\n",
    "\n",
    "key_point = []\n",
    "try:\n",
    "    for i in range(0,len(json.loads(key_point_json)[\"keypoints\"])):\n",
    "        key_point.append(str(json.loads(key_point_json)[\"keypoints\"][i]))\n",
    "\n",
    "except json.JSONDecodeError as e:\n",
    "    key_point = key_point_json\n",
    "    print(\"phase1 didn't pass json format\")\n",
    "\n",
    "print(key_point)"
   ]
  },
  {
   "cell_type": "markdown",
   "metadata": {},
   "source": [
    "模擬 phase2"
   ]
  },
  {
   "cell_type": "code",
   "execution_count": 9,
   "metadata": {},
   "outputs": [
    {
     "name": "stdout",
     "output_type": "stream",
     "text": [
      "# Objective\n",
      "Act as an intelligent customer service chatbot for the 'Flora' focus app. Below are: A. Background of the app, B. the past conversation log with the user, obtained from the “Feedback Portal” system, C. Three candidate problem-resolution approaches. Each approach specifies a problem, a problem summarization (key point), and a solution in the form of either direct answer or resolution flow.\n",
      "Your job is:\n",
      "1. Decide which candidate problem-resolution approach in C can be applied to solve the user's main problem. Note that the conversation log in B may contain irrelevant information and you should only use it as a clue for solving user's main problem. First, if user's main problem not related to Flora, you are prohibited to answer and must reply only a special mark:'*'. Second, if the summarized key points within three problem-resolution approaches are not related to the user's main problem, you are prohibited from answering and must reply only with a special mark: '*'. Third, If there are multiple related approaches, choose the one that is the most suitable.\n",
      "2. Based on the chosen problem-resolution approach, chat with the user to solve her main problem without any format. If the approach contains a direct answer, follow the answer to interact with the user. You must not deviate from the chat based on the answer. If the approach contains a resolution flow, follow the resolution flow with its pseudo code format one step at a time by interacting with the user and calling functions accordingly. You are prohibited from using any user information without asking the user and calling any function without resolution flow's command. Confirm each step before proceeding to the next one. For example, explicitly ask the user for their ID and wait for their response before calling any functions. If they deviate from the resolution flow, you must follow the resolution flow and ask users to stay on track. If the user does not provide the necessary information, politely ask again until you receive it.\n",
      "3. If the user asks another question different from the user's main problem either during or after the problem resolution process in Step 2, prompt the user to go back to the “Feedback Portal” system to officially file the problem.\n",
      "# A. Main features of the Flora app\n",
      "Flora is a new way to stay off your phone, clear to-do lists, and build positive, life-changing habits. Whenever you want to make progress towards your goals, plant a seed in Flora. As you work hard, the seed will grow into a healthy tree. Let the tree be your coach and grow yourself with it. You will be amazed by how great you can be.\n",
      "FOCUS TREES\n",
      "Have trouble putting down the phone? Flora blocks distracting apps in a pleasant way to help you focus on what's more important in real life. If you cannot resist the temptation of using your phone and leave the app while growing a tree, the tree will be killed! But if succeeding, you'll unlock new trees.\n",
      "DOUBLE EFFICIENCY WITH FRIENDS\n",
      "Things get even more interesting when you challenge your friends to plant trees together—you will see who kills a tree (ouch). However, if you successfully stay away from your phones together, each of you will win an additional tree from a random friend. You can also chat and share your progress to motivate each other and keep everyone on track.* Flora is the original app for multi-user tree planting and delivers the best features that help you and your friends be productive.\n",
      "TO-DO LIST & WIDGET\n",
      "Flora is a to-do list, and more. Simply create a to-do item and set a reminder, then you will never forget a thing. Even better, you can tag your trees with a to-do item to easily track the progress towards each of your life goals. No matter if your goal is daily, weekly, or monthly, Flora will help you follow it through and achieve it.\n",
      "HABIT TRACKER\n",
      "Enjoy a rewarding daily habit routine. If you grow trees regularly, you will earn yourself a beautiful, vibrant garden. Take a look at it and feel proud of yourself! Each tree records your perseverance and a step towards a healthy life. You can also view the daily, weekly, or monthly statistics of your activities in Flora to find opportunities to improve your time-management and planning skills.\n",
      "REAL TREES, REAL IMPACT\n",
      "Why not plant REAL trees while improving yourself? Flora proudly offers the opt-in Price and Care services that let you plant real trees on the earth if you kill or successfully grow a tree in the app. We partner with tree-planting organizations in Africa and East Asia, such as the Trees.org and Eden Reforestation Projects, to plant fast-growing soil rebuilding trees, fruit trees that diversify incomes and nutrition, and trees that can provide forage and fuel-wood. All these trees help make the earth greener and provide long-term financial aid to families who need it most.\n",
      "# B.Past Conversation Log\n",
      "{\"Past Conversation Log\": [{\"role\": \"user\", \"message\": \"I am not gaining the medal for studying 25+ minutes with a friend anymore. We also do not gain each other's plants anymore after a shared study session. What happened to these features?\"}, {\"role\": \"assistant\", \"message\": \"This is my summarized key points:['Not gaining the medal for studying 25+ minutes with a friend', \"Not gaining each other's plants after a shared study session\"],and i will focus on main problem and help you solve it.\"}]}\n",
      "# C. Candidate Problem-resolution Approaches \n",
      "{\"Three candidate problem-resolution approaches\": [\n",
      "{\"problem\": \"I am not gaining the medal for studying 25+ minutes with a friend anymore. We also do not gain each other's plants anymore after a shared study session. What happened to these features?\",\n",
      "\"summarized keypoints\": [\"Not gaining the medal for studying 25+ minutes with a friend anymore.\",\"Not gaining each other's plants after a shared study session.\"],\n",
      "\"solution\": { \n",
      " \"form\": \"resolution flow\", \n",
      " \"content\": \"Ask user for their ID; if(got user ID){ Ask user for the Tour name; if(got Tour name){ Call getTours function for Tour ID;Call correctTourProgress function; if(Return of correctTourProgress function){ Response user 'We will resolve this problem, thank you for your patience.'; } } else{Ask Tour Name again;} } else{Ask user ID again;} \"}},\n",
      "{\"problem\": \"my study session didn't add to my total time\",\n",
      "\"summarized keypoints\": [\"Study session time not added to total time.\"],\n",
      "\"solution\": { \n",
      " \"form\": \"resolution flow\", \n",
      " \"content\": \"Ask user for their ID; if(got user ID){ Call CheckTotalTime function; Response user 'We recalculate your Total time, thank you for your patience. Is this your total time ?'+Return of CheckTotalTime function; } else{Ask user ID again;} \"}},\n",
      "{\"problem\": \"I have complete everything for the friend badge, but why isn't it showing 100% complete ? \",\n",
      "\"summarized keypoints\": [\"Friend badge not showing as 100% complete\"],\n",
      "\"solution\": { \n",
      " \"form\": \"direct answer\", \n",
      " \"content\": \"If the app doesn't show accurate completion percentage, please contact us so that we can look into your problem. \"}}]}\n",
      "Example:\n",
      "case:direct answer\n",
      "chosen problem-resolution approach:\n",
      "{\"problem\": \"How do I change my password?\",\"summarized_keypoints\": \"my problem is I need to change password.\",\"solution\": {\"form\": \"direct answer\",\"content\": \"We could not manually set your password. However, you could do the following instructions. In the 'Log In' section, there is an option 'Forgot password?'. By clicking, it would guide you through the process of resetting the password. Remember, don't swipe Flora while you go to check the passcode. In the 'Log In' section, there is an option 'Forgot password?'. By clicking, it would guide you through the process of resetting the password.\"}}\n",
      "assisstant log:\n",
      "{\"role\": \"assistant\", \"message\": \"We could not manually set your password. However, you could do the following instructions. In the 'Log In' section, there is an option 'Forgot password?'. By clicking, it would guide you through the process of resetting the password. Remember, don't swipe Flora while you go to check the passcode. In the 'Log In' section, there is an option 'Forgot password?'. By clicking, it would guide you through the process of resetting the password.\"\n",
      "case:resolution flow\n",
      "chosen problem-resolution approach:\n",
      "{\"problem\": \"I am not gaining the medal for studying 25+ minutes with a friend anymore. We also do not gain each other's plants anymore after a shared study session. What happened to these features?\",\"summarized keypoints\": [\"Not gaining the medal for studying 25+ minutes with a friend anymore.\",\"Not gaining each other's plants after a shared study session.\"] ,\"solution\": {\"form\": \"resolution flow\",\"content\": \"Ask user for their ID; if(got user ID){ Ask user for the Tour name; if(got Tour name){ Call getTours function for Tour ID;Call correctTourProgress function; if(Return of correctTourProgress function){ Response user 'We will resolve this problem, thank you for your patience.'; } } else{Ask Tour Name again;} } else{Ask user ID again;} \"}}assisstant log:\n",
      "{\"role\": \"assistant\", \"message\": \"Could you please provide your user ID so we can assist you further?\"}{\"role\": \"user\", \"message\": \"My user ID is 123456789.\"}{\"role\": \"assistant\", \"message\": \"Could you please provide the name of the Flora tour you're interested in?\"}\n",
      "{\"role\": \"user\", \"message\": \"The name of the Flora tour I'm interested in is 'Tropical Rainforest Expedition'\"}\n",
      "Call Function\"getTours\" with parameter TourName\"Tropical Rainforest Expedition\"\n",
      "Return \"1\"\n",
      "Call Function\"correctTourProgress\" with parameter UserId\"123456789\",TourId\"1\"\n",
      "Return \"success\"\n",
      "{\"role\": \"assistant\", \"message\": \"We will resolve this problem, thank you for your patience.\"}\n",
      "\n"
     ]
    }
   ],
   "source": [
    "threadNum = 0\n",
    "\n",
    "instruction = \"\"\n",
    "instructions = [\n",
    "    \"# Objective\",\n",
    "    \"Act as an intelligent customer service chatbot for the 'Flora' focus app. Below are: A. Background of the app, B. the past conversation log with the user, obtained from the “Feedback Portal” system, C. Three candidate problem-resolution approaches. Each approach specifies a problem, a problem summarization (key point), and a solution in the form of either direct answer or resolution flow.\",\n",
    "    \"Your job is:\",\n",
    "    \"1. Decide which candidate problem-resolution approach in C can be applied to solve the user's main problem. Note that the conversation log in B may contain irrelevant information and you should only use it as a clue for solving user's main problem. First, if user's main problem not related to Flora, you are prohibited to answer and must reply only a special mark:'*'. Second, if the summarized key points within three problem-resolution approaches are not related to the user's main problem, you are prohibited from answering and must reply only with a special mark: '*'. Third, If there are multiple related approaches, choose the one that is the most suitable.\",\n",
    "    \"2. Based on the chosen problem-resolution approach, chat with the user to solve her main problem without any format. If the approach contains a direct answer, follow the answer to interact with the user. You must not deviate from the chat based on the answer. If the approach contains a resolution flow, follow the resolution flow with its pseudo code format one step at a time by interacting with the user and calling functions accordingly. You are prohibited from using any user information without asking the user and calling any function without resolution flow's command. Confirm each step before proceeding to the next one. For example, explicitly ask the user for their ID and wait for their response before calling any functions. If they deviate from the resolution flow, you must follow the resolution flow and ask users to stay on track. If the user does not provide the necessary information, politely ask again until you receive it.\",\n",
    "    \"3. If the user asks another question different from the user's main problem either during or after the problem resolution process in Step 2, prompt the user to go back to the “Feedback Portal” system to officially file the problem.\",\n",
    "    \"# A. Main features of the Flora app\",\n",
    "    \"Flora is a new way to stay off your phone, clear to-do lists, and build positive, life-changing habits. Whenever you want to make progress towards your goals, plant a seed in Flora. As you work hard, the seed will grow into a healthy tree. Let the tree be your coach and grow yourself with it. You will be amazed by how great you can be.\",\n",
    "    \"FOCUS TREES\",\n",
    "    \"Have trouble putting down the phone? Flora blocks distracting apps in a pleasant way to help you focus on what's more important in real life. If you cannot resist the temptation of using your phone and leave the app while growing a tree, the tree will be killed! But if succeeding, you'll unlock new trees.\",\n",
    "    \"DOUBLE EFFICIENCY WITH FRIENDS\",\n",
    "    \"Things get even more interesting when you challenge your friends to plant trees together—you will see who kills a tree (ouch). However, if you successfully stay away from your phones together, each of you will win an additional tree from a random friend. You can also chat and share your progress to motivate each other and keep everyone on track.* Flora is the original app for multi-user tree planting and delivers the best features that help you and your friends be productive.\",\n",
    "    \"TO-DO LIST & WIDGET\",\n",
    "    \"Flora is a to-do list, and more. Simply create a to-do item and set a reminder, then you will never forget a thing. Even better, you can tag your trees with a to-do item to easily track the progress towards each of your life goals. No matter if your goal is daily, weekly, or monthly, Flora will help you follow it through and achieve it.\",\n",
    "    \"HABIT TRACKER\",\n",
    "    \"Enjoy a rewarding daily habit routine. If you grow trees regularly, you will earn yourself a beautiful, vibrant garden. Take a look at it and feel proud of yourself! Each tree records your perseverance and a step towards a healthy life. You can also view the daily, weekly, or monthly statistics of your activities in Flora to find opportunities to improve your time-management and planning skills.\",\n",
    "    \"REAL TREES, REAL IMPACT\",\n",
    "    \"Why not plant REAL trees while improving yourself? Flora proudly offers the opt-in Price and Care services that let you plant real trees on the earth if you kill or successfully grow a tree in the app. We partner with tree-planting organizations in Africa and East Asia, such as the Trees.org and Eden Reforestation Projects, to plant fast-growing soil rebuilding trees, fruit trees that diversify incomes and nutrition, and trees that can provide forage and fuel-wood. All these trees help make the earth greener and provide long-term financial aid to families who need it most.\",\n",
    "    \"# B.Past Conversation Log\"\n",
    "]\n",
    "for i in instructions:\n",
    "    instruction = instruction + i + \"\\n\"\n",
    "\n",
    "partB = '{\"Past Conversation Log\": [{\"role\": \"user\", \"message\": \"' + question + '\"}, {\"role\": \"assistant\", \"message\": \"This is my summarized key points:'+ str(key_point) + ',and i will focus on main problem and help you solve it.\"}]}'\n",
    "instruction = instruction + partB + \"\\n\"\n",
    "\n",
    "instruction += \"# C. Candidate Problem-resolution Approaches \\n\"\n",
    "main_problem = key_point[threadNum]\n",
    "top3 = get_similar_QAK(main_problem)\n",
    "instruction += top3\n",
    "example=\"\"\n",
    "examples=[\n",
    "    \"\\nExample:\",\n",
    "    \"case:direct answer\",\n",
    "    \"chosen problem-resolution approach:\",\n",
    "    '{\"problem\": \"How do I change my password?\",\"summarized_keypoints\": \"my problem is I need to change password.\",\"solution\": {\"form\": \"direct answer\",\"content\": \"We could not manually set your password. However, you could do the following instructions. In the \\'Log In\\' section, there is an option \\'Forgot password?\\'. By clicking, it would guide you through the process of resetting the password. Remember, don\\'t swipe Flora while you go to check the passcode. In the \\'Log In\\' section, there is an option \\'Forgot password?\\'. By clicking, it would guide you through the process of resetting the password.\"}}',\n",
    "    \"assisstant log:\",\n",
    "    '{\"role\": \"assistant\", \"message\": \"We could not manually set your password. However, you could do the following instructions. In the \\'Log In\\' section, there is an option \\'Forgot password?\\'. By clicking, it would guide you through the process of resetting the password. Remember, don\\'t swipe Flora while you go to check the passcode. In the \\'Log In\\' section, there is an option \\'Forgot password?\\'. By clicking, it would guide you through the process of resetting the password.\"',\n",
    "    \"case:resolution flow\",\n",
    "    \"chosen problem-resolution approach:\",\n",
    "    '{\"problem\": \"I am not gaining the medal for studying 25+ minutes with a friend anymore. We also do not gain each other\\'s plants anymore after a shared study session. What happened to these features?\",\"summarized keypoints\": [\"Not gaining the medal for studying 25+ minutes with a friend anymore.\",\"Not gaining each other\\'s plants after a shared study session.\"] ,\"solution\": {\"form\": \"resolution flow\",\"content\": \"Ask user for their ID; if(got user ID){ Ask user for the Tour name; if(got Tour name){ Call getTours function for Tour ID;Call correctTourProgress function; if(Return of correctTourProgress function){ Response user \\'We will resolve this problem, thank you for your patience.\\'; } } else{Ask Tour Name again;} } else{Ask user ID again;} \"}}'\n",
    "    \"assisstant log:\",\n",
    "    '{\"role\": \"assistant\", \"message\": \"Could you please provide your user ID so we can assist you further?\"}'\n",
    "    '{\"role\": \"user\", \"message\": \"My user ID is 123456789.\"}'\n",
    "    '{\"role\": \"assistant\", \"message\": \"Could you please provide the name of the Flora tour you\\'re interested in?\"}',\n",
    "    '{\"role\": \"user\", \"message\": \"The name of the Flora tour I\\'m interested in is \\'Tropical Rainforest Expedition\\'\"}',\n",
    "    'Call Function\"getTours\" with parameter TourName\"Tropical Rainforest Expedition\"',\n",
    "    'Return \"1\"',\n",
    "    'Call Function\"correctTourProgress\" with parameter UserId\"123456789\",TourId\"1\"',\n",
    "    'Return \"success\"',\n",
    "    '{\"role\": \"assistant\", \"message\": \"We will resolve this problem, thank you for your patience.\"}'\n",
    "    ]\n",
    "for i in examples:\n",
    "    example = example + i + \"\\n\"\n",
    "instruction += example\n",
    "print(instruction)"
   ]
  },
  {
   "cell_type": "code",
   "execution_count": 10,
   "metadata": {},
   "outputs": [],
   "source": [
    "assistant = client.beta.assistants.create(\n",
    "    name=\"customer service chatbot\",\n",
    "    instructions=instruction,\n",
    "    model=\"gpt-3.5-turbo-1106\",\n",
    "    tools = [\n",
    "        {\n",
    "            \"type\": \"function\",\n",
    "            \"function\": {\n",
    "                \"name\": \"add_Hawaii_Record\",\n",
    "                \"description\": \"success or fail using SQL to add Hawaii tour to this user\",\n",
    "                \"parameters\": {\n",
    "                    \"type\": \"object\",\n",
    "                    \"properties\": {\n",
    "                        \"UserId\": {\n",
    "                            \"type\": \"string\",\n",
    "                            \"description\": \"user's id in Flora app.This must be gained from asking the user.\",\n",
    "                        },\n",
    "                    },\n",
    "                    \"required\": [\"UserId\"],\n",
    "                },\n",
    "            },\n",
    "        },\n",
    "        {\n",
    "            \"type\": \"function\",\n",
    "            \"function\": {\n",
    "                \"name\": \"getTours\",\n",
    "                \"description\": \"get Flora Tour ID with Flora Tour name\",\n",
    "                \"parameters\": {\n",
    "                    \"type\": \"object\",\n",
    "                    \"properties\": {\n",
    "                        \"TourName\": {\n",
    "                            \"type\": \"string\",\n",
    "                            \"description\": \"Flora Tour's name in Flora app.This must be gained from asking the user.\",\n",
    "                        },\n",
    "                    },\n",
    "                    \"required\": [\"TourName\"],\n",
    "                },\n",
    "            },\n",
    "        },\n",
    "        {\n",
    "            \"type\": \"function\",\n",
    "            \"function\": {\n",
    "                \"name\": \"correctTourProgress\",\n",
    "                \"description\": \"success or fail using SQL to correct tour's progress\",\n",
    "                \"parameters\": {\n",
    "                    \"type\": \"object\",\n",
    "                    \"properties\": {\n",
    "                        \"UserId\": {\n",
    "                            \"type\": \"string\",\n",
    "                            \"description\": \"user's id in Flora app.This must be gained from asking the user.\",\n",
    "                        },\n",
    "                        \"TourId\": {\n",
    "                            \"type\": \"string\",\n",
    "                            \"description\": \"Tour's id in Flora app.This must be gained from calling function'getTours'.\",\n",
    "                        },\n",
    "                    },\n",
    "                    \"required\": [\"UserId\",\"TourId\"],\n",
    "                },\n",
    "            },\n",
    "        },\n",
    "        {\n",
    "            \"type\": \"function\",\n",
    "            \"function\": {\n",
    "                \"name\": \"correctWeeklyLeaderboard\",\n",
    "                \"description\": \"success or fail using SQL to correct weekly leaderboard\",\n",
    "                \"parameters\": {\n",
    "                    \"type\": \"object\",\n",
    "                    \"properties\": {\n",
    "                        \"UserId\": {\n",
    "                            \"type\": \"string\",\n",
    "                            \"description\": \"user's id in Flora app.This must be gained from asking the user.\",\n",
    "                        },\n",
    "                    },\n",
    "                    \"required\": [\"UserId\"],\n",
    "                },\n",
    "            },\n",
    "        },\n",
    "        {\n",
    "            \"type\": \"function\",\n",
    "            \"function\": {\n",
    "                \"name\": \"CheckTotalTime\",\n",
    "                \"description\": \"number or fail using SQL to recalculate of the total time\",\n",
    "                \"parameters\": {\n",
    "                    \"type\": \"object\",\n",
    "                    \"properties\": {\n",
    "                        \"UserId\": {\n",
    "                            \"type\": \"string\",\n",
    "                            \"description\": \"user's id in Flora app.This must be gained from asking the user.\",\n",
    "                        },\n",
    "                    },\n",
    "                    \"required\": [\"UserId\"],\n",
    "                },\n",
    "            },\n",
    "        }\n",
    "    ]\n",
    ")\n",
    "\n",
    "thread = client.beta.threads.create()\n",
    "\n",
    "message = client.beta.threads.messages.create(\n",
    "    thread_id=thread.id,\n",
    "    role=\"user\",\n",
    "    content= \"User's Main Problem:\"+main_problem\n",
    ")"
   ]
  },
  {
   "cell_type": "code",
   "execution_count": 11,
   "metadata": {},
   "outputs": [
    {
     "name": "stdout",
     "output_type": "stream",
     "text": [
      "requires_action\n"
     ]
    }
   ],
   "source": [
    "run = client.beta.threads.runs.create(\n",
    "    thread_id=thread.id,\n",
    "    assistant_id=assistant.id\n",
    ")\n",
    "while run.status == \"queued\" or run.status == \"in_progress\":\n",
    "    run = client.beta.threads.runs.retrieve(\n",
    "        thread_id = thread.id,\n",
    "        run_id = run.id\n",
    "    )\n",
    "print(run.status)"
   ]
  },
  {
   "cell_type": "code",
   "execution_count": 12,
   "metadata": {},
   "outputs": [
    {
     "name": "stdout",
     "output_type": "stream",
     "text": [
      "[RequiredActionFunctionToolCall(id='call_LrUA3d4weFEDaLq7k1X0RN0f', function=Function(arguments='{\"TourName\":\"Tropical Rainforest Expedition\"}', name='getTours'), type='function')]\n"
     ]
    }
   ],
   "source": [
    "if run.status == \"requires_action\":\n",
    "    print(run.required_action.submit_tool_outputs.tool_calls)"
   ]
  },
  {
   "cell_type": "markdown",
   "metadata": {},
   "source": [
    "for func in run.required_action.submit_tool_outputs.tool_calls:\n",
    "    print(func.function.name)"
   ]
  },
  {
   "cell_type": "markdown",
   "metadata": {},
   "source": [
    "if run.status == \"requires_action\":\n",
    "    for func in run.required_action.submit_tool_outputs.tool_calls:\n",
    "        if func.function.name == \"add_Hawaii_Record\":\n",
    "            print(\"function calling: add_Hawaii_Record\")\n",
    "            run = client.beta.threads.runs.submit_tool_outputs(\n",
    "                thread_id = thread.id,\n",
    "                run_id = run.id,\n",
    "                tool_outputs = [\n",
    "                    {\n",
    "                        \"tool_call_id\": run.required_action.submit_tool_outputs.tool_calls[0].id,\n",
    "                        \"output\": \"\"\n",
    "                    }\n",
    "                ]\n",
    "            )\n",
    "        elif func.function.name == \"\":\n",
    "            pass\n",
    "else:\n",
    "    print(\"No function calling\")"
   ]
  },
  {
   "cell_type": "code",
   "execution_count": 13,
   "metadata": {},
   "outputs": [
    {
     "name": "stdout",
     "output_type": "stream",
     "text": [
      "User's Main Problem:Not gaining the medal for studying 25+ minutes with a friend\n"
     ]
    }
   ],
   "source": [
    "output = client.beta.threads.messages.list(thread_id=thread.id,order='desc').data[0].content[0].text.value\n",
    "print(output)"
   ]
  },
  {
   "cell_type": "code",
   "execution_count": 14,
   "metadata": {},
   "outputs": [
    {
     "data": {
      "text/plain": [
       "AssistantDeleted(id='asst_fioQG9PsZEsbKGWKA9AlMoeu', deleted=True, object='assistant.deleted')"
      ]
     },
     "execution_count": 14,
     "metadata": {},
     "output_type": "execute_result"
    }
   ],
   "source": [
    "client.beta.assistants.delete(assistant.id)"
   ]
  }
 ],
 "metadata": {
  "kernelspec": {
   "display_name": "VScode-env-3.10.13",
   "language": "python",
   "name": "python3"
  },
  "language_info": {
   "codemirror_mode": {
    "name": "ipython",
    "version": 3
   },
   "file_extension": ".py",
   "mimetype": "text/x-python",
   "name": "python",
   "nbconvert_exporter": "python",
   "pygments_lexer": "ipython3",
   "version": "3.10.13"
  }
 },
 "nbformat": 4,
 "nbformat_minor": 2
}
