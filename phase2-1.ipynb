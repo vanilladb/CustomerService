{
 "cells": [
  {
   "cell_type": "markdown",
   "metadata": {},
   "source": [
    "# phase 1 分完重點後，切換到對應的 thread"
   ]
  },
  {
   "cell_type": "markdown",
   "metadata": {},
   "source": [
    "step 1 只有一步"
   ]
  },
  {
   "cell_type": "code",
   "execution_count": 15,
   "metadata": {},
   "outputs": [],
   "source": [
    "import os\n",
    "import time\n",
    "from openai import OpenAI\n",
    "client = OpenAI()\n",
    "OpenAI.api_key = os.getenv('OPENAI_API_KEY')\n",
    "# print(OpenAI.api_key)"
   ]
  },
  {
   "cell_type": "code",
   "execution_count": 16,
   "metadata": {},
   "outputs": [],
   "source": [
    "import pandas as pd\n",
    "import numpy as np\n",
    "\n",
    "csv_file = './data/key_point_embeddings0527.csv'\n",
    "df = pd.read_csv(csv_file)\n",
    "data = df.to_numpy()"
   ]
  },
  {
   "cell_type": "code",
   "execution_count": 17,
   "metadata": {},
   "outputs": [],
   "source": [
    "import faiss\n",
    "\n",
    "index = faiss.IndexFlatL2(data.shape[1])\n",
    "index.add(data)"
   ]
  },
  {
   "cell_type": "code",
   "execution_count": 30,
   "metadata": {},
   "outputs": [],
   "source": [
    "def get_similar_QAK(input):\n",
    "    response = client.embeddings.create(input=input, model=\"text-embedding-3-large\", dimensions=3072)\n",
    "    key_point = np.array(response.data[0].embedding, ndmin=2)\n",
    "    distances, indices = index.search(key_point, 3)\n",
    "    QAK_csv = './data/QAK0527.csv'\n",
    "    QAK_df = pd.read_csv(QAK_csv)\n",
    "    QAK_array = QAK_df.to_numpy()\n",
    "    QAKD = [(QAK_array[i], float(dist)) for dist, i in zip(distances[0], indices[0])]\n",
    "    top3 = '{\"Three candidate problem-resolution approaches\": [\\n'\n",
    "    for i in range(0,3):\n",
    "        top3 = top3 + '{\"problem\": \"' + QAKD[i][0][0].replace(\"\\\"\", \"\\'\") + '\",\\n'\n",
    "        top3 = top3 + '\"summarized keypoints\": [\"' + QAKD[i][0][2][16:-3].replace(\"\\\"\", \"\\\"\") + '\"],\\n'\n",
    "        top3 = top3 + '\"solution\": { \\n \"form\": \"'+QAKD[i][0][3]+'\", \\n \"content\": \"' + QAKD[i][0][1].replace(\"\\\"\", \"\\'\") + '\"}},\\n'\n",
    "    top3 = top3[0:-2] + ']},'\n",
    "    return top3\n",
    "\n",
    "def get_similar_flow(input):\n",
    "    pass"
   ]
  },
  {
   "cell_type": "markdown",
   "metadata": {},
   "source": [
    "模擬 phase1"
   ]
  },
  {
   "cell_type": "code",
   "execution_count": 19,
   "metadata": {},
   "outputs": [],
   "source": [
    "question = \"I am not gaining the medal for studying 25+ minutes with a friend anymore. We also do not gain each other's plants anymore after a shared study session. What happened to these features?\""
   ]
  },
  {
   "cell_type": "code",
   "execution_count": 20,
   "metadata": {},
   "outputs": [],
   "source": [
    "instruction = \"\"\n",
    "instructions = [\n",
    "    \"# Objective: \",\n",
    "    \"As an intelligent customer service chatbot of the “Flora” focus app , my goal is to understand and help you solve problems encountered when using flora app effectively. \" ,\n",
    "    \"# Main features of the Flora app: \",\n",
    "    \"Flora is a new way to stay off your phone, clear to-do lists, and build positive, life-changing habits. Whenever you want to make progress towards your goals, plant a seed in Flora. As you work hard, the seed will grow into a healthy tree. Let the tree be your coach and grow yourself with it. You will be amazed by how great you can be. FOCUS TREES Have trouble putting down the phone? Flora blocks distracting apps in a pleasant way to help you focus on what’s more important in real life. If you cannot resist the temptation of using your phone and leave the app while growing a tree, the tree will be killed! But if succeeding, you'll unlock new trees. DOUBLE EFFICIENCY WITH FRIENDS Things get even more interesting when you challenge your friends to plant trees together—you will see who kills a tree (ouch). However, if you successfully stay away from your phones together, each of you will win an additional tree from a random friend. You can also chat and share your progress to motivate each other and keep everyone on track.* * Flora is the original app for multi-user tree planting and delivers the best features that help you and your friends be productive. TO-DO LIST & WIDGET Flora is a to-do list, and more. Simply create a to-do item and set a reminder, then you will never forget a thing. Even better, you can tag your trees with a to-do item to easily track the progress towards each of your life goals. No matter if your goal is daily, weekly, or monthly, Flora will help you follow it through and achieve it. HABIT TRACKER Enjoy a rewarding daily habit routine. If you grow trees regularly, you will earn yourself a beautiful, vibrant garden. Take a look at it and feel proud of yourself! Each tree records your perseverance and a step towards a healthy life. You can also view the daily, weekly, or monthly statistics of your activities in Flora to find opportunities to improve your time-management and planning skills. REAL TREES, REAL IMPACT Why not plant REAL trees while improving yourself? Flora proudly offers the opt-in Price and Care services that let you plant real trees on the earth if you kill or successfully grow a tree in the app. We partner with tree-planting organizations in Africa and East Asia, such as the Trees.org and Eden Reforestation Projects, to plant fast-growing soil rebuilding trees, fruit trees that diversify incomes and nutrition, and trees that can provide forage and fuel-wood. All these trees help make the earth greener and provide long-term financial aid to families who need it most. \",\n",
    "    \"# Support Process: \",\n",
    "    \"Issue Identification: To ensure that I understand your problems, I will summarize the constructive, non-emotional parts of our input text in your tone into one key point. but if one key point is not enough to describe problem, key point can be more than one. Avoid using conjunctions. Then, I will and must only output these key points in json format. \",\n",
    "    \"#Example: \",\n",
    "    \"input: How do I change my password? \",\n",
    "    'output: {\"keypoints\": [\"my problem is I need to change password.\"]}',\n",
    "    \"input: I am just doing my a-levels at the moment and I love using your app for revision. However, when I went onto the app earlier it logged me out and all my data had been lost. I was just wondering if you could help me out.\",\n",
    "    'output: {\"keypoints\": [\"My data lost after being logged out of the app.\"]}'\n",
    "    \"input: My flora friend page won't load. If I delete the app and re download it and then login. Will all my data and garden time be lost?\",\n",
    "    'output: {\"keypoints\": [\"my Flora friend page will not load.\",\"I am concern about losing data and garden time after deleting and reinstalling the app.\"]}'\n",
    "]\n",
    "for i in instructions:\n",
    "    instruction = instruction + i + \"\\n\""
   ]
  },
  {
   "cell_type": "markdown",
   "metadata": {},
   "source": [
    "模擬 phase1 拿到 key point"
   ]
  },
  {
   "cell_type": "code",
   "execution_count": 21,
   "metadata": {},
   "outputs": [
    {
     "name": "stdout",
     "output_type": "stream",
     "text": [
      "{\"keypoints\": [\"Not gaining the medal for studying 25+ minutes with a friend.\", \"Unable to gain each other's plants after a shared study session.\"]}\n"
     ]
    }
   ],
   "source": [
    "completion = client.chat.completions.create(\n",
    "    model=\"gpt-3.5-turbo-1106\",\n",
    "    messages=[\n",
    "        {\"role\": \"system\", \"content\": instruction},\n",
    "        {\"role\": \"user\", \"content\": question}\n",
    "    ]\n",
    ")\n",
    "time.sleep(5)\n",
    "key_point_json = completion.choices[0].message.content.replace(\"\\n\", \" \")\n",
    "print(key_point_json)"
   ]
  },
  {
   "cell_type": "code",
   "execution_count": 69,
   "metadata": {},
   "outputs": [
    {
     "name": "stdout",
     "output_type": "stream",
     "text": [
      "['Not gaining the medal for studying 25+ minutes with a friend.', \"Unable to gain each other's plants after a shared study session.\"]\n"
     ]
    }
   ],
   "source": [
    "import json\n",
    "\n",
    "key_point = []\n",
    "try:\n",
    "    keypoints_list = json.loads(key_point_json)[\"keypoints\"]\n",
    "    for i in range(len(keypoints_list)):\n",
    "        key_point.append(f\"{keypoints_list[i]}\")\n",
    "\n",
    "except json.JSONDecodeError as e:\n",
    "    key_point = key_point_json\n",
    "    print(\"phase1 didn't pass json format\")\n",
    "\n",
    "print(key_point)\n"
   ]
  },
  {
   "cell_type": "markdown",
   "metadata": {},
   "source": [
    "模擬 phase2"
   ]
  },
  {
   "cell_type": "code",
   "execution_count": 71,
   "metadata": {},
   "outputs": [
    {
     "name": "stdout",
     "output_type": "stream",
     "text": [
      "\n",
      "{\n",
      "\"Objective\": \"Act as an intelligent customer service chatbot for the 'Flora' focus app. Below are: A. Background of the app, B. the past conversation log with the user, obtained from the “Feedback Portal” system, C. Three candidate problem-resolution approaches, and D. Example responses. Each approach specifies a problem, a problem summarization (key point), and a solution in the form of either direct answer or resolution flow.\",\n",
      "\"Job\": [\n",
      "  \"1. Decide which candidate problem-resolution approach in C can be applied to solve the user's main problem. Note that the conversation log in B may contain irrelevant information and you should only use it as a clue for solving the user's main problem. First, if user's main problem not related to Flora, you are prohibited to answer and must reply only a special mark:'*'. Second, if the summarized key points within three problem-resolution approaches are not related to the user's main problem, you are prohibited from answering and must reply only with a special mark: '*'. Third, If there are multiple related approaches, choose the one that is the most suitable.\",\n",
      "  \"2. Based on the chosen problem-resolution approach, chat with the user to solve her main problem without any format. If the approach contains a direct answer, follow the answer to interact with the user. You must not deviate from the chat based on the answer. If the approach contains a resolution flow, follow the resolution flow one step at a time by interacting with the user and calling functions accordingly. You are prohibited from calling any function without first getting the necessary information from the user. If they deviate from the resolution flow, you must follow the resolution flow and ask users to stay on track. If the user does not provide the necessary information, politely ask again until you receive it.\",\n",
      "  \"3. If the user asks another question different from the user's main problem either during or after the problem resolution process in Step 2, prompt the user to go back to the “Feedback Portal” system to officially file the problem.\"\n",
      "],\n",
      "\"A. Main features of the Flora app\": \"Flora is a new way to stay off your phone, clear to-do lists, and build positive, life-changing habits. Whenever you want to make progress towards your goals, plant a seed in Flora. As you work hard, the seed will grow into a healthy tree. Let the tree be your coach and grow yourself with it. You will be amazed by how great you can be. FOCUS TREES Have trouble putting down the phone? Flora blocks distracting apps in a pleasant way to help you focus on what's more important in real life. If you cannot resist the temptation of using your phone and leave the app while growing a tree, the tree will be killed! But if succeeding, you'll unlock new trees. DOUBLE EFFICIENCY WITH FRIENDS Things get even more interesting when you challenge your friends to plant trees together—you will see who kills a tree (ouch). However, if you successfully stay away from your phones together, each of you will win an additional tree from a random friend. You can also chat and share your progress to motivate each other and keep everyone on track. Flora is the original app for multi-user tree planting and delivers the best features that help you and your friends be productive. TO-DO LIST & WIDGET Flora is a to-do list, and more. Simply create a to-do item and set a reminder, then you will never forget a thing. Even better, you can tag your trees with a to-do item to easily track the progress towards each of your life goals. No matter if your goal is daily, weekly, or monthly, Flora will help you follow it through and achieve it. HABIT TRACKER Enjoy a rewarding daily habit routine. If you grow trees regularly, you will earn yourself a beautiful, vibrant garden. Take a look at it and feel proud of yourself! Each tree records your perseverance and a step towards a healthy life. You can also view the daily, weekly, or monthly statistics of your activities in Flora to find opportunities to improve your time-management and planning skills. REAL TREES, REAL IMPACT Why not plant REAL trees while improving yourself? Flora proudly offers the opt-in Price and Care services that let you plant real trees on the earth if you kill or successfully grow a tree in the app. We partner with tree-planting organizations in Africa and East Asia, such as the Trees.org and Eden Reforestation Projects, to plant fast-growing soil rebuilding trees, fruit trees that diversify incomes and nutrition, and trees that can provide forage and fuel-wood. All these trees help make the earth greener and provide long-term financial aid to families who need it most.\",\n",
      "\"B. Past Conversation Log\":{\"Past Conversation Log\": [{\"role\": \"user\", \"message\": \"I am not gaining the medal for studying 25+ minutes with a friend anymore. We also do not gain each other's plants anymore after a shared study session. What happened to these features?\"}, {\"role\": \"assistant\", \"message\": \"This is my summarized key points:['Not gaining the medal for studying 25+ minutes with a friend.', 'Unable to gain each other's plants after a shared study session.'], and i will focus on main problem and help you solve it.\"}]},\n",
      "\"C. Candidate Problem-resolution Approaches\": {\"Three candidate problem-resolution approaches\": [\n",
      "{\"problem\": \"I am not gaining the medal for studying 25+ minutes with a friend anymore. We also do not gain each other's plants anymore after a shared study session. What happened to these features?\",\n",
      "\"summarized keypoints\": [\"Not gaining the medal for studying 25+ minutes with a friend anymore.\",\"Not gaining each other's plants after a shared study session.\"],\n",
      "\"solution\": { \n",
      " \"form\": \"resolution flow\", \n",
      " \"content\": \"Ask user for their ID; if(got user ID){ Ask user for the Tour name; if(got Tour name){ Call getTours function with Tour name;Call correctTourProgress function with the user's ID and Tour's ID; if(Return of correctTourProgress function){ Response user 'We will resolve this problem, thank you for your patience.'; } } else{Ask Tour Name again;} } else{Ask user ID again;} \"}},\n",
      "{\"problem\": \"my study session didn't add to my total time\",\n",
      "\"summarized keypoints\": [\"Study session time not added to total time.\"],\n",
      "\"solution\": { \n",
      " \"form\": \"resolution flow\", \n",
      " \"content\": \"Ask user for their ID; if(got user ID){ Call CheckTotalTime function with the user's ID; Response user 'We recalculate your Total time, thank you for your patience. Is this your total time ?'+Return of CheckTotalTime function; } else{Ask user ID again;} \"}},\n",
      "{\"problem\": \" I was wondering whether It was a glitch that when studying offline, the amount of time does not add to the time shown underneath 'This week', which counts your weekly number of hours. Does it add to the time at the end of the week?\",\n",
      "\"summarized keypoints\": [\"Studying offline does not add to the weekly time count underneath \\\"This week\\\".\"],\n",
      "\"solution\": { \n",
      " \"form\": \"direct answer\", \n",
      " \"content\": \"For offline planting, the weekly hours will be updated after syncing with the server. You could have a look at your Total Focus Time by tapping your avatar image to see the results. Currently, focus time on Sunday will not show properly, but the results are stored correctly. You could have a look at your Total Focus Time by tapping your avatar image to see the results. We will fix this ASAP. Thank you for your understanding. \"}}]},\n",
      "\"D. Example responses\": [\n",
      "    {\n",
      "      \"case\": \"direct answer\",\n",
      "      \"chosen_problem_resolution_approach\": {\n",
      "        \"problem\": \"How do I change my password?\",\n",
      "        \"summarized_keypoints\": \"my problem is I need to change password.\",\n",
      "        \"solution\": {\n",
      "          \"form\": \"direct answer\",\n",
      "          \"content\": \"We could not manually set your password. However, you could do the following instructions. In the 'Log In' section, there is an option 'Forgot password?'. By clicking, it would guide you through the process of resetting the password. Remember, don't swipe Flora while you go to check the passcode. In the 'Log In' section, there is an option 'Forgot password?'. By clicking, it would guide you through the process of resetting the password.\"\n",
      "        }\n",
      "      },\n",
      "      \"assistant_log\": [\n",
      "        {\"role\": \"assistant\", \"message\": \"We could not manually set your password. However, you could do the following instructions. In the 'Log In' section, there is an option 'Forgot password?'. By clicking, it would guide you through the process of resetting the password. Remember, don't swipe Flora while you go to check the passcode. In the 'Log In' section, there is an option 'Forgot password?'. By clicking, it would guide you through the process of resetting the password.\"}\n",
      "      ]\n",
      "    },\n",
      "    {\n",
      "      \"case\": \"resolution flow\",\n",
      "      \"chosen_problem_resolution_approach\": {\n",
      "        \"problem\": \"I am not gaining the medal for studying 25+ minutes with a friend anymore. We also do not gain each other's plants anymore after a shared study session. What happened to these features?\",\n",
      "        \"summarized_keypoints\": [\n",
      "          \"Not gaining the medal for studying 25+ minutes with a friend anymore.\",\n",
      "          \"Not gaining each other's plants after a shared study session.\"\n",
      "        ],\n",
      "        \"solution\": {\n",
      "          \"form\": \"resolution flow\",\n",
      "          \"content\": \"Step 1: Ask user for their ID; Step 2: Ask user for Flora Tour name; Step 3: Call getTours function with Tour name; Step 4: Call correctTourProgress function with the user's ID and Tour's ID; Step 5: if Return of correctTourProgress function is success, respond user 'We will resolve this problem, thank you for your patience.';\"\n",
      "        }\n",
      "      },\n",
      "      \"assistant_log\": [\n",
      "        {\"role\": \"assistant\", \"message\": \"Could you please provide your user ID so we can assist you further?\"},\n",
      "        {\"role\": \"user\", \"message\": \"My user ID is 123456789.\"},\n",
      "        {\"role\": \"assistant\", \"message\": \"Could you please provide the name of the Flora tour you're interested in?\"},\n",
      "        {\"role\": \"user\", \"message\": \"The name of the Flora tour I'm interested in is 'Tropical Rainforest Expedition'\"},\n",
      "        {\"role\": \"assistant\", \"message\": \"This will take a moment. please wait.\"},\n",
      "        {\"call_function\": \"getTours\", \"parameters\": {\"Tour name\": \"Tropical Rainforest Expedition\"}, \"return\": \"1\"},\n",
      "        {\"call_function\": \"correctTourProgress\", \"parameters\": {\"user's ID\": \"123456789\", \"Tour's ID\": \"1\"}, \"return\": \"success\"},\n",
      "        {\"role\": \"assistant\", \"message\": \"We will resolve this problem, thank you for your patience.\"}\n",
      "      ]\n",
      "    }\n",
      "  ]\n",
      "}\n",
      "\n"
     ]
    }
   ],
   "source": [
    "threadNum = 0\n",
    "\n",
    "instruction = \"\"\"\n",
    "{\n",
    "\"Objective\": \"Act as an intelligent customer service chatbot for the 'Flora' focus app. Below are: A. Background of the app, B. the past conversation log with the user, obtained from the “Feedback Portal” system, C. Three candidate problem-resolution approaches, and D. Example responses. Each approach specifies a problem, a problem summarization (key point), and a solution in the form of either direct answer or resolution flow.\",\n",
    "\"Job\": [\n",
    "  \"1. Decide which candidate problem-resolution approach in C can be applied to solve the user's main problem. Note that the conversation log in B may contain irrelevant information and you should only use it as a clue for solving the user's main problem. First, if user's main problem not related to Flora, you are prohibited to answer and must reply only a special mark:'*'. Second, if the summarized key points within three problem-resolution approaches are not related to the user's main problem, you are prohibited from answering and must reply only with a special mark: '*'. Third, If there are multiple related approaches, choose the one that is the most suitable.\",\n",
    "  \"2. Based on the chosen problem-resolution approach, chat with the user to solve her main problem without any format. If the approach contains a direct answer, follow the answer to interact with the user. You must not deviate from the chat based on the answer. If the approach contains a resolution flow, follow the resolution flow one step at a time by interacting with the user and calling functions accordingly. You are prohibited from calling any function without first getting the necessary information from the user. If they deviate from the resolution flow, you must follow the resolution flow and ask users to stay on track. If the user does not provide the necessary information, politely ask again until you receive it.\",\n",
    "  \"3. If the user asks another question different from the user's main problem either during or after the problem resolution process in Step 2, prompt the user to go back to the “Feedback Portal” system to officially file the problem.\"\n",
    "],\n",
    "\"A. Main features of the Flora app\": \"Flora is a new way to stay off your phone, clear to-do lists, and build positive, life-changing habits. Whenever you want to make progress towards your goals, plant a seed in Flora. As you work hard, the seed will grow into a healthy tree. Let the tree be your coach and grow yourself with it. You will be amazed by how great you can be. FOCUS TREES Have trouble putting down the phone? Flora blocks distracting apps in a pleasant way to help you focus on what's more important in real life. If you cannot resist the temptation of using your phone and leave the app while growing a tree, the tree will be killed! But if succeeding, you'll unlock new trees. DOUBLE EFFICIENCY WITH FRIENDS Things get even more interesting when you challenge your friends to plant trees together—you will see who kills a tree (ouch). However, if you successfully stay away from your phones together, each of you will win an additional tree from a random friend. You can also chat and share your progress to motivate each other and keep everyone on track. Flora is the original app for multi-user tree planting and delivers the best features that help you and your friends be productive. TO-DO LIST & WIDGET Flora is a to-do list, and more. Simply create a to-do item and set a reminder, then you will never forget a thing. Even better, you can tag your trees with a to-do item to easily track the progress towards each of your life goals. No matter if your goal is daily, weekly, or monthly, Flora will help you follow it through and achieve it. HABIT TRACKER Enjoy a rewarding daily habit routine. If you grow trees regularly, you will earn yourself a beautiful, vibrant garden. Take a look at it and feel proud of yourself! Each tree records your perseverance and a step towards a healthy life. You can also view the daily, weekly, or monthly statistics of your activities in Flora to find opportunities to improve your time-management and planning skills. REAL TREES, REAL IMPACT Why not plant REAL trees while improving yourself? Flora proudly offers the opt-in Price and Care services that let you plant real trees on the earth if you kill or successfully grow a tree in the app. We partner with tree-planting organizations in Africa and East Asia, such as the Trees.org and Eden Reforestation Projects, to plant fast-growing soil rebuilding trees, fruit trees that diversify incomes and nutrition, and trees that can provide forage and fuel-wood. All these trees help make the earth greener and provide long-term financial aid to families who need it most.\",\n",
    "\"B. Past Conversation Log\":\"\"\"\n",
    "\n",
    "partB = '{\"Past Conversation Log\": [{\"role\": \"user\", \"message\": \"' + question + '\"}, {\"role\": \"assistant\", \"message\": \"This is my summarized key points:'+ str(key_point).replace('\"',\"'\") + ', and i will focus on main problem and help you solve it.\"}]},'\n",
    "instruction = instruction + partB + \"\\n\"\n",
    "\n",
    "instruction += '\"C. Candidate Problem-resolution Approaches\": '\n",
    "main_problem = key_point[threadNum]\n",
    "top3 = get_similar_QAK(main_problem)\n",
    "instruction += top3\n",
    "example=\"\"\"\n",
    "\"D. Example responses\": [\n",
    "    {\n",
    "      \"case\": \"direct answer\",\n",
    "      \"chosen_problem_resolution_approach\": {\n",
    "        \"problem\": \"How do I change my password?\",\n",
    "        \"summarized_keypoints\": \"my problem is I need to change password.\",\n",
    "        \"solution\": {\n",
    "          \"form\": \"direct answer\",\n",
    "          \"content\": \"We could not manually set your password. However, you could do the following instructions. In the 'Log In' section, there is an option 'Forgot password?'. By clicking, it would guide you through the process of resetting the password. Remember, don't swipe Flora while you go to check the passcode. In the 'Log In' section, there is an option 'Forgot password?'. By clicking, it would guide you through the process of resetting the password.\"\n",
    "        }\n",
    "      },\n",
    "      \"assistant_log\": [\n",
    "        {\"role\": \"assistant\", \"message\": \"We could not manually set your password. However, you could do the following instructions. In the 'Log In' section, there is an option 'Forgot password?'. By clicking, it would guide you through the process of resetting the password. Remember, don't swipe Flora while you go to check the passcode. In the 'Log In' section, there is an option 'Forgot password?'. By clicking, it would guide you through the process of resetting the password.\"}\n",
    "      ]\n",
    "    },\n",
    "    {\n",
    "      \"case\": \"resolution flow\",\n",
    "      \"chosen_problem_resolution_approach\": {\n",
    "        \"problem\": \"I am not gaining the medal for studying 25+ minutes with a friend anymore. We also do not gain each other's plants anymore after a shared study session. What happened to these features?\",\n",
    "        \"summarized_keypoints\": [\n",
    "          \"Not gaining the medal for studying 25+ minutes with a friend anymore.\",\n",
    "          \"Not gaining each other's plants after a shared study session.\"\n",
    "        ],\n",
    "        \"solution\": {\n",
    "          \"form\": \"resolution flow\",\n",
    "          \"content\": \"Ask user for their ID; if(got user ID){ Ask user for the Tour name; if(got Tour name){ Call getTours function with Tour name;Call correctTourProgress function with the user's ID and Tour's ID; if(Return of correctTourProgress function){ Response user 'We will resolve this problem, thank you for your patience.'; } } else{Ask Tour Name again;} } else{Ask user ID again;}\"\n",
    "        }\n",
    "      },\n",
    "      \"assistant_log\": [\n",
    "        {\"role\": \"assistant\", \"message\": \"Could you please provide your user ID so we can assist you further?\"},\n",
    "        {\"role\": \"user\", \"message\": \"My user ID is 123456789.\"},\n",
    "        {\"role\": \"assistant\", \"message\": \"Could you please provide the name of the Flora tour you're interested in?\"},\n",
    "        {\"role\": \"user\", \"message\": \"The name of the Flora tour I'm interested in is 'Tropical Rainforest Expedition'\"},\n",
    "        {\"role\": \"assistant\", \"message\": \"This will take a moment. please wait.\"},\n",
    "        {\"call_function\": \"getTours\", \"parameters\": {\"Tour name\": \"Tropical Rainforest Expedition\"}, \"return\": \"1\"},\n",
    "        {\"call_function\": \"correctTourProgress\", \"parameters\": {\"user's ID\": \"123456789\", \"Tour's ID\": \"1\"}, \"return\": \"success\"},\n",
    "        {\"role\": \"assistant\", \"message\": \"We will resolve this problem, thank you for your patience.\"}\n",
    "      ]\n",
    "    }\n",
    "  ]\n",
    "}\n",
    "\"\"\"\n",
    "i=\"\"\"\"\"\"\n",
    "i=instruction+example\n",
    "print(i)"
   ]
  },
  {
   "cell_type": "code",
   "execution_count": 72,
   "metadata": {},
   "outputs": [],
   "source": [
    "assistant = client.beta.assistants.create(\n",
    "    name=\"customer service chatbot\",\n",
    "    instructions=instruction,\n",
    "    model=\"gpt-3.5-turbo-1106\",\n",
    "    tools = [\n",
    "        {\n",
    "            \"type\": \"function\",\n",
    "            \"function\": {\n",
    "                \"name\": \"add_Hawaii_Record\",\n",
    "                \"description\": \"success or fail using SQL to add Hawaii tour to this user\",\n",
    "                \"parameters\": {\n",
    "                    \"type\": \"object\",\n",
    "                    \"properties\": {\n",
    "                        \"user's ID\": {\n",
    "                            \"type\": \"string\",\n",
    "                            \"description\": \"user's ID in Flora app.This must be gained from asking the user.\",\n",
    "                        },\n",
    "                    },\n",
    "                    \"required\": [\"user's ID\"],\n",
    "                },\n",
    "            },\n",
    "        },\n",
    "        {\n",
    "            \"type\": \"function\",\n",
    "            \"function\": {\n",
    "                \"name\": \"getTours\",\n",
    "                \"description\": \"get Flora Tour ID with Flora Tour name\",\n",
    "                \"parameters\": {\n",
    "                    \"type\": \"object\",\n",
    "                    \"properties\": {\n",
    "                        \"Tour name\": {\n",
    "                            \"type\": \"string\",\n",
    "                            \"description\": \"Flora Tour's name in Flora app.This must be gained from asking the user.\",\n",
    "                        },\n",
    "                    },\n",
    "                    \"required\": [\"Tour name\"],\n",
    "                },\n",
    "            },\n",
    "        },\n",
    "        {\n",
    "            \"type\": \"function\",\n",
    "            \"function\": {\n",
    "                \"name\": \"correctTourProgress\",\n",
    "                \"description\": \"success or fail using SQL to correct tour's progress\",\n",
    "                \"parameters\": {\n",
    "                    \"type\": \"object\",\n",
    "                    \"properties\": {\n",
    "                        \"user's ID\": {\n",
    "                            \"type\": \"string\",\n",
    "                            \"description\": \"user's ID in Flora app.This must be gained from asking the user.\",\n",
    "                        },\n",
    "                        \"Tour's ID\": {\n",
    "                            \"type\": \"string\",\n",
    "                            \"description\": \"Tour's ID in Flora app.This must be gained from calling function'getTours'.\",\n",
    "                        },\n",
    "                    },\n",
    "                    \"required\": [\"user's ID\",\"Tour's ID\"],\n",
    "                },\n",
    "            },\n",
    "        },\n",
    "        {\n",
    "            \"type\": \"function\",\n",
    "            \"function\": {\n",
    "                \"name\": \"correctWeeklyLeaderboard\",\n",
    "                \"description\": \"success or fail using SQL to correct weekly leaderboard\",\n",
    "                \"parameters\": {\n",
    "                    \"type\": \"object\",\n",
    "                    \"properties\": {\n",
    "                        \"user's ID\": {\n",
    "                            \"type\": \"string\",\n",
    "                            \"description\": \"user's ID in Flora app.This must be gained from asking the user.\",\n",
    "                        },\n",
    "                    },\n",
    "                    \"required\": [\"user's ID\"],\n",
    "                },\n",
    "            },\n",
    "        },\n",
    "        {\n",
    "            \"type\": \"function\",\n",
    "            \"function\": {\n",
    "                \"name\": \"CheckTotalTime\",\n",
    "                \"description\": \"number or fail using SQL to recalculate of the total time\",\n",
    "                \"parameters\": {\n",
    "                    \"type\": \"object\",\n",
    "                    \"properties\": {\n",
    "                        \"user's ID\": {\n",
    "                            \"type\": \"string\",\n",
    "                            \"description\": \"user's ID in Flora app.This must be gained from asking the user.\",\n",
    "                        },\n",
    "                    },\n",
    "                    \"required\": [\"user's ID\"],\n",
    "                },\n",
    "            },\n",
    "        }\n",
    "    ]\n",
    ")\n",
    "\n",
    "thread = client.beta.threads.create()\n",
    "\n",
    "message = client.beta.threads.messages.create(\n",
    "    thread_id=thread.id,\n",
    "    role=\"user\",\n",
    "    content= \"User's Main Problem:\"+main_problem\n",
    ")"
   ]
  },
  {
   "cell_type": "code",
   "execution_count": 73,
   "metadata": {},
   "outputs": [
    {
     "name": "stdout",
     "output_type": "stream",
     "text": [
      "requires_action\n"
     ]
    }
   ],
   "source": [
    "run = client.beta.threads.runs.create(\n",
    "    thread_id=thread.id,\n",
    "    assistant_id=assistant.id\n",
    ")\n",
    "while run.status == \"queued\" or run.status == \"in_progress\":\n",
    "    run = client.beta.threads.runs.retrieve(\n",
    "        thread_id = thread.id,\n",
    "        run_id = run.id\n",
    "    )\n",
    "print(run.status)"
   ]
  },
  {
   "cell_type": "code",
   "execution_count": 74,
   "metadata": {},
   "outputs": [
    {
     "name": "stdout",
     "output_type": "stream",
     "text": [
      "[RequiredActionFunctionToolCall(id='call_AofF2UZZSVqJ3upOdwSPOpzq', function=Function(arguments='{\"Tour name\": \"Studying Medal\"}', name='getTours'), type='function'), RequiredActionFunctionToolCall(id='call_i0keI0JkjfEC2GrzOe8ArLpQ', function=Function(arguments='{\"user\\'s ID\": \"user123\"}', name='add_Hawaii_Record'), type='function')]\n"
     ]
    }
   ],
   "source": [
    "if run.status == \"requires_action\":\n",
    "    print(run.required_action.submit_tool_outputs.tool_calls)"
   ]
  },
  {
   "cell_type": "markdown",
   "metadata": {},
   "source": [
    "for func in run.required_action.submit_tool_outputs.tool_calls:\n",
    "    print(func.function.name)"
   ]
  },
  {
   "cell_type": "markdown",
   "metadata": {},
   "source": [
    "if run.status == \"requires_action\":\n",
    "    for func in run.required_action.submit_tool_outputs.tool_calls:\n",
    "        if func.function.name == \"add_Hawaii_Record\":\n",
    "            print(\"function calling: add_Hawaii_Record\")\n",
    "            run = client.beta.threads.runs.submit_tool_outputs(\n",
    "                thread_id = thread.id,\n",
    "                run_id = run.id,\n",
    "                tool_outputs = [\n",
    "                    {\n",
    "                        \"tool_call_id\": run.required_action.submit_tool_outputs.tool_calls[0].id,\n",
    "                        \"output\": \"\"\n",
    "                    }\n",
    "                ]\n",
    "            )\n",
    "        elif func.function.name == \"\":\n",
    "            pass\n",
    "else:\n",
    "    print(\"No function calling\")"
   ]
  },
  {
   "cell_type": "code",
   "execution_count": 75,
   "metadata": {},
   "outputs": [
    {
     "name": "stdout",
     "output_type": "stream",
     "text": [
      "User's Main Problem:Not gaining the medal for studying 25+ minutes with a friend.\n"
     ]
    }
   ],
   "source": [
    "output = client.beta.threads.messages.list(thread_id=thread.id,order='desc').data[0].content[0].text.value\n",
    "print(output)"
   ]
  },
  {
   "cell_type": "code",
   "execution_count": 76,
   "metadata": {},
   "outputs": [
    {
     "data": {
      "text/plain": [
       "AssistantDeleted(id='asst_QIozdvF1ElqZuymObsNt7NqF', deleted=True, object='assistant.deleted')"
      ]
     },
     "execution_count": 76,
     "metadata": {},
     "output_type": "execute_result"
    }
   ],
   "source": [
    "client.beta.assistants.delete(assistant.id)"
   ]
  }
 ],
 "metadata": {
  "kernelspec": {
   "display_name": "VScode-env-3.10.13",
   "language": "python",
   "name": "python3"
  },
  "language_info": {
   "codemirror_mode": {
    "name": "ipython",
    "version": 3
   },
   "file_extension": ".py",
   "mimetype": "text/x-python",
   "name": "python",
   "nbconvert_exporter": "python",
   "pygments_lexer": "ipython3",
   "version": "3.10.13"
  }
 },
 "nbformat": 4,
 "nbformat_minor": 2
}
