{
 "cells": [
  {
   "cell_type": "markdown",
   "metadata": {},
   "source": [
    "# Phase 1"
   ]
  },
  {
   "cell_type": "code",
   "execution_count": null,
   "metadata": {},
   "outputs": [],
   "source": [
    "import os\n",
    "import time\n",
    "from openai import OpenAI\n",
    "import json"
   ]
  },
  {
   "cell_type": "code",
   "execution_count": null,
   "metadata": {},
   "outputs": [],
   "source": [
    "client = OpenAI()\n",
    "OpenAI.api_key = os.getenv('OPENAI_API_KEY')"
   ]
  },
  {
   "cell_type": "code",
   "execution_count": null,
   "metadata": {},
   "outputs": [],
   "source": [
    "phase1_assistant_id = None\n",
    "phase1_thread_id = None"
   ]
  },
  {
   "cell_type": "code",
   "execution_count": null,
   "metadata": {},
   "outputs": [],
   "source": [
    "instruction = \"\"\"\n",
    "    #Objective:\n",
    "    As an intelligent customer service chatbot of the “Flora” focus app, my goal is to understand and help you solve problems encountered when using the Flora app effectively.\n",
    "    #Main features of the Flora app:\n",
    "    Flora is a new way to stay off your phone, clear to-do lists, and build positive, life-changing habits. Whenever you want to make progress towards your goals, plant a seed in Flora. As you work hard, the seed will grow into a healthy tree. Let the tree be your coach and grow yourself with it. You will be amazed by how great you can be.\n",
    "    FOCUS TREES\n",
    "    Have trouble putting down the phone? Flora blocks distracting apps in a pleasant way to help you focus on what’s more important in real life. If you cannot resist the temptation of using your phone and leave the app while growing a tree, the tree will be killed! But if succeeding, you'll unlock new trees.\n",
    "    DOUBLE EFFICIENCY WITH FRIENDS\n",
    "    Things get even more interesting when you challenge your friends to plant trees together—you will see who kills a tree (ouch). However, if you successfully stay away from your phones together, each of you will win an additional tree from a random friend. You can also chat and share your progress to motivate each other and keep everyone on track. Flora is the original app for multi-user tree planting and delivers the best features that help you and your friends be productive.\n",
    "    TO-DO LIST & WIDGET\n",
    "    Flora is a to-do list, and more. Simply create a to-do item and set a reminder, then you will never forget a thing. Even better, you can tag your trees with a to-do item to easily track the progress towards each of your life goals. No matter if your goal is daily, weekly, or monthly, Flora will help you follow it through and achieve it.\n",
    "    HABIT TRACKER\n",
    "    Enjoy a rewarding daily habit routine. If you grow trees regularly, you will earn yourself a beautiful, vibrant garden. Take a look at it and feel proud of yourself! Each tree records your perseverance and a step towards a healthy life. You can also view the daily, weekly, or monthly statistics of your activities in Flora to find opportunities to improve your time-management and planning skills.\n",
    "    REAL TREES, REAL IMPACT\n",
    "    Why not plant REAL trees while improving yourself? Flora proudly offers the opt-in Price and Care services that let you plant real trees on the earth if you kill or successfully grow a tree in the app. We partner with tree-planting organizations in Africa and East Asia, such as the Trees.org and Eden Reforestation Projects, to plant fast-growing soil rebuilding trees, fruit trees that diversify incomes and nutrition, and trees that can provide forage and fuel-wood. All these trees help make the earth greener and provide long-term financial aid to families who need it most.\n",
    "    #Job:\n",
    "    Step 1: To ensure I fully understand your problem, I will output follow-up questions if your issue is unclear or if the reason behind your problem is not fully explained. Skip to Step 2 if the problem is clear enough for Flora customer service to solve.\n",
    "    Step 2: After fully understanding your problem, I will summarize the essential, constructive, concise, and objective parts of your input in your tone into key points. \n",
    "    #Rule:\n",
    "    1. Step 1 can be done multiple times, but one question at a time, and the output must be a JSON object using key 'messages' for our Python function to work as a parameter.\n",
    "    2. Step 2 can only be done once, so summarize key points with caution. The output must be a JSON object using key 'keypoints' for our Python function to work as a parameter.\n",
    "    3. Ensure each key point includes both the specific issue and the context needed to address it, so each key point can be solved independently.\n",
    "    4. Consolidate key points from Step 2 that address the same issue into a single, comprehensive key point. Ensure that each consolidated key point includes all relevant details and aspects of the issue to avoid redundancy and provide a clear, unified description of the problem.\n",
    "    5. If multiple key points from Step 2 summarize the same problem, combine them into a single, comprehensive key point to avoid redundancy.\n",
    "    6. Each key point will be assigned to one human to solve, and they can't see each other. So, Rules 3, 4, and 5 are very important.\n",
    "    #Example:\n",
    "    input: How do I change my password?\n",
    "    output: {\"keypoints\": [\"My problem is I need to change my password.\"]}\n",
    "    input: I am just doing my a-levels at the moment and I love using your app for revision. However, when I went onto the app earlier it logged me out and all my data had been lost. I was just wondering if you could help me out.\n",
    "    output: {\"keypoints\": [\"My data was lost after being logged out of the app.\"]}\n",
    "    input: My flora friend page won't load. If I delete the app and re-download it and then login. Will all my data and garden time be lost?\n",
    "    output: {\"keypoints\": [\"My Flora friend page will not load.\", \"I am concerned about losing data and garden time after deleting and reinstalling the app.\"]}\n",
    "    input: The app is full of bugs.\n",
    "    output: {\"messages\": [\"I'm sorry, I didn't understand that. Could you please provide more details or specify the issue you are facing with the Flora app?\"]}\n",
    "\"\"\""
   ]
  },
  {
   "cell_type": "code",
   "execution_count": null,
   "metadata": {},
   "outputs": [],
   "source": [
    "def phase1(input):\n",
    "    assistant = client.beta.assistants.create(\n",
    "        name = \"Intelligent customer service chatbot\",\n",
    "        instructions = instruction,\n",
    "        # model = \"gpt-3.5-turbo-1106\"\n",
    "        model = \"gpt-4o-mini\"\n",
    "    )\n",
    "    global phase1_assistant_id\n",
    "    phase1_assistant_id = assistant.id\n",
    "\n",
    "    thread = client.beta.threads.create()\n",
    "    global phase1_thread_id\n",
    "    phase1_thread_id = thread.id\n",
    "\n",
    "    message = client.beta.threads.messages.create(\n",
    "        thread_id = thread.id,\n",
    "        role = \"user\",\n",
    "        content = input\n",
    "    )\n",
    "\n",
    "    run = client.beta.threads.runs.create(\n",
    "        thread_id = thread.id,\n",
    "        assistant_id = assistant.id\n",
    "    )\n",
    "    while run.status == \"queued\" or run.status == \"in_progress\":\n",
    "        run = client.beta.threads.runs.retrieve(\n",
    "            thread_id = thread.id,\n",
    "            run_id = run.id\n",
    "        )\n",
    "\n",
    "    messages = client.beta.threads.messages.list(\n",
    "        thread_id = thread.id,\n",
    "        order = 'asc'\n",
    "    )\n",
    "\n",
    "    user_or_assistant = 0\n",
    "    for i in messages.data:\n",
    "        if user_or_assistant == 0:\n",
    "            print(\"User: \")\n",
    "            user_or_assistant = 1\n",
    "        elif user_or_assistant == 1:\n",
    "            print(\"Assistant: \")\n",
    "            user_or_assistant = 0\n",
    "        print(i.content[0].text.value)\n",
    "    \n",
    "    # if app need return the last sentence\n",
    "    # response = messages.data[-1].content[0].text.value\n",
    "    # return response"
   ]
  },
  {
   "cell_type": "code",
   "execution_count": null,
   "metadata": {},
   "outputs": [],
   "source": [
    "def chat(input):\n",
    "    message = client.beta.threads.messages.create(\n",
    "        thread_id = phase1_thread_id,\n",
    "        role = \"user\",\n",
    "        content = input\n",
    "    )\n",
    "\n",
    "    run = client.beta.threads.runs.create(\n",
    "        assistant_id = phase1_assistant_id,\n",
    "        thread_id = phase1_thread_id\n",
    "    )\n",
    "    while run.status == \"queued\" or run.status == \"in_progress\":\n",
    "        run = client.beta.threads.runs.retrieve(\n",
    "            thread_id = phase1_thread_id,\n",
    "            run_id = run.id\n",
    "        )\n",
    "\n",
    "\n",
    "    # need to handle request erroe\n",
    "    \n",
    "    \n",
    "    # get result message\n",
    "    messages = client.beta.threads.messages.list(\n",
    "        thread_id = phase1_thread_id,\n",
    "        order = 'asc'\n",
    "    )\n",
    "\n",
    "    user_or_assistant = 0\n",
    "    for i in messages.data:\n",
    "        if user_or_assistant == 0:\n",
    "            print(\"User: \")\n",
    "            user_or_assistant = 1\n",
    "        elif user_or_assistant == 1:\n",
    "            print(\"Assistant: \")\n",
    "            user_or_assistant = 0\n",
    "        print(i.content[0].text.value)\n",
    "        \n",
    "    # response = messages.data[-1].content[0].text.value\n",
    "    # return response"
   ]
  },
  {
   "cell_type": "markdown",
   "metadata": {},
   "source": [
    "# Test"
   ]
  },
  {
   "cell_type": "code",
   "execution_count": null,
   "metadata": {},
   "outputs": [],
   "source": [
    "input = \"\"\n",
    "phase1(input)"
   ]
  },
  {
   "cell_type": "code",
   "execution_count": null,
   "metadata": {},
   "outputs": [],
   "source": [
    "input = \"\"\n",
    "chat(input)"
   ]
  },
  {
   "cell_type": "markdown",
   "metadata": {},
   "source": [
    "# JSON Format"
   ]
  },
  {
   "cell_type": "code",
   "execution_count": null,
   "metadata": {},
   "outputs": [],
   "source": [
    "messages = client.beta.threads.messages.list(\n",
    "    thread_id = phase1_thread_id,\n",
    "    order = 'asc'\n",
    ")\n",
    "\n",
    "conversation_log = {\"Past Converstion Log\": []}\n",
    "\n",
    "user_or_assistant = 0\n",
    "for i in messages.data:\n",
    "    role = \"user\" if user_or_assistant == 0 else \"assistant\"\n",
    "    message = i.content[0].text.value.replace(\"\\n\", \" \")\n",
    "\n",
    "    conversation_log[\"Past Converstion Log\"].append({\n",
    "        \"role\": role,\n",
    "        \"message\": message\n",
    "    })\n",
    "    \n",
    "    user_or_assistant = 1 - user_or_assistant\n",
    "\n",
    "conversation_log_json = json.dumps(conversation_log, ensure_ascii=False, indent=4)\n",
    "\n",
    "keypoints_list = []\n",
    "\n",
    "try: \n",
    "    last_message = conversation_log[\"Past Converstion Log\"][-1][\"message\"]\n",
    "    keypoints = json.loads(last_message)[\"keypoints\"]\n",
    "    for keypoint in keypoints:\n",
    "        keypoints_list.append(keypoint)\n",
    "except json.JSONDecodeError as e:\n",
    "    pass"
   ]
  },
  {
   "cell_type": "code",
   "execution_count": null,
   "metadata": {},
   "outputs": [],
   "source": [
    "print(conversation_log_json)"
   ]
  },
  {
   "cell_type": "markdown",
   "metadata": {},
   "source": [
    "# Result"
   ]
  },
  {
   "cell_type": "code",
   "execution_count": null,
   "metadata": {},
   "outputs": [],
   "source": [
    "conversation_log_json"
   ]
  },
  {
   "cell_type": "code",
   "execution_count": null,
   "metadata": {},
   "outputs": [],
   "source": [
    "keypoints_list"
   ]
  },
  {
   "cell_type": "markdown",
   "metadata": {},
   "source": [
    "# Delete Assistant"
   ]
  },
  {
   "cell_type": "code",
   "execution_count": null,
   "metadata": {},
   "outputs": [],
   "source": [
    "client.beta.assistants.delete(phase1_assistant_id)"
   ]
  }
 ],
 "metadata": {
  "kernelspec": {
   "display_name": "VScode-env-3.10.13",
   "language": "python",
   "name": "python3"
  },
  "language_info": {
   "codemirror_mode": {
    "name": "ipython",
    "version": 3
   },
   "file_extension": ".py",
   "mimetype": "text/x-python",
   "name": "python",
   "nbconvert_exporter": "python",
   "pygments_lexer": "ipython3",
   "version": "3.10.13"
  }
 },
 "nbformat": 4,
 "nbformat_minor": 2
}
