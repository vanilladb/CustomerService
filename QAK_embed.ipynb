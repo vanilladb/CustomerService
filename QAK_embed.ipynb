{
 "cells": [
  {
   "cell_type": "code",
   "execution_count": 1,
   "metadata": {},
   "outputs": [],
   "source": [
    "from openai import OpenAI\n",
    "import os\n",
    "import time\n",
    "import json\n",
    "\n",
    "import openpyxl\n",
    "import pandas as pd\n",
    "import csv\n",
    "\n",
    "client = OpenAI()\n",
    "OpenAI.api_key = os.getenv('OPENAI_API_KEY')\n",
    "# print(OpenAI.api_key)"
   ]
  },
  {
   "cell_type": "code",
   "execution_count": 17,
   "metadata": {},
   "outputs": [],
   "source": [
    "workbook = openpyxl.load_workbook('data\\ExampleFunctionCall.xlsx')\n",
    "sheet = workbook['Testset']\n",
    "new_sheet = workbook['A']"
   ]
  },
  {
   "cell_type": "code",
   "execution_count": 19,
   "metadata": {},
   "outputs": [],
   "source": [
    "for i in range(2,211):\n",
    "    if sheet['D'+str(i)].value == \"advice\":\n",
    "        data_to_copy = []\n",
    "        for cell in sheet[i]:\n",
    "            data_to_copy.append(cell.value)\n",
    "        new_sheet.append(data_to_copy)\n"
   ]
  },
  {
   "cell_type": "code",
   "execution_count": 20,
   "metadata": {},
   "outputs": [],
   "source": [
    "workbook.save('data\\ExampleFunctionCall.xlsx')"
   ]
  },
  {
   "cell_type": "code",
   "execution_count": null,
   "metadata": {},
   "outputs": [],
   "source": [
    "for i in range(2,623):\n",
    "    if(not sheet['C'+str(i)].value.startswith(\"function_\")):\n",
    "        # print(i)\n",
    "        sheet['E'+str(i)].value = \"direct answer\""
   ]
  },
  {
   "cell_type": "code",
   "execution_count": null,
   "metadata": {},
   "outputs": [],
   "source": [
    "for i in range(2,623):\n",
    "    if(sheet['B'+str(i)].value == \"function_6\"):\n",
    "        print(i)"
   ]
  },
  {
   "cell_type": "code",
   "execution_count": null,
   "metadata": {},
   "outputs": [],
   "source": [
    "workbook.save('QAK0620.xlsx')"
   ]
  },
  {
   "cell_type": "code",
   "execution_count": null,
   "metadata": {},
   "outputs": [],
   "source": [
    "instruction = \"\"\"\n",
    "    # Objective:\n",
    "    As an intelligent customer service chatbot of the “Flora” focus app , my goal is to understand and help you solve problems encountered when using flora app effectively.\n",
    "    # Main features of the Flora app:\n",
    "    Flora is a new way to stay off your phone, clear to-do lists, and build positive, life-changing habits. Whenever you want to make progress towards your goals, plant a seed in Flora. As you work hard, the seed will grow into a healthy tree. Let the tree be your coach and grow yourself with it. You will be amazed by how great you can be. FOCUS TREES Have trouble putting down the phone? Flora blocks distracting apps in a pleasant way to help you focus on what’s more important in real life. If you cannot resist the temptation of using your phone and leave the app while growing a tree, the tree will be killed! But if succeeding, you'll unlock new trees. DOUBLE EFFICIENCY WITH FRIENDS Things get even more interesting when you challenge your friends to plant trees together—you will see who kills a tree (ouch). However, if you successfully stay away from your phones together, each of you will win an additional tree from a random friend. You can also chat and share your progress to motivate each other and keep everyone on track.* * Flora is the original app for multi-user tree planting and delivers the best features that help you and your friends be productive. TO-DO LIST & WIDGET Flora is a to-do list, and more. Simply create a to-do item and set a reminder, then you will never forget a thing. Even better, you can tag your trees with a to-do item to easily track the progress towards each of your life goals. No matter if your goal is daily, weekly, or monthly, Flora will help you follow it through and achieve it. HABIT TRACKER Enjoy a rewarding daily habit routine. If you grow trees regularly, you will earn yourself a beautiful, vibrant garden. Take a look at it and feel proud of yourself! Each tree records your perseverance and a step towards a healthy life. You can also view the daily, weekly, or monthly statistics of your activities in Flora to find opportunities to improve your time-management and planning skills. REAL TREES, REAL IMPACT Why not plant REAL trees while improving yourself? Flora proudly offers the opt-in Price and Care services that let you plant real trees on the earth if you kill or successfully grow a tree in the app. We partner with tree-planting organizations in Africa and East Asia, such as the Trees.org and Eden Reforestation Projects, to plant fast-growing soil rebuilding trees, fruit trees that diversify incomes and nutrition, and trees that can provide forage and fuel-wood. All these trees help make the earth greener and provide long-term financial aid to families who need it most.\n",
    "    # Support Process:\n",
    "    Issue Identification: To ensure that I understand your problems, I will summarize the constructive, non-emotional parts of our input text in your tone into one key point. but if one key point is not enough to describe problem, key point can be more than one. Avoid using conjunctions. Then, I will and must only output these key points in json format.\n",
    "    # Example:\n",
    "    input: How do I change my password?\n",
    "    output: {\"keypoints\": [\"my problem is I need to change password.\"]}\n",
    "    input: I am just doing my a-levels at the moment and I love using your app for revision. However, when I went onto the app earlier it logged me out and all my data had been lost. I was just wondering if you could help me out.\n",
    "    output: {\"keypoints\": [\"My data lost after being logged out of the app.\"]}\n",
    "    input: My flora friend page won't load. If I delete the app and re download it and then login. Will all my data and garden time be lost?\n",
    "    output: {\"keypoints\": [\"my Flora friend page will not load.\",\"I am concern about losing data and garden time after deleting and reinstalling the app.\"]}\n",
    "\"\"\"\n",
    "\n",
    "print(instruction)"
   ]
  },
  {
   "cell_type": "code",
   "execution_count": null,
   "metadata": {},
   "outputs": [],
   "source": [
    "with open('QAK0620.csv') as file:\n",
    "    reader = csv.reader(file)\n",
    "    data = list(reader)"
   ]
  },
  {
   "cell_type": "code",
   "execution_count": null,
   "metadata": {},
   "outputs": [],
   "source": [
    "def is_json(myjson):\n",
    "    try:\n",
    "        json.loads(myjson)\n",
    "    except ValueError:\n",
    "        return False\n",
    "    return True\n",
    "\n",
    "for i in range(2,624):\n",
    "    if not is_json(data[i][2]):\n",
    "        print(i)"
   ]
  },
  {
   "cell_type": "code",
   "execution_count": null,
   "metadata": {},
   "outputs": [],
   "source": [
    "for i in range(669,670):\n",
    "\n",
    "    question = data[i][0]\n",
    "\n",
    "    completion = client.chat.completions.create(\n",
    "        model=\"gpt-3.5-turbo-1106\",\n",
    "        messages=[\n",
    "            {\"role\": \"system\", \"content\": instruction},\n",
    "            {\"role\": \"user\", \"content\": question}\n",
    "        ]\n",
    "    )\n",
    "    time.sleep(3)\n",
    "    ##data[i].append(completion.choices[0].message.content.replace(\"\\n\", \" \"))\n",
    "    keyjson = completion.choices[0].message.content\n",
    "    if is_json(keyjson):\n",
    "        data[i].append(completion.choices[0].message.content.replace(\"\\n\", \" \"))\n",
    "    else:\n",
    "        data[i].append('*')\n"
   ]
  },
  {
   "cell_type": "code",
   "execution_count": null,
   "metadata": {},
   "outputs": [],
   "source": [
    "with open('./data/QAK.csv', 'w', newline='') as file:\n",
    "    writer = csv.writer(file)\n",
    "    writer.writerows(data)"
   ]
  },
  {
   "cell_type": "code",
   "execution_count": null,
   "metadata": {},
   "outputs": [],
   "source": [
    "df = pd.read_csv(\"QAK0620.csv\")\n",
    "print(df)"
   ]
  },
  {
   "cell_type": "code",
   "execution_count": 2,
   "metadata": {},
   "outputs": [],
   "source": [
    "def get_text_embeddings(csv_file, max_length=8191):\n",
    "    df = pd.read_csv(csv_file)\n",
    "    QP = []\n",
    "    embeddings = []\n",
    "\n",
    "    for index, row in df.iterrows():\n",
    "\n",
    "        question = row['Question']\n",
    "        key_point = row['Key_Point']\n",
    "        key_str = \"\"\n",
    "        for key in json.loads(key_point)['keypoints']:\n",
    "            key_str = key_str+key\n",
    "\n",
    "        # Concatenate question and key point strings\n",
    "        concatenated_text = f\"{question}{key_str}\"\n",
    "\n",
    "        # Split the text into tokens\n",
    "        tokens = concatenated_text.split()\n",
    "\n",
    "        # Truncate or pad the tokens to the maximum length\n",
    "        tokens = tokens[:max_length]\n",
    "\n",
    "        # Join the tokens back into a single string\n",
    "        truncated_text = ' '.join(tokens)\n",
    "\n",
    "        # Get the text embeddings using OpenAI\n",
    "        embedding = client.embeddings.create(input=[truncated_text], model=\"text-embedding-3-large\", dimensions=3072).data[0].embedding\n",
    "        time.sleep(3)\n",
    "\n",
    "        # Append the embedding to the list\n",
    "        QP.append(concatenated_text)\n",
    "        embeddings.append(embedding)\n",
    "\n",
    "    # Create a new DataFrame with the embeddings\n",
    "    QP_df =  pd.DataFrame(QP)\n",
    "    embeddings_df = pd.DataFrame(embeddings)\n",
    "\n",
    "    return embeddings_df"
   ]
  },
  {
   "cell_type": "code",
   "execution_count": 3,
   "metadata": {},
   "outputs": [],
   "source": [
    "df_QP, df_embeddings = get_text_embeddings('QAK0620.csv')\n",
    "df_QP.to_csv('./data/QP0620.csv', index=False)\n",
    "df_embeddings.to_csv('./data/QK_embeddings0620.csv', index=False)"
   ]
  }
 ],
 "metadata": {
  "kernelspec": {
   "display_name": "VScode-env-3.10.13",
   "language": "python",
   "name": "python3"
  },
  "language_info": {
   "codemirror_mode": {
    "name": "ipython",
    "version": 3
   },
   "file_extension": ".py",
   "mimetype": "text/x-python",
   "name": "python",
   "nbconvert_exporter": "python",
   "pygments_lexer": "ipython3",
   "version": "3.10.13"
  }
 },
 "nbformat": 4,
 "nbformat_minor": 2
}
