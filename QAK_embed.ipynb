{
 "cells": [
  {
   "cell_type": "code",
   "execution_count": null,
   "metadata": {},
   "outputs": [],
   "source": [
    "import os\n",
    "import time\n",
    "from openai import OpenAI\n",
    "client = OpenAI()\n",
    "OpenAI.api_key = os.getenv('OPENAI_API_KEY')\n",
    "print(OpenAI.api_key)"
   ]
  },
  {
   "cell_type": "code",
   "execution_count": null,
   "metadata": {},
   "outputs": [],
   "source": [
    "instructions = [\n",
    "    \"# Objective: \",\n",
    "    \"As an intelligent customer service chatbot of the “Flora” focus app , my goal is to understand and help you solve problems encountered when using flora app effectively.\" ,\n",
    "    \"# Main features of the Flora app: \",\n",
    "    \"Flora is a new way to stay off your phone, clear to-do lists, and build positive, life-changing habits. Whenever you want to make progress towards your goals, plant a seed in Flora. As you work hard, the seed will grow into a healthy tree. Let the tree be your coach and grow yourself with it. You will be amazed by how great you can be. FOCUS TREES Have trouble putting down the phone? Flora blocks distracting apps in a pleasant way to help you focus on what’s more important in real life. If you cannot resist the temptation of using your phone and leave the app while growing a tree, the tree will be killed! But if succeeding, you'll unlock new trees. DOUBLE EFFICIENCY WITH FRIENDS Things get even more interesting when you challenge your friends to plant trees together—you will see who kills a tree (ouch). However, if you successfully stay away from your phones together, each of you will win an additional tree from a random friend. You can also chat and share your progress to motivate each other and keep everyone on track.* * Flora is the original app for multi-user tree planting and delivers the best features that help you and your friends be productive. TO-DO LIST & WIDGET Flora is a to-do list, and more. Simply create a to-do item and set a reminder, then you will never forget a thing. Even better, you can tag your trees with a to-do item to easily track the progress towards each of your life goals. No matter if your goal is daily, weekly, or monthly, Flora will help you follow it through and achieve it. HABIT TRACKER Enjoy a rewarding daily habit routine. If you grow trees regularly, you will earn yourself a beautiful, vibrant garden. Take a look at it and feel proud of yourself! Each tree records your perseverance and a step towards a healthy life. You can also view the daily, weekly, or monthly statistics of your activities in Flora to find opportunities to improve your time-management and planning skills. REAL TREES, REAL IMPACT Why not plant REAL trees while improving yourself? Flora proudly offers the opt-in Price and Care services that let you plant real trees on the earth if you kill or successfully grow a tree in the app. We partner with tree-planting organizations in Africa and East Asia, such as the Trees.org and Eden Reforestation Projects, to plant fast-growing soil rebuilding trees, fruit trees that diversify incomes and nutrition, and trees that can provide forage and fuel-wood. All these trees help make the earth greener and provide long-term financial aid to families who need it most.\",\n",
    "    \"# Support Process: \",\n",
    "    \"1. Issue Identification: To ensure that I understand your problems, I will summarize the constructive, non-emotional parts of your input text in your tone into one or more key points. Then, I will and must list these key points in bullet form starting with '-' and confirm with you if they are correct.\",\n",
    "    \"2. Verification & Refinement: If you have following-up clarification for any key point, I'll refine the key points by considering your clarification. I will also identify new key points and add them into the refined list.\",\n",
    "    \"3. Repeat: I'll repeat the previous two steps until you're satisfied. \"\n",
    "]\n",
    "\n",
    "instruction = \"\"\n",
    "for i in instructions:\n",
    "    instruction += i\n",
    "\n",
    "print(instruction)"
   ]
  },
  {
   "cell_type": "code",
   "execution_count": null,
   "metadata": {},
   "outputs": [],
   "source": [
    "import csv\n",
    "\n",
    "with open('./data/manual.csv') as file:\n",
    "    reader = csv.reader(file)\n",
    "    data = list(reader)\n",
    "\n",
    "data[0].append('Key_Point')"
   ]
  },
  {
   "cell_type": "code",
   "execution_count": null,
   "metadata": {},
   "outputs": [],
   "source": [
    "for i in range(1,670):\n",
    "\n",
    "    question = data[i][0]\n",
    "\n",
    "    completion1 = client.chat.completions.create(\n",
    "        model=\"gpt-3.5-turbo-1106\",\n",
    "        messages=[\n",
    "            {\"role\": \"system\", \"content\": instruction},\n",
    "            {\"role\": \"user\", \"content\": question}\n",
    "        ]\n",
    "    )\n",
    "    time.sleep(3)\n",
    "\n",
    "    completion2 = client.chat.completions.create(\n",
    "        model=\"gpt-3.5-turbo-1106\",\n",
    "        messages=[\n",
    "            {\"role\": \"system\", \"content\": \"Retain only the key points which is a sentence starting with '-'. Ensure that the retained key points remain unchanged and intact. Delete any content that is not included in the key points.\"},\n",
    "            {\"role\": \"user\", \"content\": \"Retain only the key points which is a sentence starting with '-'. Ensure that the retained key points remain unchanged and intact. Delete any content that is not included in the key points: \\n\" + completion1.choices[0].message.content}\n",
    "        ]\n",
    "    )\n",
    "    time.sleep(3)\n",
    "\n",
    "    data[i].append(completion2.choices[0].message.content.replace(\"\\n\", \" \"))\n",
    "\n",
    "with open('./QAK.csv', 'w', newline='') as file:\n",
    "    writer = csv.writer(file)\n",
    "    writer.writerows(data)"
   ]
  },
  {
   "cell_type": "code",
   "execution_count": null,
   "metadata": {},
   "outputs": [],
   "source": [
    "import pandas as pd\n",
    "\n",
    "def get_text_embeddings(csv_file, max_length=8191):\n",
    "    df = pd.read_csv(csv_file)\n",
    "    embeddings = []\n",
    "\n",
    "    for index, row in df.iterrows():\n",
    "        \n",
    "        question = row['Question']\n",
    "        answer = row['Answer']\n",
    "        key_point = row['Key_Point']\n",
    "\n",
    "        # Split the text into tokens\n",
    "        tokens = key_point.split()\n",
    "\n",
    "        # Truncate or pad the tokens to the maximum length\n",
    "        tokens = tokens[:max_length]\n",
    "\n",
    "        # Join the tokens back into a single string\n",
    "        truncated_text = ' '.join(tokens)\n",
    "\n",
    "        # Get the text embeddings using OpenAI\n",
    "        embedding = client.embeddings.create(input=[truncated_text], model=\"text-embedding-3-large\", dimensions=3072).data[0].embedding\n",
    "        time.sleep(3)\n",
    "        \n",
    "        # Append the embedding to the list\n",
    "        embeddings.append(embedding)\n",
    "\n",
    "    # Create a new DataFrame with the embeddings\n",
    "    embeddings_df = pd.DataFrame(embeddings)\n",
    "\n",
    "    return embeddings_df"
   ]
  },
  {
   "cell_type": "code",
   "execution_count": null,
   "metadata": {},
   "outputs": [],
   "source": [
    "embeddings_df = get_text_embeddings('QAK.csv')\n",
    "embeddings_df.to_csv('./data/key_point_embeddings.csv', index=False)"
   ]
  }
 ],
 "metadata": {
  "kernelspec": {
   "display_name": "VScode-env-3.10.13",
   "language": "python",
   "name": "python3"
  },
  "language_info": {
   "codemirror_mode": {
    "name": "ipython",
    "version": 3
   },
   "file_extension": ".py",
   "mimetype": "text/x-python",
   "name": "python",
   "nbconvert_exporter": "python",
   "pygments_lexer": "ipython3",
   "version": "3.10.13"
  }
 },
 "nbformat": 4,
 "nbformat_minor": 2
}
