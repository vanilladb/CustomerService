{
 "cells": [
  {
   "cell_type": "code",
   "execution_count": 2,
   "metadata": {},
   "outputs": [],
   "source": [
    "from openai import OpenAI\n",
    "client = OpenAI()"
   ]
  },
  {
   "cell_type": "markdown",
   "metadata": {},
   "source": [
    "upload training file"
   ]
  },
  {
   "cell_type": "code",
   "execution_count": null,
   "metadata": {},
   "outputs": [],
   "source": [
    "training_file = client.files.create(\n",
    "    # upload training file\n",
    "    file = open(\"\", \"rb\"),\n",
    "    purpose = \"fine-tune\"\n",
    ")\n",
    "training_file_id = training_file.id\n",
    "print(\"Training file id : \", training_file_id)"
   ]
  },
  {
   "cell_type": "markdown",
   "metadata": {},
   "source": [
    "create fine-tune job\n",
    "edit suffix to help you find out the fune-tuned model"
   ]
  },
  {
   "cell_type": "code",
   "execution_count": null,
   "metadata": {},
   "outputs": [],
   "source": [
    "job = client.fine_tuning.jobs.create(\n",
    "    training_file = training_file_id, \n",
    "    model=\"gpt-3.5-turbo\",\n",
    "    # suffix help you find out the fine-tuned model\n",
    "    suffix = \"fine-tune\"\n",
    ")\n",
    "job_id = job.id\n",
    "print(\"Job ID : \", job_id)"
   ]
  },
  {
   "cell_type": "markdown",
   "metadata": {},
   "source": [
    "check job status, fine-tuned model, and job list"
   ]
  },
  {
   "cell_type": "code",
   "execution_count": null,
   "metadata": {},
   "outputs": [],
   "source": [
    "# Retrieve the state of a fine-tune & get fine-tuned model ID\n",
    "print(client.fine_tuning.jobs.retrieve(job_id))\n",
    "print(\"Job status :\", client.fine_tuning.jobs.retrieve(job_id).status)\n",
    "fine_tuned_model = client.fine_tuning.jobs.retrieve(job_id).fine_tuned_model\n",
    "print(\"fine-tuned model :\", fine_tuned_model)\n",
    "\n",
    "client.fine_tuning.jobs.list(limit=10)\n",
    "\n",
    "# Cancel a job\n",
    "# client.fine_tuning.jobs.cancel(\"ftjob-abc123\")\n",
    "\n",
    "# Delete a fine-tuned model (must be an owner of the org the model was created in)\n",
    "# client.models.delete(\"ft:gpt-3.5-turbo:acemeco:suffix:abc123\")"
   ]
  },
  {
   "cell_type": "markdown",
   "metadata": {},
   "source": [
    "create Result.xlsx"
   ]
  },
  {
   "cell_type": "code",
   "execution_count": 12,
   "metadata": {},
   "outputs": [],
   "source": [
    "import openpyxl\n",
    "\n",
    "# open the test file\n",
    "workbook = openpyxl.load_workbook('Train_Test.xlsx')\n",
    "sheet = workbook['Test']\n",
    "\n",
    "sheet['E1'] = \"Response\"\n",
    "\n",
    "for row in range(2, 98):\n",
    "    prompt = [{\"role\":\"user\", \"content\": sheet[\"A\" + str(row)].value}]\n",
    "    response = client.chat.completions.create(\n",
    "        model = fine_tuned_model,\n",
    "        messages = prompt\n",
    "    )\n",
    "    sheet[\"E\" + str(row)].value = response.choices[0].message.content\n",
    "\n",
    "workbook.save(\"Result.xlsx\")"
   ]
  }
 ],
 "metadata": {
  "kernelspec": {
   "display_name": "Python 3",
   "language": "python",
   "name": "python3"
  },
  "language_info": {
   "codemirror_mode": {
    "name": "ipython",
    "version": 3
   },
   "file_extension": ".py",
   "mimetype": "text/x-python",
   "name": "python",
   "nbconvert_exporter": "python",
   "pygments_lexer": "ipython3",
   "version": "3.10.4"
  }
 },
 "nbformat": 4,
 "nbformat_minor": 2
}
