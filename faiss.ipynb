{
 "cells": [
  {
   "cell_type": "markdown",
   "metadata": {},
   "source": [
    "必要\n",
    "miniconda_python(3.10版本):\n",
    "https://docs.conda.io/projects/miniconda/en/latest/miniconda-other-installer-links.html\n",
    "裝完打開anaconda prompt:\n",
    "做一個環境\n",
    "conda create -n VScode-env-3.10.13 python=3.10.13\n",
    "做完啟動\n",
    "conda activate VScode-env-3.10.13\n",
    "安裝faiss插件\n",
    "conda install -c pytorch faiss-cpu=1.7.4 mkl=2021 blas=1.0=mkl\n",
    "conda install -c pytorch/label/nightly faiss-cpu\n",
    "關掉prompt 重新開啟VScode 右上角kernel 選擇another kernel->python env->VScode-env-3.10.13"
   ]
  },
  {
   "cell_type": "code",
   "execution_count": null,
   "metadata": {},
   "outputs": [],
   "source": []
  },
  {
   "cell_type": "code",
   "execution_count": null,
   "metadata": {},
   "outputs": [],
   "source": []
  }
 ],
 "metadata": {
  "kernelspec": {
   "display_name": "base",
   "language": "python",
   "name": "python3"
  },
  "language_info": {
   "name": "python",
   "version": "3.10.13"
  }
 },
 "nbformat": 4,
 "nbformat_minor": 2
}
