{
 "cells": [
  {
   "cell_type": "markdown",
   "metadata": {},
   "source": [
    "# 建議先從rag-faiss.ipynb開始跑 環境最複雜 但是弄完 4份都可以跑\n",
    "\n",
    "必要\n",
    "\n",
    "miniconda_python(3.10版本):\n",
    "\n",
    "https://docs.conda.io/projects/miniconda/en/latest/miniconda-other-installer-links.html\n",
    "\n",
    "裝完打開anaconda prompt:\n",
    "\n",
    "做一個環境```conda create -n VScode-env-3.10.13 python=3.10.13```\n",
    "\n",
    "做完啟動```conda activate VScode-env-3.10.13```\n",
    "\n",
    "安裝faiss插件\n",
    "\n",
    "```conda install -c pytorch faiss-cpu=1.7.4 mkl=2021 blas=1.0=mkl```\n",
    "\n",
    "```conda install -c pytorch/label/nightly faiss-cpu```\n",
    "\n",
    "關掉prompt 重新開啟VScode 右上角kernel 選擇another kernel->python env->VScode-env-3.10.13\n",
    "\n",
    "插件:\n",
    "\n",
    "沒裝pandas:```pip install pandas```\n",
    "\n",
    "沒裝openai_SDK使用:```pip install openai```\n",
    "\n",
    "沒設定key使用:```setx OPENAI_API_KEY “<yourkey>”```\n",
    "\n",
    "```echo %OPENAI_API_KEY%```可以看你的KEY"
   ]
  },
  {
   "cell_type": "markdown",
   "metadata": {},
   "source": [
    "讀embeddings資料\n",
    "\n",
    "並把dataframe轉為numpy"
   ]
  },
  {
   "cell_type": "code",
   "execution_count": 8,
   "metadata": {},
   "outputs": [
    {
     "data": {
      "text/html": [
       "<div>\n",
       "<style scoped>\n",
       "    .dataframe tbody tr th:only-of-type {\n",
       "        vertical-align: middle;\n",
       "    }\n",
       "\n",
       "    .dataframe tbody tr th {\n",
       "        vertical-align: top;\n",
       "    }\n",
       "\n",
       "    .dataframe thead th {\n",
       "        text-align: right;\n",
       "    }\n",
       "</style>\n",
       "<table border=\"1\" class=\"dataframe\">\n",
       "  <thead>\n",
       "    <tr style=\"text-align: right;\">\n",
       "      <th></th>\n",
       "      <th>0</th>\n",
       "      <th>1</th>\n",
       "      <th>2</th>\n",
       "      <th>3</th>\n",
       "      <th>4</th>\n",
       "      <th>5</th>\n",
       "      <th>6</th>\n",
       "      <th>7</th>\n",
       "      <th>8</th>\n",
       "      <th>9</th>\n",
       "      <th>...</th>\n",
       "      <th>1526</th>\n",
       "      <th>1527</th>\n",
       "      <th>1528</th>\n",
       "      <th>1529</th>\n",
       "      <th>1530</th>\n",
       "      <th>1531</th>\n",
       "      <th>1532</th>\n",
       "      <th>1533</th>\n",
       "      <th>1534</th>\n",
       "      <th>1535</th>\n",
       "    </tr>\n",
       "  </thead>\n",
       "  <tbody>\n",
       "    <tr>\n",
       "      <th>0</th>\n",
       "      <td>-0.022805</td>\n",
       "      <td>-0.003135</td>\n",
       "      <td>-0.013681</td>\n",
       "      <td>-0.036727</td>\n",
       "      <td>-0.044497</td>\n",
       "      <td>0.029007</td>\n",
       "      <td>-0.024501</td>\n",
       "      <td>-0.041485</td>\n",
       "      <td>-0.005907</td>\n",
       "      <td>-0.009333</td>\n",
       "      <td>...</td>\n",
       "      <td>-0.001190</td>\n",
       "      <td>-0.021287</td>\n",
       "      <td>0.009650</td>\n",
       "      <td>-0.010143</td>\n",
       "      <td>-0.028197</td>\n",
       "      <td>0.025374</td>\n",
       "      <td>-0.010055</td>\n",
       "      <td>-0.003249</td>\n",
       "      <td>-0.007062</td>\n",
       "      <td>-0.028197</td>\n",
       "    </tr>\n",
       "    <tr>\n",
       "      <th>1</th>\n",
       "      <td>-0.016840</td>\n",
       "      <td>-0.011369</td>\n",
       "      <td>-0.003460</td>\n",
       "      <td>-0.017197</td>\n",
       "      <td>-0.024066</td>\n",
       "      <td>0.012614</td>\n",
       "      <td>-0.030361</td>\n",
       "      <td>-0.040702</td>\n",
       "      <td>0.012908</td>\n",
       "      <td>-0.003005</td>\n",
       "      <td>...</td>\n",
       "      <td>0.013699</td>\n",
       "      <td>-0.041800</td>\n",
       "      <td>0.021296</td>\n",
       "      <td>-0.006463</td>\n",
       "      <td>-0.004542</td>\n",
       "      <td>-0.020491</td>\n",
       "      <td>-0.033731</td>\n",
       "      <td>0.010705</td>\n",
       "      <td>0.003454</td>\n",
       "      <td>-0.024437</td>\n",
       "    </tr>\n",
       "    <tr>\n",
       "      <th>2</th>\n",
       "      <td>-0.020366</td>\n",
       "      <td>-0.011115</td>\n",
       "      <td>0.016573</td>\n",
       "      <td>-0.021214</td>\n",
       "      <td>-0.017512</td>\n",
       "      <td>-0.002729</td>\n",
       "      <td>-0.011475</td>\n",
       "      <td>-0.030523</td>\n",
       "      <td>0.020134</td>\n",
       "      <td>-0.016496</td>\n",
       "      <td>...</td>\n",
       "      <td>0.023915</td>\n",
       "      <td>-0.022757</td>\n",
       "      <td>0.027797</td>\n",
       "      <td>-0.001901</td>\n",
       "      <td>-0.010009</td>\n",
       "      <td>0.003963</td>\n",
       "      <td>-0.034329</td>\n",
       "      <td>-0.025637</td>\n",
       "      <td>0.005378</td>\n",
       "      <td>-0.002792</td>\n",
       "    </tr>\n",
       "    <tr>\n",
       "      <th>3</th>\n",
       "      <td>-0.029621</td>\n",
       "      <td>-0.031300</td>\n",
       "      <td>-0.004523</td>\n",
       "      <td>-0.022191</td>\n",
       "      <td>-0.040698</td>\n",
       "      <td>0.019835</td>\n",
       "      <td>-0.013771</td>\n",
       "      <td>-0.023770</td>\n",
       "      <td>0.014309</td>\n",
       "      <td>-0.008721</td>\n",
       "      <td>...</td>\n",
       "      <td>0.015738</td>\n",
       "      <td>-0.005817</td>\n",
       "      <td>0.005927</td>\n",
       "      <td>0.000405</td>\n",
       "      <td>-0.026338</td>\n",
       "      <td>0.000488</td>\n",
       "      <td>-0.020086</td>\n",
       "      <td>-0.000731</td>\n",
       "      <td>0.001592</td>\n",
       "      <td>-0.020474</td>\n",
       "    </tr>\n",
       "    <tr>\n",
       "      <th>4</th>\n",
       "      <td>-0.014236</td>\n",
       "      <td>-0.011760</td>\n",
       "      <td>-0.014080</td>\n",
       "      <td>-0.002142</td>\n",
       "      <td>-0.036923</td>\n",
       "      <td>0.014444</td>\n",
       "      <td>-0.035155</td>\n",
       "      <td>-0.033881</td>\n",
       "      <td>0.009361</td>\n",
       "      <td>-0.001141</td>\n",
       "      <td>...</td>\n",
       "      <td>0.014509</td>\n",
       "      <td>-0.018397</td>\n",
       "      <td>0.017265</td>\n",
       "      <td>-0.009296</td>\n",
       "      <td>-0.004875</td>\n",
       "      <td>-0.010771</td>\n",
       "      <td>-0.011649</td>\n",
       "      <td>0.004901</td>\n",
       "      <td>0.003660</td>\n",
       "      <td>-0.035259</td>\n",
       "    </tr>\n",
       "  </tbody>\n",
       "</table>\n",
       "<p>5 rows × 1536 columns</p>\n",
       "</div>"
      ],
      "text/plain": [
       "          0         1         2         3         4         5         6  \\\n",
       "0 -0.022805 -0.003135 -0.013681 -0.036727 -0.044497  0.029007 -0.024501   \n",
       "1 -0.016840 -0.011369 -0.003460 -0.017197 -0.024066  0.012614 -0.030361   \n",
       "2 -0.020366 -0.011115  0.016573 -0.021214 -0.017512 -0.002729 -0.011475   \n",
       "3 -0.029621 -0.031300 -0.004523 -0.022191 -0.040698  0.019835 -0.013771   \n",
       "4 -0.014236 -0.011760 -0.014080 -0.002142 -0.036923  0.014444 -0.035155   \n",
       "\n",
       "          7         8         9  ...      1526      1527      1528      1529  \\\n",
       "0 -0.041485 -0.005907 -0.009333  ... -0.001190 -0.021287  0.009650 -0.010143   \n",
       "1 -0.040702  0.012908 -0.003005  ...  0.013699 -0.041800  0.021296 -0.006463   \n",
       "2 -0.030523  0.020134 -0.016496  ...  0.023915 -0.022757  0.027797 -0.001901   \n",
       "3 -0.023770  0.014309 -0.008721  ...  0.015738 -0.005817  0.005927  0.000405   \n",
       "4 -0.033881  0.009361 -0.001141  ...  0.014509 -0.018397  0.017265 -0.009296   \n",
       "\n",
       "       1530      1531      1532      1533      1534      1535  \n",
       "0 -0.028197  0.025374 -0.010055 -0.003249 -0.007062 -0.028197  \n",
       "1 -0.004542 -0.020491 -0.033731  0.010705  0.003454 -0.024437  \n",
       "2 -0.010009  0.003963 -0.034329 -0.025637  0.005378 -0.002792  \n",
       "3 -0.026338  0.000488 -0.020086 -0.000731  0.001592 -0.020474  \n",
       "4 -0.004875 -0.010771 -0.011649  0.004901  0.003660 -0.035259  \n",
       "\n",
       "[5 rows x 1536 columns]"
      ]
     },
     "execution_count": 8,
     "metadata": {},
     "output_type": "execute_result"
    }
   ],
   "source": [
    "import pandas as pd\n",
    "import numpy as np\n",
    "\n",
    "csv_file = 'data\\Qembeddings.csv'\n",
    "df = pd.read_csv(csv_file)\n",
    "data = df.to_numpy()\n",
    "df.head(5)"
   ]
  },
  {
   "cell_type": "markdown",
   "metadata": {},
   "source": [
    "確認內容"
   ]
  },
  {
   "cell_type": "code",
   "execution_count": 9,
   "metadata": {},
   "outputs": [
    {
     "name": "stdout",
     "output_type": "stream",
     "text": [
      "669\n",
      "<class 'numpy.ndarray'>\n",
      "float64\n",
      "-0.0228053741157054\n"
     ]
    }
   ],
   "source": [
    "print(data.shape[0])\n",
    "print(type(data))\n",
    "print(data.dtype)\n",
    "print(data[0][0])"
   ]
  },
  {
   "cell_type": "markdown",
   "metadata": {},
   "source": [
    "寫入維度 並把data加入faiss的index"
   ]
  },
  {
   "cell_type": "code",
   "execution_count": 6,
   "metadata": {},
   "outputs": [],
   "source": [
    "import faiss\n",
    "\n",
    "index = faiss.IndexFlatL2(data.shape[1])\n",
    "index.add(data)"
   ]
  },
  {
   "cell_type": "markdown",
   "metadata": {},
   "source": [
    "# 問題輸入在此"
   ]
  },
  {
   "cell_type": "code",
   "execution_count": 7,
   "metadata": {},
   "outputs": [],
   "source": [
    "input='hey flora! Im having some issue with password! can you reset it for me?'"
   ]
  },
  {
   "cell_type": "markdown",
   "metadata": {},
   "source": [
    "做問題的embedding"
   ]
  },
  {
   "cell_type": "code",
   "execution_count": 19,
   "metadata": {},
   "outputs": [
    {
     "name": "stdout",
     "output_type": "stream",
     "text": [
      "[[-0.00663677 -0.00735874 -0.03375349 ...  0.01932745 -0.00485504\n",
      "  -0.02893156]]\n"
     ]
    }
   ],
   "source": [
    "import os\n",
    "from openai import OpenAI\n",
    "client = OpenAI()\n",
    "OpenAI.api_key = os.getenv('OPENAI_API_KEY')\n",
    "\n",
    "response = client.embeddings.create(\n",
    "    input=input,\n",
    "    model=\"text-embedding-ada-002\"\n",
    ")\n",
    "question = np.array(response.data[0].embedding, ndmin=2)\n",
    "print(question)"
   ]
  },
  {
   "cell_type": "markdown",
   "metadata": {},
   "source": [
    "TOP-k的設定並查找問題"
   ]
  },
  {
   "cell_type": "code",
   "execution_count": 28,
   "metadata": {},
   "outputs": [],
   "source": [
    "k = 3\n",
    "\n",
    "distances, indices = index.search(question, k)"
   ]
  },
  {
   "cell_type": "markdown",
   "metadata": {},
   "source": [
    "拿答案"
   ]
  },
  {
   "cell_type": "code",
   "execution_count": 32,
   "metadata": {},
   "outputs": [],
   "source": [
    "csv_question = 'data\\manual.csv'\n",
    "qdf = pd.read_csv(csv_question)\n",
    "qarray = qdf.to_numpy()"
   ]
  },
  {
   "cell_type": "markdown",
   "metadata": {},
   "source": [
    "看答案和距離"
   ]
  },
  {
   "cell_type": "code",
   "execution_count": 35,
   "metadata": {},
   "outputs": [
    {
     "name": "stdout",
     "output_type": "stream",
     "text": [
      "[(array([' I forgot my password for my newly created Flora account thus I would like to reset my password.',\n",
      "       'In the \"Log In\" section, there is an option \"Forgot password?\". By clicking, it would guide you through the process of resetting the password.Please try logging in with your old login method. If the problem still persists, we could manually migrate your old account to a new login method by the following process: 1) Sign up for a new account 2) Send us both your old and new account information, including login method, user name, and email account. If you use Apple Login without revealing your email, a screenshot of the Flora Setting page including the above mentioned information is needed. Thank you for your support and understanding! '],\n",
      "      dtype=object), 0.20552632212638855), (array([\"I already made an account for Flora and can't remember my password, but the app won't let me click 'forgot password'. Would you be able to send me a link so I can reset my password?\",\n",
      "       'We can help migrate your account. Please use a new email address to register a new account and complete the verification process. After that, send us the old and new email address for the account, and we will manually migrate for you. Note that we can only keep the data of one account after connecting. In other words, the data in another account will be erased. Let us know if you have any questions.'],\n",
      "      dtype=object), 0.24467504024505615), (array(['Can you help me reset my password? ',\n",
      "       'We could not manually set your password. However, you could do the following instructions. In the \"Log In\" section, there is an option \"Forgot password?\". By clicking, it would guide you through the process of resetting the password. Remember don\\'t swipe Flora while you go to check the passcode. In the \"Log In\" section, there is an option \"Forgot password?\". By clicking, it would guide you through the process of resetting the password.'],\n",
      "      dtype=object), 0.253580242395401), (array(['I forgot my password, can you help me change it? ',\n",
      "       'We could not manually set your password. However, you could do the following instructions. In the \"Log In\" section, there is an option \"Forgot password?\". By clicking, it would guide you through the process of resetting the password. Remember don\\'t swipe Flora while you go to check the passcode. In the \"Log In\" section, there is an option \"Forgot password?\". By clicking, it would guide you through the process of resetting the password.'],\n",
      "      dtype=object), 0.28014370799064636), (array([\" hi! i've been logged out of flora and it won't let me sign back in with the email i believed i used. i only have 2 emails and both aren't working. is there a way i can log in? it keeps showing something went wrong, try again later\",\n",
      "       'Thank you for the report and sorry for the trouble. The issue you encounter could be a temporary overload of our server due to the growth of concurrent users. Please try closing the app manually and logging in again if you encounter any errors. Let us know if the issue continues. '],\n",
      "      dtype=object), 0.30155354738235474)]\n"
     ]
    }
   ],
   "source": [
    "answer = [(qarray[i], float(dist)) for dist, i in zip(distances[0], indices[0])]\n",
    "print(answer)"
   ]
  },
  {
   "cell_type": "code",
   "execution_count": 42,
   "metadata": {},
   "outputs": [
    {
     "name": "stdout",
     "output_type": "stream",
     "text": [
      "In the \"Log In\" section, there is an option \"Forgot password?\". By clicking, it would guide you through the process of resetting the password.Please try logging in with your old login method. If the problem still persists, we could manually migrate your old account to a new login method by the following process: 1) Sign up for a new account 2) Send us both your old and new account information, including login method, user name, and email account. If you use Apple Login without revealing your email, a screenshot of the Flora Setting page including the above mentioned information is needed. Thank you for your support and understanding! \n",
      "We can help migrate your account. Please use a new email address to register a new account and complete the verification process. After that, send us the old and new email address for the account, and we will manually migrate for you. Note that we can only keep the data of one account after connecting. In other words, the data in another account will be erased. Let us know if you have any questions.\n",
      "We could not manually set your password. However, you could do the following instructions. In the \"Log In\" section, there is an option \"Forgot password?\". By clicking, it would guide you through the process of resetting the password. Remember don't swipe Flora while you go to check the passcode. In the \"Log In\" section, there is an option \"Forgot password?\". By clicking, it would guide you through the process of resetting the password.\n",
      "We could not manually set your password. However, you could do the following instructions. In the \"Log In\" section, there is an option \"Forgot password?\". By clicking, it would guide you through the process of resetting the password. Remember don't swipe Flora while you go to check the passcode. In the \"Log In\" section, there is an option \"Forgot password?\". By clicking, it would guide you through the process of resetting the password.\n",
      "Thank you for the report and sorry for the trouble. The issue you encounter could be a temporary overload of our server due to the growth of concurrent users. Please try closing the app manually and logging in again if you encounter any errors. Let us know if the issue continues. \n"
     ]
    }
   ],
   "source": [
    "for i in range(0,5):\n",
    "    print(answer[i][0][1])\n"
   ]
  }
 ],
 "metadata": {
  "kernelspec": {
   "display_name": "base",
   "language": "python",
   "name": "python3"
  },
  "language_info": {
   "codemirror_mode": {
    "name": "ipython",
    "version": 3
   },
   "file_extension": ".py",
   "mimetype": "text/x-python",
   "name": "python",
   "nbconvert_exporter": "python",
   "pygments_lexer": "ipython3",
   "version": "3.10.13"
  }
 },
 "nbformat": 4,
 "nbformat_minor": 2
}
