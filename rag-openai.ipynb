{
 "cells": [
  {
   "cell_type": "markdown",
   "metadata": {},
   "source": [
    "事前準備:\n",
    "\n",
    "python 3\n",
    "\n",
    "VScode商城:\n",
    "\n",
    "python\n",
    "\n",
    "jupyter\n",
    "\n",
    "import和拿key\n",
    "\n",
    "沒裝openai_SDK使用:```pip install openai```\n",
    "\n",
    "沒裝tabulate使用:```pip install tabulate```\n",
    "\n",
    "沒設定key使用:```setx OPENAI_API_KEY “<yourkey>”```\n",
    "\n",
    "```echo %OPENAI_API_KEY%```可以看你的KEY"
   ]
  },
  {
   "cell_type": "code",
   "execution_count": 1,
   "metadata": {},
   "outputs": [],
   "source": [
    "import os\n",
    "from openai import OpenAI\n",
    "client = OpenAI()\n",
    "OpenAI.api_key = os.getenv('OPENAI_API_KEY')"
   ]
  },
  {
   "cell_type": "markdown",
   "metadata": {},
   "source": [
    "# input在此輸入"
   ]
  },
  {
   "cell_type": "code",
   "execution_count": 2,
   "metadata": {},
   "outputs": [],
   "source": [
    "input = \"hey flora! Im having some issue with password! can you reset it for me?\""
   ]
  },
  {
   "cell_type": "markdown",
   "metadata": {},
   "source": [
    "創assistant,thread,message!"
   ]
  },
  {
   "cell_type": "code",
   "execution_count": 3,
   "metadata": {},
   "outputs": [],
   "source": [
    "from tabulate import tabulate\n",
    "\n",
    "# Upload a file with an \"assistants\" purpose\n",
    "file = client.files.create(\n",
    "    file=open(\"data\\manual.csv\", \"rb\"),\n",
    "    purpose='assistants'\n",
    ")\n",
    "\n",
    "assistant = client.beta.assistants.create(\n",
    "    name=\"Flora Customer Service\",\n",
    "    instructions=\"You are customer service from Flora. when answering any question, you must always check the manual. If question are not in manual, you must not answer and tell them to contact human for help.\",\n",
    "    tools=[{\"type\": \"retrieval\"},{\"type\": \"code_interpreter\"}],\n",
    "    model=\"gpt-3.5-turbo-1106\",\n",
    "    file_ids=[file.id]\n",
    ")\n",
    "\n",
    "thread = client.beta.threads.create()\n",
    "\n",
    "message = client.beta.threads.messages.create(\n",
    "    thread_id=thread.id,\n",
    "    role=\"user\",\n",
    "    content=input\n",
    ")\n"
   ]
  },
  {
   "cell_type": "markdown",
   "metadata": {},
   "source": [
    "沒裝tabulate很醜\n",
    "\n",
    "tabulate文件:https://pypi.org/project/tabulate/\n",
    "\n",
    "表示assistant,thread,message內容"
   ]
  },
  {
   "cell_type": "code",
   "execution_count": 4,
   "metadata": {},
   "outputs": [
    {
     "name": "stdout",
     "output_type": "stream",
     "text": [
      "┌──────────────┬─────────────────────────────────────────────────────────────────────────────────────────────────────────────────────────────────────────────────────────────────────────────────────────────────┐\n",
      "│ assistant    │ content                                                                                                                                                                                         │\n",
      "├──────────────┼─────────────────────────────────────────────────────────────────────────────────────────────────────────────────────────────────────────────────────────────────────────────────────────────────┤\n",
      "│ id           │ asst_ck2MJJaRVSxT1xQrgWeHf5E4                                                                                                                                                                   │\n",
      "│ created_at   │ 1706150107                                                                                                                                                                                      │\n",
      "│ description  │                                                                                                                                                                                                 │\n",
      "│ file_ids     │ ['file-d6BSBG1cEpSDCstCB9QVmchj']                                                                                                                                                               │\n",
      "│ instructions │ You are customer service from Flora. when answering any question, you must always check the manual. If question are not in manual, you must not answer and tell them to contact human for help. │\n",
      "│ metadata     │ {}                                                                                                                                                                                              │\n",
      "│ model        │ gpt-3.5-turbo-1106                                                                                                                                                                              │\n",
      "│ name         │ Flora Customer Service                                                                                                                                                                          │\n",
      "│ object       │ assistant                                                                                                                                                                                       │\n",
      "│ tools        │ [ToolRetrieval(type='retrieval'), ToolCodeInterpreter(type='code_interpreter')]                                                                                                                 │\n",
      "└──────────────┴─────────────────────────────────────────────────────────────────────────────────────────────────────────────────────────────────────────────────────────────────────────────────────────────────┘\n"
     ]
    }
   ],
   "source": [
    "print(tabulate(assistant,headers=['assistant','content'],tablefmt=\"simple_outline\"))"
   ]
  },
  {
   "cell_type": "code",
   "execution_count": 5,
   "metadata": {},
   "outputs": [
    {
     "name": "stdout",
     "output_type": "stream",
     "text": [
      "┌────────────┬─────────────────────────────────┐\n",
      "│ thread     │ content                         │\n",
      "├────────────┼─────────────────────────────────┤\n",
      "│ id         │ thread_LoEzMLHhOLVxn290aRI1242b │\n",
      "│ created_at │ 1706150107                      │\n",
      "│ metadata   │ {}                              │\n",
      "│ object     │ thread                          │\n",
      "└────────────┴─────────────────────────────────┘\n"
     ]
    }
   ],
   "source": [
    "print(tabulate(thread,headers=['thread','content'],tablefmt=\"simple_outline\"))"
   ]
  },
  {
   "cell_type": "code",
   "execution_count": 6,
   "metadata": {},
   "outputs": [
    {
     "name": "stdout",
     "output_type": "stream",
     "text": [
      "┌──────────────┬───────────────────────────────────────────────────────────────────────────────────────────────────────────────────────────────────────────────┐\n",
      "│ message      │ content                                                                                                                                       │\n",
      "├──────────────┼───────────────────────────────────────────────────────────────────────────────────────────────────────────────────────────────────────────────┤\n",
      "│ id           │ msg_YrFwIGPwHWxsjBcwFAIhzCKl                                                                                                                  │\n",
      "│ assistant_id │                                                                                                                                               │\n",
      "│ content      │ [MessageContentText(text=Text(annotations=[], value='hey flora! Im having some issue with password! can you reset it for me?'), type='text')] │\n",
      "│ created_at   │ 1706150108                                                                                                                                    │\n",
      "│ file_ids     │ []                                                                                                                                            │\n",
      "│ metadata     │ {}                                                                                                                                            │\n",
      "│ object       │ thread.message                                                                                                                                │\n",
      "│ role         │ user                                                                                                                                          │\n",
      "│ run_id       │                                                                                                                                               │\n",
      "│ thread_id    │ thread_LoEzMLHhOLVxn290aRI1242b                                                                                                               │\n",
      "└──────────────┴───────────────────────────────────────────────────────────────────────────────────────────────────────────────────────────────────────────────┘\n"
     ]
    }
   ],
   "source": [
    "print(tabulate(message,headers=['message','content'],tablefmt=\"simple_outline\"))"
   ]
  },
  {
   "cell_type": "markdown",
   "metadata": {},
   "source": [
    "這次的run\n",
    "\n",
    "可以使用新instruction複寫assisstant裡的instruction!\n",
    "\n",
    "like:\n",
    "\n",
    "```\n",
    "run = client.beta.threads.runs.create(\n",
    "  thread_id=thread.id,\n",
    "  assistant_id=assistant.id,\n",
    "  instructions=\"Please address the user as Jane Doe. The user has a premium account.\"\n",
    ")\n",
    "```\n"
   ]
  },
  {
   "cell_type": "code",
   "execution_count": 7,
   "metadata": {},
   "outputs": [],
   "source": [
    "run = client.beta.threads.runs.create(\n",
    "  thread_id=thread.id,\n",
    "  assistant_id=assistant.id\n",
    ")"
   ]
  },
  {
   "cell_type": "markdown",
   "metadata": {},
   "source": [
    "查看run的狀態!\n",
    "\n",
    "以上如果還沒跑完會顯示queued!\n",
    "\n",
    "以上如果跑完會顯示completed!"
   ]
  },
  {
   "cell_type": "code",
   "execution_count": 8,
   "metadata": {},
   "outputs": [
    {
     "name": "stdout",
     "output_type": "stream",
     "text": [
      "┌─────────────────┬─────────────────────────────────────────────────────────────────────────────────────────────────────────────────────────────────────────────────────────────────────────────────────────────────┐\n",
      "│ run             │ content                                                                                                                                                                                         │\n",
      "├─────────────────┼─────────────────────────────────────────────────────────────────────────────────────────────────────────────────────────────────────────────────────────────────────────────────────────────────┤\n",
      "│ id              │ run_SmZwsa1nqmlpXNSQVe25EOZb                                                                                                                                                                    │\n",
      "│ assistant_id    │ asst_ck2MJJaRVSxT1xQrgWeHf5E4                                                                                                                                                                   │\n",
      "│ cancelled_at    │                                                                                                                                                                                                 │\n",
      "│ completed_at    │                                                                                                                                                                                                 │\n",
      "│ created_at      │ 1706150108                                                                                                                                                                                      │\n",
      "│ expires_at      │ 1706150708                                                                                                                                                                                      │\n",
      "│ failed_at       │                                                                                                                                                                                                 │\n",
      "│ file_ids        │ ['file-d6BSBG1cEpSDCstCB9QVmchj']                                                                                                                                                               │\n",
      "│ instructions    │ You are customer service from Flora. when answering any question, you must always check the manual. If question are not in manual, you must not answer and tell them to contact human for help. │\n",
      "│ last_error      │                                                                                                                                                                                                 │\n",
      "│ metadata        │ {}                                                                                                                                                                                              │\n",
      "│ model           │ gpt-3.5-turbo-1106                                                                                                                                                                              │\n",
      "│ object          │ thread.run                                                                                                                                                                                      │\n",
      "│ required_action │                                                                                                                                                                                                 │\n",
      "│ started_at      │ 1706150108                                                                                                                                                                                      │\n",
      "│ status          │ in_progress                                                                                                                                                                                     │\n",
      "│ thread_id       │ thread_LoEzMLHhOLVxn290aRI1242b                                                                                                                                                                 │\n",
      "│ tools           │ [ToolAssistantToolsRetrieval(type='retrieval'), ToolAssistantToolsCode(type='code_interpreter')]                                                                                                │\n",
      "│ usage           │                                                                                                                                                                                                 │\n",
      "└─────────────────┴─────────────────────────────────────────────────────────────────────────────────────────────────────────────────────────────────────────────────────────────────────────────────────────────────┘\n"
     ]
    }
   ],
   "source": [
    "run = client.beta.threads.runs.retrieve(\n",
    "  thread_id=thread.id,\n",
    "  run_id=run.id\n",
    ")\n",
    "print(tabulate(run,headers=['run','content'],tablefmt='simple_outline'))"
   ]
  },
  {
   "cell_type": "markdown",
   "metadata": {},
   "source": [
    "跑完後打開查看history messages!"
   ]
  },
  {
   "cell_type": "code",
   "execution_count": 10,
   "metadata": {},
   "outputs": [
    {
     "name": "stdout",
     "output_type": "stream",
     "text": [
      "┌──────────────┬───────────────────────────────────────────────────────────────────────────────────────────────────────────────────────────────────────────────┐\n",
      "│ id           │ msg_YrFwIGPwHWxsjBcwFAIhzCKl                                                                                                                  │\n",
      "│ assistant_id │                                                                                                                                               │\n",
      "│ content      │ [MessageContentText(text=Text(annotations=[], value='hey flora! Im having some issue with password! can you reset it for me?'), type='text')] │\n",
      "│ created_at   │ 1706150108                                                                                                                                    │\n",
      "│ file_ids     │ []                                                                                                                                            │\n",
      "│ metadata     │ {}                                                                                                                                            │\n",
      "│ object       │ thread.message                                                                                                                                │\n",
      "│ role         │ user                                                                                                                                          │\n",
      "│ run_id       │                                                                                                                                               │\n",
      "│ thread_id    │ thread_LoEzMLHhOLVxn290aRI1242b                                                                                                               │\n",
      "└──────────────┴───────────────────────────────────────────────────────────────────────────────────────────────────────────────────────────────────────────────┘\n",
      "┌──────────────┬───────────────────────────────────────────────────────────────────────────────────────────────────────────────────────────────────────────────────────────────────────────────────────────────────────────────────────────────────────────────────────────────────────────────────────────────────────────────────────────────────────────────────────────────────────────────────────────────────────────────────────────────────────────┐\n",
      "│ id           │ msg_wAJitJx3GzPlNJSxiFTqRl8t                                                                                                                                                                                                                                                                                                                                                                                                              │\n",
      "│ assistant_id │ asst_ck2MJJaRVSxT1xQrgWeHf5E4                                                                                                                                                                                                                                                                                                                                                                                                             │\n",
      "│ content      │ [MessageContentText(text=Text(annotations=[], value=\"It looks like the file contains a series of user queries and responses related to the Flora app, but it doesn't seem to contain any information about password reset. Therefore, I'm unable to assist with the password reset based on the provided file. I recommend reaching out to the Flora app's customer support for assistance with resetting your password.\"), type='text')] │\n",
      "│ created_at   │ 1706150116                                                                                                                                                                                                                                                                                                                                                                                                                                │\n",
      "│ file_ids     │ []                                                                                                                                                                                                                                                                                                                                                                                                                                        │\n",
      "│ metadata     │ {}                                                                                                                                                                                                                                                                                                                                                                                                                                        │\n",
      "│ object       │ thread.message                                                                                                                                                                                                                                                                                                                                                                                                                            │\n",
      "│ role         │ assistant                                                                                                                                                                                                                                                                                                                                                                                                                                 │\n",
      "│ run_id       │ run_SmZwsa1nqmlpXNSQVe25EOZb                                                                                                                                                                                                                                                                                                                                                                                                              │\n",
      "│ thread_id    │ thread_LoEzMLHhOLVxn290aRI1242b                                                                                                                                                                                                                                                                                                                                                                                                           │\n",
      "└──────────────┴───────────────────────────────────────────────────────────────────────────────────────────────────────────────────────────────────────────────────────────────────────────────────────────────────────────────────────────────────────────────────────────────────────────────────────────────────────────────────────────────────────────────────────────────────────────────────────────────────────────────────────────────────────────┘\n"
     ]
    }
   ],
   "source": [
    "messages = client.beta.threads.messages.list(\n",
    "  thread_id=thread.id,\n",
    "  order='asc'\n",
    ")\n",
    "for i in messages.data:\n",
    "    print(tabulate(i,tablefmt='simple_outline'))"
   ]
  }
 ],
 "metadata": {
  "kernelspec": {
   "display_name": "Python 3",
   "language": "python",
   "name": "python3"
  },
  "language_info": {
   "codemirror_mode": {
    "name": "ipython",
    "version": 3
   },
   "file_extension": ".py",
   "mimetype": "text/x-python",
   "name": "python",
   "nbconvert_exporter": "python",
   "pygments_lexer": "ipython3",
   "version": "3.10.13"
  }
 },
 "nbformat": 4,
 "nbformat_minor": 2
}
