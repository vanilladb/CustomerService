{
 "cells": [
  {
   "cell_type": "markdown",
   "metadata": {},
   "source": [
    "事前準備:\n",
    "\n",
    "python 3\n",
    "\n",
    "VScode商城:\n",
    "\n",
    "python\n",
    "\n",
    "jupyter\n",
    "\n",
    "import和拿key\n",
    "\n",
    "沒裝openai_SDK使用:```pip install openai```\n",
    "\n",
    "沒裝tabulate使用:```pip install tabulate```\n",
    "\n",
    "沒設定key使用:```setx OPENAI_API_KEY “<yourkey>”```\n",
    "\n",
    "```echo %OPENAI_API_KEY%```可以看你的KEY"
   ]
  },
  {
   "cell_type": "code",
   "execution_count": 21,
   "metadata": {},
   "outputs": [],
   "source": [
    "import os\n",
    "from openai import OpenAI\n",
    "client = OpenAI()\n",
    "OpenAI.api_key = os.getenv('OPENAI_API_KEY')"
   ]
  },
  {
   "cell_type": "markdown",
   "metadata": {},
   "source": [
    "# input在此輸入"
   ]
  },
  {
   "cell_type": "code",
   "execution_count": 22,
   "metadata": {},
   "outputs": [],
   "source": [
    "input = \"hey flora! Im having some issue with password! can you reset it for me?\""
   ]
  },
  {
   "cell_type": "markdown",
   "metadata": {},
   "source": [
    "創assistant,thread,message!"
   ]
  },
  {
   "cell_type": "code",
   "execution_count": 23,
   "metadata": {},
   "outputs": [],
   "source": [
    "from tabulate import tabulate\n",
    "\n",
    "# Upload a file with an \"assistants\" purpose\n",
    "file = client.files.create(\n",
    "    file=open(\"data\\manual.csv\", \"rb\"),\n",
    "    purpose='assistants'\n",
    ")\n",
    "\n",
    "assistant = client.beta.assistants.create(\n",
    "    name=\"Flora Customer Service\",\n",
    "    instructions=\"You are customer service from Flora.You can only answer questions related to Flora. when answering any question, you must always answer base on manual which user have provided and respond only once.\",\n",
    "    tools=[{\"type\": \"retrieval\"},{\"type\": \"code_interpreter\"}],\n",
    "    model=\"gpt-3.5-turbo-1106\",\n",
    "    file_ids=[file.id]\n",
    ")\n",
    "\n",
    "thread = client.beta.threads.create()\n",
    "\n",
    "message = client.beta.threads.messages.create(\n",
    "    thread_id=thread.id,\n",
    "    role=\"user\",\n",
    "    content=input\n",
    ")\n"
   ]
  },
  {
   "cell_type": "markdown",
   "metadata": {},
   "source": [
    "沒裝tabulate很醜\n",
    "\n",
    "tabulate文件:https://pypi.org/project/tabulate/\n",
    "\n",
    "表示assistant,thread,message內容"
   ]
  },
  {
   "cell_type": "code",
   "execution_count": 24,
   "metadata": {},
   "outputs": [
    {
     "name": "stdout",
     "output_type": "stream",
     "text": [
      "┌──────────────┬────────────────────────────────────────────────────────────────────────────────────────────────────────────────────────────────────────────────────────────────────────────────────────────────────────┐\n",
      "│ assistant    │ content                                                                                                                                                                                                │\n",
      "├──────────────┼────────────────────────────────────────────────────────────────────────────────────────────────────────────────────────────────────────────────────────────────────────────────────────────────────────┤\n",
      "│ id           │ asst_W7hPsoWqCRW6vGm8aqF57QiS                                                                                                                                                                          │\n",
      "│ created_at   │ 1706156040                                                                                                                                                                                             │\n",
      "│ description  │                                                                                                                                                                                                        │\n",
      "│ file_ids     │ ['file-pfTbb7tAwtmi6gbguGS2ziFk']                                                                                                                                                                      │\n",
      "│ instructions │ You are customer service from Flora.You can only answer questions related to Flora. when answering any question, you must always answer base on manual which user have provided and respond only once. │\n",
      "│ metadata     │ {}                                                                                                                                                                                                     │\n",
      "│ model        │ gpt-3.5-turbo-1106                                                                                                                                                                                     │\n",
      "│ name         │ Flora Customer Service                                                                                                                                                                                 │\n",
      "│ object       │ assistant                                                                                                                                                                                              │\n",
      "│ tools        │ [ToolRetrieval(type='retrieval'), ToolCodeInterpreter(type='code_interpreter')]                                                                                                                        │\n",
      "└──────────────┴────────────────────────────────────────────────────────────────────────────────────────────────────────────────────────────────────────────────────────────────────────────────────────────────────────┘\n"
     ]
    }
   ],
   "source": [
    "print(tabulate(assistant,headers=['assistant','content'],tablefmt=\"simple_outline\"))"
   ]
  },
  {
   "cell_type": "code",
   "execution_count": 25,
   "metadata": {},
   "outputs": [
    {
     "name": "stdout",
     "output_type": "stream",
     "text": [
      "┌────────────┬─────────────────────────────────┐\n",
      "│ thread     │ content                         │\n",
      "├────────────┼─────────────────────────────────┤\n",
      "│ id         │ thread_m2Sq3aS8OyfcLqpS8Hwd1Fff │\n",
      "│ created_at │ 1706156041                      │\n",
      "│ metadata   │ {}                              │\n",
      "│ object     │ thread                          │\n",
      "└────────────┴─────────────────────────────────┘\n"
     ]
    }
   ],
   "source": [
    "print(tabulate(thread,headers=['thread','content'],tablefmt=\"simple_outline\"))"
   ]
  },
  {
   "cell_type": "code",
   "execution_count": 26,
   "metadata": {},
   "outputs": [
    {
     "name": "stdout",
     "output_type": "stream",
     "text": [
      "┌──────────────┬───────────────────────────────────────────────────────────────────────────────────────────────────────────────────────────────────────────────┐\n",
      "│ message      │ content                                                                                                                                       │\n",
      "├──────────────┼───────────────────────────────────────────────────────────────────────────────────────────────────────────────────────────────────────────────┤\n",
      "│ id           │ msg_61iFcGxqt1xifYXbIo9bEKm2                                                                                                                  │\n",
      "│ assistant_id │                                                                                                                                               │\n",
      "│ content      │ [MessageContentText(text=Text(annotations=[], value='hey flora! Im having some issue with password! can you reset it for me?'), type='text')] │\n",
      "│ created_at   │ 1706156041                                                                                                                                    │\n",
      "│ file_ids     │ []                                                                                                                                            │\n",
      "│ metadata     │ {}                                                                                                                                            │\n",
      "│ object       │ thread.message                                                                                                                                │\n",
      "│ role         │ user                                                                                                                                          │\n",
      "│ run_id       │                                                                                                                                               │\n",
      "│ thread_id    │ thread_m2Sq3aS8OyfcLqpS8Hwd1Fff                                                                                                               │\n",
      "└──────────────┴───────────────────────────────────────────────────────────────────────────────────────────────────────────────────────────────────────────────┘\n"
     ]
    }
   ],
   "source": [
    "print(tabulate(message,headers=['message','content'],tablefmt=\"simple_outline\"))"
   ]
  },
  {
   "cell_type": "markdown",
   "metadata": {},
   "source": [
    "這次的run\n",
    "\n",
    "可以使用新instruction複寫assisstant裡的instruction!\n",
    "\n",
    "like:\n",
    "\n",
    "```\n",
    "run = client.beta.threads.runs.create(\n",
    "  thread_id=thread.id,\n",
    "  assistant_id=assistant.id,\n",
    "  instructions=\"Please address the user as Jane Doe. The user has a premium account.\"\n",
    ")\n",
    "```\n"
   ]
  },
  {
   "cell_type": "code",
   "execution_count": 27,
   "metadata": {},
   "outputs": [],
   "source": [
    "run = client.beta.threads.runs.create(\n",
    "  thread_id=thread.id,\n",
    "  assistant_id=assistant.id\n",
    ")"
   ]
  },
  {
   "cell_type": "markdown",
   "metadata": {},
   "source": [
    "查看run的狀態!\n",
    "\n",
    "以上如果還沒跑完會顯示queued!\n",
    "\n",
    "以上如果跑完會顯示completed!"
   ]
  },
  {
   "cell_type": "code",
   "execution_count": 28,
   "metadata": {},
   "outputs": [
    {
     "name": "stdout",
     "output_type": "stream",
     "text": [
      "┌─────────────────┬────────────────────────────────────────────────────────────────────────────────────────────────────────────────────────────────────────────────────────────────────────────────────────────────────────┐\n",
      "│ run             │ content                                                                                                                                                                                                │\n",
      "├─────────────────┼────────────────────────────────────────────────────────────────────────────────────────────────────────────────────────────────────────────────────────────────────────────────────────────────────────┤\n",
      "│ id              │ run_TY2HGSkm3ZeNTZBHOFCrYOBX                                                                                                                                                                           │\n",
      "│ assistant_id    │ asst_W7hPsoWqCRW6vGm8aqF57QiS                                                                                                                                                                          │\n",
      "│ cancelled_at    │                                                                                                                                                                                                        │\n",
      "│ completed_at    │                                                                                                                                                                                                        │\n",
      "│ created_at      │ 1706156042                                                                                                                                                                                             │\n",
      "│ expires_at      │ 1706156642                                                                                                                                                                                             │\n",
      "│ failed_at       │                                                                                                                                                                                                        │\n",
      "│ file_ids        │ ['file-pfTbb7tAwtmi6gbguGS2ziFk']                                                                                                                                                                      │\n",
      "│ instructions    │ You are customer service from Flora.You can only answer questions related to Flora. when answering any question, you must always answer base on manual which user have provided and respond only once. │\n",
      "│ last_error      │                                                                                                                                                                                                        │\n",
      "│ metadata        │ {}                                                                                                                                                                                                     │\n",
      "│ model           │ gpt-3.5-turbo-1106                                                                                                                                                                                     │\n",
      "│ object          │ thread.run                                                                                                                                                                                             │\n",
      "│ required_action │                                                                                                                                                                                                        │\n",
      "│ started_at      │ 1706156042                                                                                                                                                                                             │\n",
      "│ status          │ in_progress                                                                                                                                                                                            │\n",
      "│ thread_id       │ thread_m2Sq3aS8OyfcLqpS8Hwd1Fff                                                                                                                                                                        │\n",
      "│ tools           │ [ToolAssistantToolsRetrieval(type='retrieval'), ToolAssistantToolsCode(type='code_interpreter')]                                                                                                       │\n",
      "│ usage           │                                                                                                                                                                                                        │\n",
      "└─────────────────┴────────────────────────────────────────────────────────────────────────────────────────────────────────────────────────────────────────────────────────────────────────────────────────────────────────┘\n"
     ]
    }
   ],
   "source": [
    "run = client.beta.threads.runs.retrieve(\n",
    "  thread_id=thread.id,\n",
    "  run_id=run.id\n",
    ")\n",
    "print(tabulate(run,headers=['run','content'],tablefmt='simple_outline'))"
   ]
  },
  {
   "cell_type": "markdown",
   "metadata": {},
   "source": [
    "跑完後打開查看history messages!"
   ]
  },
  {
   "cell_type": "code",
   "execution_count": 30,
   "metadata": {},
   "outputs": [
    {
     "name": "stdout",
     "output_type": "stream",
     "text": [
      "┌──────────────┬───────────────────────────────────────────────────────────────────────────────────────────────────────────────────────────────────────────────┐\n",
      "│ id           │ msg_61iFcGxqt1xifYXbIo9bEKm2                                                                                                                  │\n",
      "│ assistant_id │                                                                                                                                               │\n",
      "│ content      │ [MessageContentText(text=Text(annotations=[], value='hey flora! Im having some issue with password! can you reset it for me?'), type='text')] │\n",
      "│ created_at   │ 1706156041                                                                                                                                    │\n",
      "│ file_ids     │ []                                                                                                                                            │\n",
      "│ metadata     │ {}                                                                                                                                            │\n",
      "│ object       │ thread.message                                                                                                                                │\n",
      "│ role         │ user                                                                                                                                          │\n",
      "│ run_id       │                                                                                                                                               │\n",
      "│ thread_id    │ thread_m2Sq3aS8OyfcLqpS8Hwd1Fff                                                                                                               │\n",
      "└──────────────┴───────────────────────────────────────────────────────────────────────────────────────────────────────────────────────────────────────────────┘\n",
      "┌──────────────┬────────────────────────────────────────────────────────────────────────────────────────────────────────────────────────────────────────────────────────────────────────────────────────────────────────────────────────────────────────────────────────────────────────────────────────────────────────────────────────────────────────────────────────────────────────────────────────────────────────────────────────┐\n",
      "│ id           │ msg_VCBbmagWNLiEbklqpzNuNE7m                                                                                                                                                                                                                                                                                                                                                                                           │\n",
      "│ assistant_id │ asst_W7hPsoWqCRW6vGm8aqF57QiS                                                                                                                                                                                                                                                                                                                                                                                          │\n",
      "│ content      │ [MessageContentText(text=Text(annotations=[], value='It seems that the file contains a transcript of user questions and corresponding responses related to the Flora app. Unfortunately, there is no information related to password reset in the provided content. Could you please provide more specific details about the issue you are facing with the password so that I can assist you further?'), type='text')] │\n",
      "│ created_at   │ 1706156047                                                                                                                                                                                                                                                                                                                                                                                                             │\n",
      "│ file_ids     │ []                                                                                                                                                                                                                                                                                                                                                                                                                     │\n",
      "│ metadata     │ {}                                                                                                                                                                                                                                                                                                                                                                                                                     │\n",
      "│ object       │ thread.message                                                                                                                                                                                                                                                                                                                                                                                                         │\n",
      "│ role         │ assistant                                                                                                                                                                                                                                                                                                                                                                                                              │\n",
      "│ run_id       │ run_TY2HGSkm3ZeNTZBHOFCrYOBX                                                                                                                                                                                                                                                                                                                                                                                           │\n",
      "│ thread_id    │ thread_m2Sq3aS8OyfcLqpS8Hwd1Fff                                                                                                                                                                                                                                                                                                                                                                                        │\n",
      "└──────────────┴────────────────────────────────────────────────────────────────────────────────────────────────────────────────────────────────────────────────────────────────────────────────────────────────────────────────────────────────────────────────────────────────────────────────────────────────────────────────────────────────────────────────────────────────────────────────────────────────────────────────────────┘\n"
     ]
    }
   ],
   "source": [
    "messages = client.beta.threads.messages.list(\n",
    "  thread_id=thread.id,\n",
    "  order='asc'\n",
    ")\n",
    "for i in messages.data:\n",
    "    print(tabulate(i,tablefmt='simple_outline'))"
   ]
  }
 ],
 "metadata": {
  "kernelspec": {
   "display_name": "Python 3",
   "language": "python",
   "name": "python3"
  },
  "language_info": {
   "codemirror_mode": {
    "name": "ipython",
    "version": 3
   },
   "file_extension": ".py",
   "mimetype": "text/x-python",
   "name": "python",
   "nbconvert_exporter": "python",
   "pygments_lexer": "ipython3",
   "version": "3.10.13"
  }
 },
 "nbformat": 4,
 "nbformat_minor": 2
}
