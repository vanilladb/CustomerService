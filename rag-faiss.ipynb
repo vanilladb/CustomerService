{
 "cells": [
  {
   "cell_type": "markdown",
   "metadata": {},
   "source": [
    "faiss事前準備:\n",
    "\n",
    "miniconda_python(3.10版本):\n",
    "\n",
    "https://docs.conda.io/projects/miniconda/en/latest/miniconda-other-installer-links.html\n",
    "\n",
    "裝完打開anaconda prompt:\n",
    "\n",
    "做一個環境```conda create -n VScode-env-3.10.13 python=3.10.13```\n",
    "\n",
    "做完啟動```conda activate VScode-env-3.10.13```\n",
    "\n",
    "安裝faiss插件\n",
    "\n",
    "```conda install -c pytorch faiss-cpu=1.7.4 mkl=2021 blas=1.0=mkl```\n",
    "\n",
    "```conda install -c pytorch/label/nightly faiss-cpu```\n",
    "\n",
    "關掉prompt 重新開啟VScode 右上角kernel 選擇another kernel->python env->VScode-env-3.10.13\n",
    "\n",
    "VScode商城:\n",
    "\n",
    "python\n",
    "\n",
    "jupyter\n",
    "\n",
    "import和拿key\n",
    "\n",
    "沒裝openai_SDK使用:```pip install openai```\n",
    "\n",
    "沒裝tabulate使用:```pip install tabulate```\n",
    "\n",
    "沒裝pandas:```pip install pandas```\n",
    "\n",
    "沒設定key使用:```setx OPENAI_API_KEY “<yourkey>”```\n",
    "\n",
    "```echo %OPENAI_API_KEY%```可以看你的KEY"
   ]
  },
  {
   "cell_type": "code",
   "execution_count": 22,
   "metadata": {},
   "outputs": [],
   "source": [
    "import os\n",
    "from openai import OpenAI\n",
    "client = OpenAI()\n",
    "OpenAI.api_key = os.getenv('OPENAI_API_KEY')"
   ]
  },
  {
   "cell_type": "markdown",
   "metadata": {},
   "source": [
    "# input在此輸入\n",
    "# channel在此輸入(1.App 2.Email 3.comment 4.funtion calling)\n",
    "# prompt type(1.origin 2.funtion calling)"
   ]
  },
  {
   "cell_type": "code",
   "execution_count": 23,
   "metadata": {},
   "outputs": [],
   "source": [
    "input = \"Can I change login password?\"\n",
    "channel = 4\n",
    "prompt_type = 2"
   ]
  },
  {
   "cell_type": "markdown",
   "metadata": {},
   "source": [
    "# instruction在此輸入"
   ]
  },
  {
   "cell_type": "code",
   "execution_count": 24,
   "metadata": {},
   "outputs": [],
   "source": [
    "instruction_App = \"You are InApp chatting bot from Flora customer service. You must answer questions related to Flora. We will give you one to three history questions and answers, You must answer based on the history. If there is 0 history question and answer, you must reply only a special mark:'*'\"\n",
    "\n",
    "instruction_Email = \"You are email reply bot from Flora customer service. You must answer questions related to Flora. We will give you one to three history questions and answers, You must answer based on the history. If there is 0 history question and answer, you must reply only a special mark:'*'\"\n",
    "\n",
    "instruction_Comment = \"You are Apple Appstore comment reply bot from Flora customer service. You must answer questions related to Flora. We will give you one to three history questions and answers, You must answer based on the history. If there is 0 history question and answer, you must reply only a special mark:'*'\"\n",
    "\n",
    "instruction_Funtion = \"You are Flora customer service. You must answer based on the history questions and answers from Flora's database. If there is 0 history question and answer, you must reply only a special mark:'*'\""
   ]
  },
  {
   "cell_type": "code",
   "execution_count": 25,
   "metadata": {},
   "outputs": [],
   "source": [
    "instruction = \"\"\n",
    "if channel == 1 :\n",
    "    instruction = instruction_App\n",
    "elif channel == 2 :\n",
    "    instruction = instruction_Email\n",
    "elif channel == 3 :\n",
    "    instruction = instruction_Comment\n",
    "elif channel == 4 :\n",
    "    instruction = instruction_Funtion"
   ]
  },
  {
   "cell_type": "code",
   "execution_count": null,
   "metadata": {},
   "outputs": [],
   "source": [
    "instruction += \"\\nYou must follow the SOP: \\n\"\n",
    "\n",
    "# The rule that Assistant should follow\n",
    "SOP = [\n",
    "    \"1. Based on history Q&A to answer.\",\n",
    "    \"2. If the customer's problem still can not be solved after you replied, reply only a special mark:'*'.\",\n",
    "]\n",
    "\n",
    "for i in SOP:\n",
    "    instruction = instruction + i + \"\\n\"\n",
    "\n",
    "print(instruction)"
   ]
  },
  {
   "cell_type": "markdown",
   "metadata": {},
   "source": [
    "先準備faiss\n",
    "\n",
    "讀embeddings資料\n",
    "\n",
    "並把dataframe轉為numpy"
   ]
  },
  {
   "cell_type": "code",
   "execution_count": 26,
   "metadata": {},
   "outputs": [],
   "source": [
    "import pandas as pd\n",
    "import numpy as np\n",
    "\n",
    "csv_file = 'data\\embeddingsV3_3072.csv'\n",
    "df = pd.read_csv(csv_file)\n",
    "data = df.to_numpy()\n",
    "df.head(5)"
   ]
  },
  {
   "cell_type": "markdown",
   "metadata": {},
   "source": [
    "確認內容"
   ]
  },
  {
   "cell_type": "code",
   "execution_count": 27,
   "metadata": {},
   "outputs": [],
   "source": [
    "print(data.shape[0])\n",
    "print(type(data))\n",
    "print(data.dtype)\n",
    "print(data[0][0])"
   ]
  },
  {
   "cell_type": "markdown",
   "metadata": {},
   "source": [
    "寫入維度 並把data加入faiss的index"
   ]
  },
  {
   "cell_type": "code",
   "execution_count": 28,
   "metadata": {},
   "outputs": [],
   "source": [
    "import faiss\n",
    "\n",
    "index = faiss.IndexFlatL2(data.shape[1])\n",
    "index.add(data)"
   ]
  },
  {
   "cell_type": "markdown",
   "metadata": {},
   "source": [
    "做問題的embedding\n",
    "\n",
    "TOP-k的設定並查找問題\n",
    "\n",
    "拿答案"
   ]
  },
  {
   "cell_type": "code",
   "execution_count": 29,
   "metadata": {},
   "outputs": [],
   "source": [
    "def get_similar(input):\n",
    "    response = client.embeddings.create(input=input, model=\"text-embedding-3-large\", dimensions=3072)\n",
    "    question = np.array(response.data[0].embedding, ndmin=2)\n",
    "    k = 3\n",
    "    distances, indices = index.search(question, k)\n",
    "    csv_question = 'data\\manual.csv'\n",
    "    qdf = pd.read_csv(csv_question)\n",
    "    qarray = qdf.to_numpy()\n",
    "    answer = [(qarray[i], float(dist)) for dist, i in zip(distances[0], indices[0])]\n",
    "    history = \"\"\n",
    "    min_distance = 1\n",
    "    Qcount = 0\n",
    "    for i in range(0,k):\n",
    "        if answer[i][1]<min_distance:\n",
    "            Qcount+=1\n",
    "            history = history +str(i+1)+\". \"+ answer[i][0][0]+\"\\n\"+answer[i][0][1]+\"\\n\"\n",
    "    return Qcount, history"
   ]
  },
  {
   "cell_type": "markdown",
   "metadata": {},
   "source": [
    "距離設定dist內才顯示"
   ]
  },
  {
   "cell_type": "markdown",
   "metadata": {},
   "source": [
    "# Prompt內容在此"
   ]
  },
  {
   "cell_type": "code",
   "execution_count": null,
   "metadata": {},
   "outputs": [],
   "source": [
    "similar = get_similar(input)\n",
    "if prompt_type == 1:\n",
    "    prompt = \"Here is \"+str(similar[0])+\" history questions and answers related to this question according to Flora's database\\n\"+similar[1]+\"Here is my question:\\n\"+input\n",
    "elif prompt_type == 2:\n",
    "    prompt = input\n",
    "print(prompt)"
   ]
  },
  {
   "cell_type": "markdown",
   "metadata": {},
   "source": [
    "創assistant,thread,message!"
   ]
  },
  {
   "cell_type": "code",
   "execution_count": 31,
   "metadata": {},
   "outputs": [],
   "source": [
    "from tabulate import tabulate\n",
    "\n",
    "assistant = client.beta.assistants.create(\n",
    "    name=\"Flora's Customer Service\",\n",
    "    instructions=instruction,\n",
    "    model=\"gpt-3.5-turbo-1106\",\n",
    "    tools = [\n",
    "        {\n",
    "            \"type\": \"function\",\n",
    "            \"function\": {\n",
    "                \"name\": \"get_history_question_and_answer\",\n",
    "                \"description\": \"Get 1 to 3 history questions and answers that is similar to current question\",\n",
    "                \"parameters\": {\n",
    "                    \"type\": \"object\",\n",
    "                    \"properties\": {\n",
    "                        \"current_question\": {\n",
    "                            \"type\": \"string\",\n",
    "                            \"description\": \"user's question\",\n",
    "                        },\n",
    "                    },\n",
    "                    \"required\": [\"current_question\"],\n",
    "                },\n",
    "            },\n",
    "        }\n",
    "    ]\n",
    ")\n",
    "\n",
    "thread = client.beta.threads.create()\n",
    "\n",
    "message = client.beta.threads.messages.create(\n",
    "    thread_id=thread.id,\n",
    "    role=\"user\",\n",
    "    content= prompt\n",
    ")\n"
   ]
  },
  {
   "cell_type": "markdown",
   "metadata": {},
   "source": [
    "沒裝tabulate很醜\n",
    "\n",
    "tabulate文件:https://pypi.org/project/tabulate/\n",
    "\n",
    "表示assistant,thread,message內容"
   ]
  },
  {
   "cell_type": "code",
   "execution_count": null,
   "metadata": {},
   "outputs": [],
   "source": [
    "print(tabulate(assistant,headers=['assistant','content'],tablefmt=\"simple_outline\"))"
   ]
  },
  {
   "cell_type": "code",
   "execution_count": null,
   "metadata": {},
   "outputs": [],
   "source": [
    "print(tabulate(thread,headers=['thread','content'],tablefmt=\"simple_outline\"))"
   ]
  },
  {
   "cell_type": "code",
   "execution_count": null,
   "metadata": {},
   "outputs": [],
   "source": [
    "print(tabulate(message,headers=['message','content'],tablefmt=\"simple_outline\"))"
   ]
  },
  {
   "cell_type": "markdown",
   "metadata": {},
   "source": [
    "這次的run\n",
    "\n",
    "可以使用新instruction複寫assisstant裡的instruction!\n",
    "\n",
    "like:\n",
    "\n",
    "```\n",
    "run = client.beta.threads.runs.create(\n",
    "  thread_id=thread.id,\n",
    "  assistant_id=assistant.id,\n",
    "  instructions=\"Please address the user as Jane Doe. The user has a premium account.\"\n",
    ")\n",
    "```\n"
   ]
  },
  {
   "cell_type": "code",
   "execution_count": 35,
   "metadata": {},
   "outputs": [],
   "source": [
    "run = client.beta.threads.runs.create(\n",
    "  thread_id=thread.id,\n",
    "  assistant_id=assistant.id\n",
    ")\n"
   ]
  },
  {
   "cell_type": "markdown",
   "metadata": {},
   "source": [
    "查看run的狀態!\n",
    "\n",
    "以上如果還沒跑完會顯示queued!\n",
    "\n",
    "以上如果跑完會顯示completed!"
   ]
  },
  {
   "cell_type": "code",
   "execution_count": null,
   "metadata": {},
   "outputs": [],
   "source": [
    "# run = client.beta.threads.runs.retrieve(\n",
    "#   thread_id=thread.id,\n",
    "#   run_id=run.id\n",
    "# )\n",
    "# print(tabulate(run,headers=['run','content'],tablefmt='simple_outline'))\n",
    "\n",
    "while run.status == \"queued\" or run.status == \"in_progress\":\n",
    "    run = client.beta.threads.runs.retrieve(\n",
    "        thread_id=thread.id,\n",
    "        run_id=run.id\n",
    "    )\n",
    "print(tabulate(run,headers=['run','content'],tablefmt='simple_outline'))"
   ]
  },
  {
   "cell_type": "code",
   "execution_count": null,
   "metadata": {},
   "outputs": [],
   "source": [
    "# if function calling is required, print user input\n",
    "try:\n",
    "    print(run.required_action.submit_tool_outputs.tool_calls[0].function.arguments[21:-2])\n",
    "\n",
    "except AttributeError:\n",
    "    print(\"No function calling\")\n"
   ]
  },
  {
   "cell_type": "code",
   "execution_count": 40,
   "metadata": {},
   "outputs": [],
   "source": [
    "try:\n",
    "  if run.required_action.submit_tool_outputs.tool_calls[0].function.name == \"get_history_question_and_answer\":\n",
    "    similar = get_similar(run.required_action.submit_tool_outputs.tool_calls[0].function.arguments[21:-2])\n",
    "    run = client.beta.threads.runs.submit_tool_outputs(\n",
    "      thread_id=thread.id,\n",
    "      run_id=run.id,\n",
    "      tool_outputs=[\n",
    "        {\n",
    "          \"tool_call_id\": run.required_action.submit_tool_outputs.tool_calls[0].id,\n",
    "          \"output\": similar[1]\n",
    "        }\n",
    "      ]\n",
    "    )\n",
    "except AttributeError:\n",
    "  print(\"No function calling\")"
   ]
  },
  {
   "cell_type": "markdown",
   "metadata": {},
   "source": [
    "跑完後打開查看history messages!"
   ]
  },
  {
   "cell_type": "code",
   "execution_count": null,
   "metadata": {},
   "outputs": [],
   "source": [
    "import time\n",
    "\n",
    "time.sleep(5)\n",
    "messages = client.beta.threads.messages.list(\n",
    "  thread_id=thread.id,\n",
    "  order='asc'\n",
    ")\n",
    "for i in messages.data:\n",
    "    print(tabulate(i,tablefmt='simple_outline'))"
   ]
  },
  {
   "cell_type": "markdown",
   "metadata": {},
   "source": [
    "訊息顯示"
   ]
  },
  {
   "cell_type": "code",
   "execution_count": null,
   "metadata": {},
   "outputs": [],
   "source": [
    "messages = client.beta.threads.messages.list(\n",
    "  thread_id=thread.id,\n",
    "  order='asc'\n",
    ")\n",
    "for i in messages.data:\n",
    "  print(i.content[0].text.value)\n",
    "  print(\"\\n\\n\\n\")"
   ]
  },
  {
   "cell_type": "markdown",
   "metadata": {},
   "source": [
    "# Delete Assistant"
   ]
  },
  {
   "cell_type": "code",
   "execution_count": null,
   "metadata": {},
   "outputs": [],
   "source": [
    "response = client.beta.assistants.delete(assistant.id)\n",
    "time.sleep(5)\n",
    "print(response)"
   ]
  }
 ],
 "metadata": {
  "kernelspec": {
   "display_name": "Python 3",
   "language": "python",
   "name": "python3"
  },
  "language_info": {
   "codemirror_mode": {
    "name": "ipython",
    "version": 3
   },
   "file_extension": ".py",
   "mimetype": "text/x-python",
   "name": "python",
   "nbconvert_exporter": "python",
   "pygments_lexer": "ipython3",
   "version": "3.10.13"
  }
 },
 "nbformat": 4,
 "nbformat_minor": 2
}
