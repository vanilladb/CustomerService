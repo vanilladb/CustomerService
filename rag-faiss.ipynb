{
 "cells": [
  {
   "cell_type": "markdown",
   "metadata": {},
   "source": [
    "faiss事前準備:\n",
    "\n",
    "miniconda_python(3.10版本):\n",
    "\n",
    "https://docs.conda.io/projects/miniconda/en/latest/miniconda-other-installer-links.html\n",
    "\n",
    "裝完打開anaconda prompt:\n",
    "\n",
    "做一個環境```conda create -n VScode-env-3.10.13 python=3.10.13```\n",
    "\n",
    "做完啟動```conda activate VScode-env-3.10.13```\n",
    "\n",
    "安裝faiss插件\n",
    "\n",
    "```conda install -c pytorch faiss-cpu=1.7.4 mkl=2021 blas=1.0=mkl```\n",
    "\n",
    "```conda install -c pytorch/label/nightly faiss-cpu```\n",
    "\n",
    "關掉prompt 重新開啟VScode 右上角kernel 選擇another kernel->python env->VScode-env-3.10.13\n",
    "\n",
    "VScode商城:\n",
    "\n",
    "python\n",
    "\n",
    "jupyter\n",
    "\n",
    "import和拿key\n",
    "\n",
    "沒裝openai_SDK使用:```pip install openai```\n",
    "\n",
    "沒裝tabulate使用:```pip install tabulate```\n",
    "\n",
    "沒裝pandas:```pip install pandas```\n",
    "\n",
    "沒設定key使用:```setx OPENAI_API_KEY “<yourkey>”```\n",
    "\n",
    "```echo %OPENAI_API_KEY%```可以看你的KEY"
   ]
  },
  {
   "cell_type": "code",
   "execution_count": 1,
   "metadata": {},
   "outputs": [],
   "source": [
    "import os\n",
    "from openai import OpenAI\n",
    "client = OpenAI()\n",
    "OpenAI.api_key = os.getenv('OPENAI_API_KEY')"
   ]
  },
  {
   "cell_type": "markdown",
   "metadata": {},
   "source": [
    "# input在此輸入\n",
    "# channel在此輸入(1.App 2.Email 3.comment)"
   ]
  },
  {
   "cell_type": "code",
   "execution_count": 2,
   "metadata": {},
   "outputs": [],
   "source": [
    "input = \"Can I change login password?\"\n",
    "channel = 2"
   ]
  },
  {
   "cell_type": "markdown",
   "metadata": {},
   "source": [
    "# instruction在此輸入"
   ]
  },
  {
   "cell_type": "code",
   "execution_count": 3,
   "metadata": {},
   "outputs": [],
   "source": [
    "instruction_App = \"You are InApp chatting bot from Flora customer service. You must answer questions related to Flora. We will give you one to three history questions and answers, You must answer based on the history. If there is 0 history question and answer, you must reply only a special mark:'*'\"\n",
    "\n",
    "instruction_Email = \"You are email reply bot from Flora customer service. You must answer questions related to Flora. We will give you one to three history questions and answers, You must answer based on the history. If there is 0 history question and answer, you must reply only a special mark:'*'\"\n",
    "\n",
    "instruction_Comment = \"You are Apple Appstore comment reply bot from Flora customer service. You must answer questions related to Flora. We will give you one to three history questions and answers, You must answer based on the history. If there is 0 history question and answer, you must reply only a special mark:'*'\"\n"
   ]
  },
  {
   "cell_type": "code",
   "execution_count": 4,
   "metadata": {},
   "outputs": [],
   "source": [
    "instruction = \"\"\n",
    "if channel == 1 :\n",
    "    instruction = instruction_App\n",
    "elif channel == 2 :\n",
    "    instruction = instruction_Email\n",
    "elif channel == 3 :\n",
    "    instruction = instruction_Comment"
   ]
  },
  {
   "cell_type": "markdown",
   "metadata": {},
   "source": [
    "先準備faiss\n",
    "\n",
    "讀embeddings資料\n",
    "\n",
    "並把dataframe轉為numpy"
   ]
  },
  {
   "cell_type": "code",
   "execution_count": 5,
   "metadata": {},
   "outputs": [
    {
     "name": "stderr",
     "output_type": "stream",
     "text": [
      "C:\\Users\\USER\\AppData\\Local\\Temp\\ipykernel_29112\\2915898147.py:1: DeprecationWarning: \n",
      "Pyarrow will become a required dependency of pandas in the next major release of pandas (pandas 3.0),\n",
      "(to allow more performant data types, such as the Arrow string type, and better interoperability with other libraries)\n",
      "but was not found to be installed on your system.\n",
      "If this would cause problems for you,\n",
      "please provide us feedback at https://github.com/pandas-dev/pandas/issues/54466\n",
      "        \n",
      "  import pandas as pd\n"
     ]
    },
    {
     "data": {
      "text/html": [
       "<div>\n",
       "<style scoped>\n",
       "    .dataframe tbody tr th:only-of-type {\n",
       "        vertical-align: middle;\n",
       "    }\n",
       "\n",
       "    .dataframe tbody tr th {\n",
       "        vertical-align: top;\n",
       "    }\n",
       "\n",
       "    .dataframe thead th {\n",
       "        text-align: right;\n",
       "    }\n",
       "</style>\n",
       "<table border=\"1\" class=\"dataframe\">\n",
       "  <thead>\n",
       "    <tr style=\"text-align: right;\">\n",
       "      <th></th>\n",
       "      <th>0</th>\n",
       "      <th>1</th>\n",
       "      <th>2</th>\n",
       "      <th>3</th>\n",
       "      <th>4</th>\n",
       "      <th>5</th>\n",
       "      <th>6</th>\n",
       "      <th>7</th>\n",
       "      <th>8</th>\n",
       "      <th>9</th>\n",
       "      <th>...</th>\n",
       "      <th>3062</th>\n",
       "      <th>3063</th>\n",
       "      <th>3064</th>\n",
       "      <th>3065</th>\n",
       "      <th>3066</th>\n",
       "      <th>3067</th>\n",
       "      <th>3068</th>\n",
       "      <th>3069</th>\n",
       "      <th>3070</th>\n",
       "      <th>3071</th>\n",
       "    </tr>\n",
       "  </thead>\n",
       "  <tbody>\n",
       "    <tr>\n",
       "      <th>0</th>\n",
       "      <td>-0.030886</td>\n",
       "      <td>-0.020970</td>\n",
       "      <td>0.002210</td>\n",
       "      <td>-0.032358</td>\n",
       "      <td>-0.014908</td>\n",
       "      <td>-0.007581</td>\n",
       "      <td>0.005008</td>\n",
       "      <td>0.012017</td>\n",
       "      <td>-0.034472</td>\n",
       "      <td>0.018240</td>\n",
       "      <td>...</td>\n",
       "      <td>0.001131</td>\n",
       "      <td>0.019792</td>\n",
       "      <td>-0.011917</td>\n",
       "      <td>0.007220</td>\n",
       "      <td>-0.018026</td>\n",
       "      <td>0.003841</td>\n",
       "      <td>0.001450</td>\n",
       "      <td>0.020649</td>\n",
       "      <td>-0.003747</td>\n",
       "      <td>0.021291</td>\n",
       "    </tr>\n",
       "    <tr>\n",
       "      <th>1</th>\n",
       "      <td>0.013026</td>\n",
       "      <td>0.013851</td>\n",
       "      <td>-0.009579</td>\n",
       "      <td>-0.059783</td>\n",
       "      <td>0.008046</td>\n",
       "      <td>-0.015229</td>\n",
       "      <td>0.002933</td>\n",
       "      <td>0.004625</td>\n",
       "      <td>-0.002641</td>\n",
       "      <td>0.046384</td>\n",
       "      <td>...</td>\n",
       "      <td>0.017729</td>\n",
       "      <td>0.013825</td>\n",
       "      <td>0.001612</td>\n",
       "      <td>-0.019378</td>\n",
       "      <td>0.011802</td>\n",
       "      <td>-0.009483</td>\n",
       "      <td>-0.006945</td>\n",
       "      <td>0.005122</td>\n",
       "      <td>0.004068</td>\n",
       "      <td>0.009393</td>\n",
       "    </tr>\n",
       "    <tr>\n",
       "      <th>2</th>\n",
       "      <td>-0.005118</td>\n",
       "      <td>-0.024766</td>\n",
       "      <td>-0.014762</td>\n",
       "      <td>-0.029704</td>\n",
       "      <td>-0.016605</td>\n",
       "      <td>-0.011532</td>\n",
       "      <td>-0.001856</td>\n",
       "      <td>0.039089</td>\n",
       "      <td>0.005199</td>\n",
       "      <td>0.034809</td>\n",
       "      <td>...</td>\n",
       "      <td>0.013769</td>\n",
       "      <td>0.028311</td>\n",
       "      <td>0.001599</td>\n",
       "      <td>-0.015600</td>\n",
       "      <td>0.024998</td>\n",
       "      <td>-0.024624</td>\n",
       "      <td>-0.000467</td>\n",
       "      <td>-0.005411</td>\n",
       "      <td>0.007058</td>\n",
       "      <td>0.008451</td>\n",
       "    </tr>\n",
       "    <tr>\n",
       "      <th>3</th>\n",
       "      <td>-0.019629</td>\n",
       "      <td>0.002125</td>\n",
       "      <td>-0.002155</td>\n",
       "      <td>-0.013240</td>\n",
       "      <td>0.015541</td>\n",
       "      <td>-0.034832</td>\n",
       "      <td>-0.044084</td>\n",
       "      <td>0.013315</td>\n",
       "      <td>0.035132</td>\n",
       "      <td>0.020191</td>\n",
       "      <td>...</td>\n",
       "      <td>0.003723</td>\n",
       "      <td>0.032956</td>\n",
       "      <td>-0.020729</td>\n",
       "      <td>-0.005295</td>\n",
       "      <td>0.016266</td>\n",
       "      <td>0.004657</td>\n",
       "      <td>-0.020029</td>\n",
       "      <td>0.008870</td>\n",
       "      <td>0.011921</td>\n",
       "      <td>0.033432</td>\n",
       "    </tr>\n",
       "    <tr>\n",
       "      <th>4</th>\n",
       "      <td>0.005265</td>\n",
       "      <td>0.015462</td>\n",
       "      <td>0.002796</td>\n",
       "      <td>-0.057215</td>\n",
       "      <td>0.013133</td>\n",
       "      <td>-0.032900</td>\n",
       "      <td>-0.001634</td>\n",
       "      <td>0.008408</td>\n",
       "      <td>-0.005457</td>\n",
       "      <td>0.024303</td>\n",
       "      <td>...</td>\n",
       "      <td>0.020498</td>\n",
       "      <td>0.016450</td>\n",
       "      <td>0.004387</td>\n",
       "      <td>-0.020389</td>\n",
       "      <td>-0.004006</td>\n",
       "      <td>0.007847</td>\n",
       "      <td>0.003600</td>\n",
       "      <td>0.005015</td>\n",
       "      <td>0.010267</td>\n",
       "      <td>0.010481</td>\n",
       "    </tr>\n",
       "  </tbody>\n",
       "</table>\n",
       "<p>5 rows × 3072 columns</p>\n",
       "</div>"
      ],
      "text/plain": [
       "          0         1         2         3         4         5         6  \\\n",
       "0 -0.030886 -0.020970  0.002210 -0.032358 -0.014908 -0.007581  0.005008   \n",
       "1  0.013026  0.013851 -0.009579 -0.059783  0.008046 -0.015229  0.002933   \n",
       "2 -0.005118 -0.024766 -0.014762 -0.029704 -0.016605 -0.011532 -0.001856   \n",
       "3 -0.019629  0.002125 -0.002155 -0.013240  0.015541 -0.034832 -0.044084   \n",
       "4  0.005265  0.015462  0.002796 -0.057215  0.013133 -0.032900 -0.001634   \n",
       "\n",
       "          7         8         9  ...      3062      3063      3064      3065  \\\n",
       "0  0.012017 -0.034472  0.018240  ...  0.001131  0.019792 -0.011917  0.007220   \n",
       "1  0.004625 -0.002641  0.046384  ...  0.017729  0.013825  0.001612 -0.019378   \n",
       "2  0.039089  0.005199  0.034809  ...  0.013769  0.028311  0.001599 -0.015600   \n",
       "3  0.013315  0.035132  0.020191  ...  0.003723  0.032956 -0.020729 -0.005295   \n",
       "4  0.008408 -0.005457  0.024303  ...  0.020498  0.016450  0.004387 -0.020389   \n",
       "\n",
       "       3066      3067      3068      3069      3070      3071  \n",
       "0 -0.018026  0.003841  0.001450  0.020649 -0.003747  0.021291  \n",
       "1  0.011802 -0.009483 -0.006945  0.005122  0.004068  0.009393  \n",
       "2  0.024998 -0.024624 -0.000467 -0.005411  0.007058  0.008451  \n",
       "3  0.016266  0.004657 -0.020029  0.008870  0.011921  0.033432  \n",
       "4 -0.004006  0.007847  0.003600  0.005015  0.010267  0.010481  \n",
       "\n",
       "[5 rows x 3072 columns]"
      ]
     },
     "execution_count": 5,
     "metadata": {},
     "output_type": "execute_result"
    }
   ],
   "source": [
    "import pandas as pd\n",
    "import numpy as np\n",
    "\n",
    "csv_file = 'data\\embeddingsV3_3072.csv'\n",
    "df = pd.read_csv(csv_file)\n",
    "data = df.to_numpy()\n",
    "df.head(5)"
   ]
  },
  {
   "cell_type": "markdown",
   "metadata": {},
   "source": [
    "確認內容"
   ]
  },
  {
   "cell_type": "code",
   "execution_count": 6,
   "metadata": {},
   "outputs": [
    {
     "name": "stdout",
     "output_type": "stream",
     "text": [
      "669\n",
      "<class 'numpy.ndarray'>\n",
      "float64\n",
      "-0.0308859776705503\n"
     ]
    }
   ],
   "source": [
    "print(data.shape[0])\n",
    "print(type(data))\n",
    "print(data.dtype)\n",
    "print(data[0][0])"
   ]
  },
  {
   "cell_type": "markdown",
   "metadata": {},
   "source": [
    "寫入維度 並把data加入faiss的index"
   ]
  },
  {
   "cell_type": "code",
   "execution_count": 7,
   "metadata": {},
   "outputs": [],
   "source": [
    "import faiss\n",
    "\n",
    "index = faiss.IndexFlatL2(data.shape[1])\n",
    "index.add(data)"
   ]
  },
  {
   "cell_type": "markdown",
   "metadata": {},
   "source": [
    "做問題的embedding"
   ]
  },
  {
   "cell_type": "code",
   "execution_count": 8,
   "metadata": {},
   "outputs": [
    {
     "name": "stdout",
     "output_type": "stream",
     "text": [
      "[[-0.04652419  0.01198071 -0.02578951 ...  0.00746571  0.01720119\n",
      "  -0.00836135]]\n"
     ]
    }
   ],
   "source": [
    "response = client.embeddings.create(input=input, model=\"text-embedding-3-large\", dimensions=3072)\n",
    "question = np.array(response.data[0].embedding, ndmin=2)\n",
    "print(question)"
   ]
  },
  {
   "cell_type": "markdown",
   "metadata": {},
   "source": [
    "TOP-k的設定並查找問題"
   ]
  },
  {
   "cell_type": "code",
   "execution_count": 9,
   "metadata": {},
   "outputs": [],
   "source": [
    "k = 3\n",
    "\n",
    "distances, indices = index.search(question, k)"
   ]
  },
  {
   "cell_type": "markdown",
   "metadata": {},
   "source": [
    "拿答案"
   ]
  },
  {
   "cell_type": "code",
   "execution_count": 10,
   "metadata": {},
   "outputs": [],
   "source": [
    "csv_question = 'data\\manual.csv'\n",
    "qdf = pd.read_csv(csv_question)\n",
    "qarray = qdf.to_numpy()"
   ]
  },
  {
   "cell_type": "markdown",
   "metadata": {},
   "source": [
    "看答案和距離"
   ]
  },
  {
   "cell_type": "code",
   "execution_count": 11,
   "metadata": {},
   "outputs": [
    {
     "name": "stdout",
     "output_type": "stream",
     "text": [
      "[(array(['Can I change my login email? ',\n",
      "       'Currently, changing your email is not supported in the settings. However, you may contact us to migrate your account for you. We can help migrate your account. Please use a new email address to register a new account and complete the verification process. After that, send us the old and new email address for the account, and we will manually migrate for you. Note that we can only keep the data of one account after connecting. In other words, the data in another account will be erased. Let us know if you have any questions.'],\n",
      "      dtype=object), 0.5653457641601562), (array(['How do I change my password? ',\n",
      "       'We could not manually set your password. However, you could do the following instructions. In the \"Log In\" section, there is an option \"Forgot password?\". By clicking, it would guide you through the process of resetting the password. Remember don\\'t swipe Flora while you go to check the passcode. In the \"Log In\" section, there is an option \"Forgot password?\". By clicking, it would guide you through the process of resetting the password.'],\n",
      "      dtype=object), 0.6743801832199097), (array(['I forgot my password, can you help me change it? ',\n",
      "       'We could not manually set your password. However, you could do the following instructions. In the \"Log In\" section, there is an option \"Forgot password?\". By clicking, it would guide you through the process of resetting the password. Remember don\\'t swipe Flora while you go to check the passcode. In the \"Log In\" section, there is an option \"Forgot password?\". By clicking, it would guide you through the process of resetting the password.'],\n",
      "      dtype=object), 0.8270727396011353)]\n"
     ]
    }
   ],
   "source": [
    "answer = [(qarray[i], float(dist)) for dist, i in zip(distances[0], indices[0])]\n",
    "print(answer)"
   ]
  },
  {
   "cell_type": "markdown",
   "metadata": {},
   "source": [
    "距離設定dist內才顯示"
   ]
  },
  {
   "cell_type": "markdown",
   "metadata": {},
   "source": [
    "# Prompt內容在此"
   ]
  },
  {
   "cell_type": "code",
   "execution_count": 12,
   "metadata": {},
   "outputs": [
    {
     "name": "stdout",
     "output_type": "stream",
     "text": [
      "Here is 3 history questions and answers related to this question according to Flora's database\n",
      "1. Can I change my login email? \n",
      "Currently, changing your email is not supported in the settings. However, you may contact us to migrate your account for you. We can help migrate your account. Please use a new email address to register a new account and complete the verification process. After that, send us the old and new email address for the account, and we will manually migrate for you. Note that we can only keep the data of one account after connecting. In other words, the data in another account will be erased. Let us know if you have any questions.\n",
      "2. How do I change my password? \n",
      "We could not manually set your password. However, you could do the following instructions. In the \"Log In\" section, there is an option \"Forgot password?\". By clicking, it would guide you through the process of resetting the password. Remember don't swipe Flora while you go to check the passcode. In the \"Log In\" section, there is an option \"Forgot password?\". By clicking, it would guide you through the process of resetting the password.\n",
      "3. I forgot my password, can you help me change it? \n",
      "We could not manually set your password. However, you could do the following instructions. In the \"Log In\" section, there is an option \"Forgot password?\". By clicking, it would guide you through the process of resetting the password. Remember don't swipe Flora while you go to check the passcode. In the \"Log In\" section, there is an option \"Forgot password?\". By clicking, it would guide you through the process of resetting the password.\n",
      "Here is my question:\n",
      "Can I change login password?\n"
     ]
    }
   ],
   "source": [
    "history = \"\"\n",
    "min_distance = 1\n",
    "Qcount = 0\n",
    "for i in range(0,k):\n",
    "    if answer[i][1]<min_distance:\n",
    "        Qcount+=1\n",
    "        history = history +str(i+1)+\". \"+ answer[i][0][0]+\"\\n\"+answer[i][0][1]+\"\\n\"\n",
    "prompt = \"Here is \"+str(Qcount)+\" history questions and answers related to this question according to Flora's database\\n\"+history+\"Here is my question:\\n\"+input\n",
    "print(prompt)"
   ]
  },
  {
   "cell_type": "markdown",
   "metadata": {},
   "source": [
    "創assistant,thread,message!"
   ]
  },
  {
   "cell_type": "code",
   "execution_count": 13,
   "metadata": {},
   "outputs": [],
   "source": [
    "from tabulate import tabulate\n",
    "\n",
    "assistant = client.beta.assistants.create(\n",
    "    name=\"Flora's Customer Service\",\n",
    "    instructions=instruction,\n",
    "    model=\"gpt-3.5-turbo-1106\"\n",
    ")\n",
    "\n",
    "thread = client.beta.threads.create()\n",
    "\n",
    "message = client.beta.threads.messages.create(\n",
    "    thread_id=thread.id,\n",
    "    role=\"user\",\n",
    "    content= prompt\n",
    ")\n"
   ]
  },
  {
   "cell_type": "markdown",
   "metadata": {},
   "source": [
    "沒裝tabulate很醜\n",
    "\n",
    "tabulate文件:https://pypi.org/project/tabulate/\n",
    "\n",
    "表示assistant,thread,message內容"
   ]
  },
  {
   "cell_type": "code",
   "execution_count": 14,
   "metadata": {},
   "outputs": [
    {
     "name": "stdout",
     "output_type": "stream",
     "text": [
      "┌──────────────┬───────────────────────────────────────────────────────────────────────────────────────────────────────────────────────────────────────────────────────────────────────────────────────────────────────────────────────────────────────────────────────────────────────────────────────┐\n",
      "│ assistant    │ content                                                                                                                                                                                                                                                                               │\n",
      "├──────────────┼───────────────────────────────────────────────────────────────────────────────────────────────────────────────────────────────────────────────────────────────────────────────────────────────────────────────────────────────────────────────────────────────────────────────────────┤\n",
      "│ id           │ asst_bxbz4QKtSW3Xs224LFkvkoXq                                                                                                                                                                                                                                                         │\n",
      "│ created_at   │ 1711007372                                                                                                                                                                                                                                                                            │\n",
      "│ description  │                                                                                                                                                                                                                                                                                       │\n",
      "│ file_ids     │ []                                                                                                                                                                                                                                                                                    │\n",
      "│ instructions │ You are email reply bot from Flora customer service. You must answer questions related to Flora. We will give you one to three history questions and answers, You must answer based on the history. If there is 0 history question and answer, you must reply only a special mark:'*' │\n",
      "│ metadata     │ {}                                                                                                                                                                                                                                                                                    │\n",
      "│ model        │ gpt-3.5-turbo-1106                                                                                                                                                                                                                                                                    │\n",
      "│ name         │ Flora's Customer Service                                                                                                                                                                                                                                                              │\n",
      "│ object       │ assistant                                                                                                                                                                                                                                                                             │\n",
      "│ tools        │ []                                                                                                                                                                                                                                                                                    │\n",
      "└──────────────┴───────────────────────────────────────────────────────────────────────────────────────────────────────────────────────────────────────────────────────────────────────────────────────────────────────────────────────────────────────────────────────────────────────────────────────┘\n"
     ]
    }
   ],
   "source": [
    "print(tabulate(assistant,headers=['assistant','content'],tablefmt=\"simple_outline\"))"
   ]
  },
  {
   "cell_type": "code",
   "execution_count": 15,
   "metadata": {},
   "outputs": [
    {
     "name": "stdout",
     "output_type": "stream",
     "text": [
      "┌────────────┬─────────────────────────────────┐\n",
      "│ thread     │ content                         │\n",
      "├────────────┼─────────────────────────────────┤\n",
      "│ id         │ thread_ZQgh49nZmg1zQAV2oJxyZARN │\n",
      "│ created_at │ 1711007372                      │\n",
      "│ metadata   │ {}                              │\n",
      "│ object     │ thread                          │\n",
      "└────────────┴─────────────────────────────────┘\n"
     ]
    }
   ],
   "source": [
    "print(tabulate(thread,headers=['thread','content'],tablefmt=\"simple_outline\"))"
   ]
  },
  {
   "cell_type": "code",
   "execution_count": 16,
   "metadata": {},
   "outputs": [
    {
     "name": "stdout",
     "output_type": "stream",
     "text": [
      "┌────────────────────┬─────────────────────────────────────────────────────────────────────────────────────────────────────────────────────────────────────────────────────────────────────────────────────────────────────────────────────────────────────────────────────────────────────────────────────────────────────────────────────────────────────────────────────────────────────────────────────────────────────────────────────────────────────────────────────────────────────────────────────────────────────────────────────────────────────────────────────────────────────────────────────────────────────────────────────────────────────────────────────────────────────────────────────────────────────────────────────────────────────────────────────────────────────────────────────────────────────────────────────────────────────────────────────────────────────────────────────────────────────────────────────────────────────────────────────────────────────────────────────────────────────────────────────────────────────────────────────────────────────────────────────────────────────────────────────────────────────────────────────────────────────────────────────────────────────────────────────────────────────────────────────────────────────────────────────────────────────────────────────────────────────────────────────────────────────────────────────────────────────────────────────────────────────────────────────────────────────────────────────────────────────────────────────────────────────────────────────────────────────────────────────────────────────────────────────────────────────────────────────────────────────────────────────────────────────────────────────────────────────────────────────────────────────────────────────────────────────────────────────────┐\n",
      "│ message            │ content                                                                                                                                                                                                                                                                                                                                                                                                                                                                                                                                                                                                                                                                                                                                                                                                                                                                                                                                                                                                                                                                                                                                                                                                                                                                                                                                                                                                                                                                                                                                                                                                                                                                                                                                                                                                                 │\n",
      "├────────────────────┼─────────────────────────────────────────────────────────────────────────────────────────────────────────────────────────────────────────────────────────────────────────────────────────────────────────────────────────────────────────────────────────────────────────────────────────────────────────────────────────────────────────────────────────────────────────────────────────────────────────────────────────────────────────────────────────────────────────────────────────────────────────────────────────────────────────────────────────────────────────────────────────────────────────────────────────────────────────────────────────────────────────────────────────────────────────────────────────────────────────────────────────────────────────────────────────────────────────────────────────────────────────────────────────────────────────────────────────────────────────────────────────────────────────────────────────────────────────────────────────────────────────────────────────────────────────────────────────────────────────────────────────────────────────────────────────────────────────────────────────────────────────────────────────────────────────────────────────────────────────────────────────────────────────────────────────────────────────────────────────────────────────────────────────────────────────────────────────────────────────────────────────────────────────────────────────────────────────────────────────────────────────────────────────────────────────────────────────────────────────────────────────────────────────────────────────────────────────────────────────────────────────────────────────────────────────────────────────────────────────────────────────────────────────────────────────────────────────────────────────┤\n",
      "│ id                 │ msg_bj88iIUfOycsMPlSi2Hr6iO1                                                                                                                                                                                                                                                                                                                                                                                                                                                                                                                                                                                                                                                                                                                                                                                                                                                                                                                                                                                                                                                                                                                                                                                                                                                                                                                                                                                                                                                                                                                                                                                                                                                                                                                                                                                            │\n",
      "│ assistant_id       │                                                                                                                                                                                                                                                                                                                                                                                                                                                                                                                                                                                                                                                                                                                                                                                                                                                                                                                                                                                                                                                                                                                                                                                                                                                                                                                                                                                                                                                                                                                                                                                                                                                                                                                                                                                                                         │\n",
      "│ completed_at       │                                                                                                                                                                                                                                                                                                                                                                                                                                                                                                                                                                                                                                                                                                                                                                                                                                                                                                                                                                                                                                                                                                                                                                                                                                                                                                                                                                                                                                                                                                                                                                                                                                                                                                                                                                                                                         │\n",
      "│ content            │ [TextContentBlock(text=Text(annotations=[], value='Here is 3 history questions and answers related to this question according to Flora\\'s database\\n1. Can I change my login email? \\nCurrently, changing your email is not supported in the settings. However, you may contact us to migrate your account for you. We can help migrate your account. Please use a new email address to register a new account and complete the verification process. After that, send us the old and new email address for the account, and we will manually migrate for you. Note that we can only keep the data of one account after connecting. In other words, the data in another account will be erased. Let us know if you have any questions.\\n2. How do I change my password? \\nWe could not manually set your password. However, you could do the following instructions. In the \"Log In\" section, there is an option \"Forgot password?\". By clicking, it would guide you through the process of resetting the password. Remember don\\'t swipe Flora while you go to check the passcode. In the \"Log In\" section, there is an option \"Forgot password?\". By clicking, it would guide you through the process of resetting the password.\\n3. I forgot my password, can you help me change it? \\nWe could not manually set your password. However, you could do the following instructions. In the \"Log In\" section, there is an option \"Forgot password?\". By clicking, it would guide you through the process of resetting the password. Remember don\\'t swipe Flora while you go to check the passcode. In the \"Log In\" section, there is an option \"Forgot password?\". By clicking, it would guide you through the process of resetting the password.\\nHere is my question:\\nCan I change login password?'), type='text')] │\n",
      "│ created_at         │ 1711007373                                                                                                                                                                                                                                                                                                                                                                                                                                                                                                                                                                                                                                                                                                                                                                                                                                                                                                                                                                                                                                                                                                                                                                                                                                                                                                                                                                                                                                                                                                                                                                                                                                                                                                                                                                                                              │\n",
      "│ file_ids           │ []                                                                                                                                                                                                                                                                                                                                                                                                                                                                                                                                                                                                                                                                                                                                                                                                                                                                                                                                                                                                                                                                                                                                                                                                                                                                                                                                                                                                                                                                                                                                                                                                                                                                                                                                                                                                                      │\n",
      "│ incomplete_at      │                                                                                                                                                                                                                                                                                                                                                                                                                                                                                                                                                                                                                                                                                                                                                                                                                                                                                                                                                                                                                                                                                                                                                                                                                                                                                                                                                                                                                                                                                                                                                                                                                                                                                                                                                                                                                         │\n",
      "│ incomplete_details │                                                                                                                                                                                                                                                                                                                                                                                                                                                                                                                                                                                                                                                                                                                                                                                                                                                                                                                                                                                                                                                                                                                                                                                                                                                                                                                                                                                                                                                                                                                                                                                                                                                                                                                                                                                                                         │\n",
      "│ metadata           │ {}                                                                                                                                                                                                                                                                                                                                                                                                                                                                                                                                                                                                                                                                                                                                                                                                                                                                                                                                                                                                                                                                                                                                                                                                                                                                                                                                                                                                                                                                                                                                                                                                                                                                                                                                                                                                                      │\n",
      "│ object             │ thread.message                                                                                                                                                                                                                                                                                                                                                                                                                                                                                                                                                                                                                                                                                                                                                                                                                                                                                                                                                                                                                                                                                                                                                                                                                                                                                                                                                                                                                                                                                                                                                                                                                                                                                                                                                                                                          │\n",
      "│ role               │ user                                                                                                                                                                                                                                                                                                                                                                                                                                                                                                                                                                                                                                                                                                                                                                                                                                                                                                                                                                                                                                                                                                                                                                                                                                                                                                                                                                                                                                                                                                                                                                                                                                                                                                                                                                                                                    │\n",
      "│ run_id             │                                                                                                                                                                                                                                                                                                                                                                                                                                                                                                                                                                                                                                                                                                                                                                                                                                                                                                                                                                                                                                                                                                                                                                                                                                                                                                                                                                                                                                                                                                                                                                                                                                                                                                                                                                                                                         │\n",
      "│ status             │                                                                                                                                                                                                                                                                                                                                                                                                                                                                                                                                                                                                                                                                                                                                                                                                                                                                                                                                                                                                                                                                                                                                                                                                                                                                                                                                                                                                                                                                                                                                                                                                                                                                                                                                                                                                                         │\n",
      "│ thread_id          │ thread_ZQgh49nZmg1zQAV2oJxyZARN                                                                                                                                                                                                                                                                                                                                                                                                                                                                                                                                                                                                                                                                                                                                                                                                                                                                                                                                                                                                                                                                                                                                                                                                                                                                                                                                                                                                                                                                                                                                                                                                                                                                                                                                                                                         │\n",
      "└────────────────────┴─────────────────────────────────────────────────────────────────────────────────────────────────────────────────────────────────────────────────────────────────────────────────────────────────────────────────────────────────────────────────────────────────────────────────────────────────────────────────────────────────────────────────────────────────────────────────────────────────────────────────────────────────────────────────────────────────────────────────────────────────────────────────────────────────────────────────────────────────────────────────────────────────────────────────────────────────────────────────────────────────────────────────────────────────────────────────────────────────────────────────────────────────────────────────────────────────────────────────────────────────────────────────────────────────────────────────────────────────────────────────────────────────────────────────────────────────────────────────────────────────────────────────────────────────────────────────────────────────────────────────────────────────────────────────────────────────────────────────────────────────────────────────────────────────────────────────────────────────────────────────────────────────────────────────────────────────────────────────────────────────────────────────────────────────────────────────────────────────────────────────────────────────────────────────────────────────────────────────────────────────────────────────────────────────────────────────────────────────────────────────────────────────────────────────────────────────────────────────────────────────────────────────────────────────────────────────────────────────────────────────────────────────────────────────────────────────────────────────────────┘\n"
     ]
    }
   ],
   "source": [
    "print(tabulate(message,headers=['message','content'],tablefmt=\"simple_outline\"))"
   ]
  },
  {
   "cell_type": "markdown",
   "metadata": {},
   "source": [
    "這次的run\n",
    "\n",
    "可以使用新instruction複寫assisstant裡的instruction!\n",
    "\n",
    "like:\n",
    "\n",
    "```\n",
    "run = client.beta.threads.runs.create(\n",
    "  thread_id=thread.id,\n",
    "  assistant_id=assistant.id,\n",
    "  instructions=\"Please address the user as Jane Doe. The user has a premium account.\"\n",
    ")\n",
    "```\n"
   ]
  },
  {
   "cell_type": "code",
   "execution_count": 17,
   "metadata": {},
   "outputs": [],
   "source": [
    "run = client.beta.threads.runs.create(\n",
    "  thread_id=thread.id,\n",
    "  assistant_id=assistant.id\n",
    ")"
   ]
  },
  {
   "cell_type": "markdown",
   "metadata": {},
   "source": [
    "查看run的狀態!\n",
    "\n",
    "以上如果還沒跑完會顯示queued!\n",
    "\n",
    "以上如果跑完會顯示completed!"
   ]
  },
  {
   "cell_type": "code",
   "execution_count": 18,
   "metadata": {},
   "outputs": [
    {
     "name": "stdout",
     "output_type": "stream",
     "text": [
      "┌─────────────────┬───────────────────────────────────────────────────────────────────────────────────────────────────────────────────────────────────────────────────────────────────────────────────────────────────────────────────────────────────────────────────────────────────────────────────────┐\n",
      "│ run             │ content                                                                                                                                                                                                                                                                               │\n",
      "├─────────────────┼───────────────────────────────────────────────────────────────────────────────────────────────────────────────────────────────────────────────────────────────────────────────────────────────────────────────────────────────────────────────────────────────────────────────────────┤\n",
      "│ id              │ run_4RaqRZQJO38vAHJ1C7Ms4rGL                                                                                                                                                                                                                                                          │\n",
      "│ assistant_id    │ asst_bxbz4QKtSW3Xs224LFkvkoXq                                                                                                                                                                                                                                                         │\n",
      "│ cancelled_at    │                                                                                                                                                                                                                                                                                       │\n",
      "│ completed_at    │                                                                                                                                                                                                                                                                                       │\n",
      "│ created_at      │ 1711007373                                                                                                                                                                                                                                                                            │\n",
      "│ expires_at      │ 1711007973                                                                                                                                                                                                                                                                            │\n",
      "│ failed_at       │                                                                                                                                                                                                                                                                                       │\n",
      "│ file_ids        │ []                                                                                                                                                                                                                                                                                    │\n",
      "│ instructions    │ You are email reply bot from Flora customer service. You must answer questions related to Flora. We will give you one to three history questions and answers, You must answer based on the history. If there is 0 history question and answer, you must reply only a special mark:'*' │\n",
      "│ last_error      │                                                                                                                                                                                                                                                                                       │\n",
      "│ metadata        │ {}                                                                                                                                                                                                                                                                                    │\n",
      "│ model           │ gpt-3.5-turbo-1106                                                                                                                                                                                                                                                                    │\n",
      "│ object          │ thread.run                                                                                                                                                                                                                                                                            │\n",
      "│ required_action │                                                                                                                                                                                                                                                                                       │\n",
      "│ started_at      │ 1711007373                                                                                                                                                                                                                                                                            │\n",
      "│ status          │ in_progress                                                                                                                                                                                                                                                                           │\n",
      "│ thread_id       │ thread_ZQgh49nZmg1zQAV2oJxyZARN                                                                                                                                                                                                                                                       │\n",
      "│ tools           │ []                                                                                                                                                                                                                                                                                    │\n",
      "│ usage           │                                                                                                                                                                                                                                                                                       │\n",
      "└─────────────────┴───────────────────────────────────────────────────────────────────────────────────────────────────────────────────────────────────────────────────────────────────────────────────────────────────────────────────────────────────────────────────────────────────────────────────────┘\n"
     ]
    }
   ],
   "source": [
    "run = client.beta.threads.runs.retrieve(\n",
    "  thread_id=thread.id,\n",
    "  run_id=run.id\n",
    ")\n",
    "print(tabulate(run,headers=['run','content'],tablefmt='simple_outline'))"
   ]
  },
  {
   "cell_type": "markdown",
   "metadata": {},
   "source": [
    "跑完後打開查看history messages!"
   ]
  },
  {
   "cell_type": "code",
   "execution_count": 21,
   "metadata": {},
   "outputs": [
    {
     "name": "stdout",
     "output_type": "stream",
     "text": [
      "┌────────────────────┬─────────────────────────────────────────────────────────────────────────────────────────────────────────────────────────────────────────────────────────────────────────────────────────────────────────────────────────────────────────────────────────────────────────────────────────────────────────────────────────────────────────────────────────────────────────────────────────────────────────────────────────────────────────────────────────────────────────────────────────────────────────────────────────────────────────────────────────────────────────────────────────────────────────────────────────────────────────────────────────────────────────────────────────────────────────────────────────────────────────────────────────────────────────────────────────────────────────────────────────────────────────────────────────────────────────────────────────────────────────────────────────────────────────────────────────────────────────────────────────────────────────────────────────────────────────────────────────────────────────────────────────────────────────────────────────────────────────────────────────────────────────────────────────────────────────────────────────────────────────────────────────────────────────────────────────────────────────────────────────────────────────────────────────────────────────────────────────────────────────────────────────────────────────────────────────────────────────────────────────────────────────────────────────────────────────────────────────────────────────────────────────────────────────────────────────────────────────────────────────────────────────────────────────────────────────────────────────────────────────────────────────────────────────────────────────────────────────────────────────┐\n",
      "│ id                 │ msg_bj88iIUfOycsMPlSi2Hr6iO1                                                                                                                                                                                                                                                                                                                                                                                                                                                                                                                                                                                                                                                                                                                                                                                                                                                                                                                                                                                                                                                                                                                                                                                                                                                                                                                                                                                                                                                                                                                                                                                                                                                                                                                                                                                            │\n",
      "│ assistant_id       │                                                                                                                                                                                                                                                                                                                                                                                                                                                                                                                                                                                                                                                                                                                                                                                                                                                                                                                                                                                                                                                                                                                                                                                                                                                                                                                                                                                                                                                                                                                                                                                                                                                                                                                                                                                                                         │\n",
      "│ completed_at       │                                                                                                                                                                                                                                                                                                                                                                                                                                                                                                                                                                                                                                                                                                                                                                                                                                                                                                                                                                                                                                                                                                                                                                                                                                                                                                                                                                                                                                                                                                                                                                                                                                                                                                                                                                                                                         │\n",
      "│ content            │ [TextContentBlock(text=Text(annotations=[], value='Here is 3 history questions and answers related to this question according to Flora\\'s database\\n1. Can I change my login email? \\nCurrently, changing your email is not supported in the settings. However, you may contact us to migrate your account for you. We can help migrate your account. Please use a new email address to register a new account and complete the verification process. After that, send us the old and new email address for the account, and we will manually migrate for you. Note that we can only keep the data of one account after connecting. In other words, the data in another account will be erased. Let us know if you have any questions.\\n2. How do I change my password? \\nWe could not manually set your password. However, you could do the following instructions. In the \"Log In\" section, there is an option \"Forgot password?\". By clicking, it would guide you through the process of resetting the password. Remember don\\'t swipe Flora while you go to check the passcode. In the \"Log In\" section, there is an option \"Forgot password?\". By clicking, it would guide you through the process of resetting the password.\\n3. I forgot my password, can you help me change it? \\nWe could not manually set your password. However, you could do the following instructions. In the \"Log In\" section, there is an option \"Forgot password?\". By clicking, it would guide you through the process of resetting the password. Remember don\\'t swipe Flora while you go to check the passcode. In the \"Log In\" section, there is an option \"Forgot password?\". By clicking, it would guide you through the process of resetting the password.\\nHere is my question:\\nCan I change login password?'), type='text')] │\n",
      "│ created_at         │ 1711007373                                                                                                                                                                                                                                                                                                                                                                                                                                                                                                                                                                                                                                                                                                                                                                                                                                                                                                                                                                                                                                                                                                                                                                                                                                                                                                                                                                                                                                                                                                                                                                                                                                                                                                                                                                                                              │\n",
      "│ file_ids           │ []                                                                                                                                                                                                                                                                                                                                                                                                                                                                                                                                                                                                                                                                                                                                                                                                                                                                                                                                                                                                                                                                                                                                                                                                                                                                                                                                                                                                                                                                                                                                                                                                                                                                                                                                                                                                                      │\n",
      "│ incomplete_at      │                                                                                                                                                                                                                                                                                                                                                                                                                                                                                                                                                                                                                                                                                                                                                                                                                                                                                                                                                                                                                                                                                                                                                                                                                                                                                                                                                                                                                                                                                                                                                                                                                                                                                                                                                                                                                         │\n",
      "│ incomplete_details │                                                                                                                                                                                                                                                                                                                                                                                                                                                                                                                                                                                                                                                                                                                                                                                                                                                                                                                                                                                                                                                                                                                                                                                                                                                                                                                                                                                                                                                                                                                                                                                                                                                                                                                                                                                                                         │\n",
      "│ metadata           │ {}                                                                                                                                                                                                                                                                                                                                                                                                                                                                                                                                                                                                                                                                                                                                                                                                                                                                                                                                                                                                                                                                                                                                                                                                                                                                                                                                                                                                                                                                                                                                                                                                                                                                                                                                                                                                                      │\n",
      "│ object             │ thread.message                                                                                                                                                                                                                                                                                                                                                                                                                                                                                                                                                                                                                                                                                                                                                                                                                                                                                                                                                                                                                                                                                                                                                                                                                                                                                                                                                                                                                                                                                                                                                                                                                                                                                                                                                                                                          │\n",
      "│ role               │ user                                                                                                                                                                                                                                                                                                                                                                                                                                                                                                                                                                                                                                                                                                                                                                                                                                                                                                                                                                                                                                                                                                                                                                                                                                                                                                                                                                                                                                                                                                                                                                                                                                                                                                                                                                                                                    │\n",
      "│ run_id             │                                                                                                                                                                                                                                                                                                                                                                                                                                                                                                                                                                                                                                                                                                                                                                                                                                                                                                                                                                                                                                                                                                                                                                                                                                                                                                                                                                                                                                                                                                                                                                                                                                                                                                                                                                                                                         │\n",
      "│ status             │                                                                                                                                                                                                                                                                                                                                                                                                                                                                                                                                                                                                                                                                                                                                                                                                                                                                                                                                                                                                                                                                                                                                                                                                                                                                                                                                                                                                                                                                                                                                                                                                                                                                                                                                                                                                                         │\n",
      "│ thread_id          │ thread_ZQgh49nZmg1zQAV2oJxyZARN                                                                                                                                                                                                                                                                                                                                                                                                                                                                                                                                                                                                                                                                                                                                                                                                                                                                                                                                                                                                                                                                                                                                                                                                                                                                                                                                                                                                                                                                                                                                                                                                                                                                                                                                                                                         │\n",
      "└────────────────────┴─────────────────────────────────────────────────────────────────────────────────────────────────────────────────────────────────────────────────────────────────────────────────────────────────────────────────────────────────────────────────────────────────────────────────────────────────────────────────────────────────────────────────────────────────────────────────────────────────────────────────────────────────────────────────────────────────────────────────────────────────────────────────────────────────────────────────────────────────────────────────────────────────────────────────────────────────────────────────────────────────────────────────────────────────────────────────────────────────────────────────────────────────────────────────────────────────────────────────────────────────────────────────────────────────────────────────────────────────────────────────────────────────────────────────────────────────────────────────────────────────────────────────────────────────────────────────────────────────────────────────────────────────────────────────────────────────────────────────────────────────────────────────────────────────────────────────────────────────────────────────────────────────────────────────────────────────────────────────────────────────────────────────────────────────────────────────────────────────────────────────────────────────────────────────────────────────────────────────────────────────────────────────────────────────────────────────────────────────────────────────────────────────────────────────────────────────────────────────────────────────────────────────────────────────────────────────────────────────────────────────────────────────────────────────────────────────────────────────────────┘\n",
      "┌────────────────────┬──────────────────────────────────────────────────────────────────────────────────────────────────────────────────────────────────────────────────────────────────────────────────────────────────────────────────────────────────────────────────────────────────────────────────────────────────────────────────────────────────────────────────────────────────────────────────┐\n",
      "│ id                 │ msg_Pl3p1ZeetqesHv9dDJArGK8v                                                                                                                                                                                                                                                                                                                                                     │\n",
      "│ assistant_id       │ asst_bxbz4QKtSW3Xs224LFkvkoXq                                                                                                                                                                                                                                                                                                                                                    │\n",
      "│ completed_at       │                                                                                                                                                                                                                                                                                                                                                                                  │\n",
      "│ content            │ [TextContentBlock(text=Text(annotations=[], value='We could not manually set your password. However, you could do the following instructions. In the \"Log In\" section, there is an option \"Forgot password?\". By clicking it, it would guide you through the process of resetting the password. Remember not to close Flora while you go to check the passcode.'), type='text')] │\n",
      "│ created_at         │ 1711007374                                                                                                                                                                                                                                                                                                                                                                       │\n",
      "│ file_ids           │ []                                                                                                                                                                                                                                                                                                                                                                               │\n",
      "│ incomplete_at      │                                                                                                                                                                                                                                                                                                                                                                                  │\n",
      "│ incomplete_details │                                                                                                                                                                                                                                                                                                                                                                                  │\n",
      "│ metadata           │ {}                                                                                                                                                                                                                                                                                                                                                                               │\n",
      "│ object             │ thread.message                                                                                                                                                                                                                                                                                                                                                                   │\n",
      "│ role               │ assistant                                                                                                                                                                                                                                                                                                                                                                        │\n",
      "│ run_id             │ run_4RaqRZQJO38vAHJ1C7Ms4rGL                                                                                                                                                                                                                                                                                                                                                     │\n",
      "│ status             │                                                                                                                                                                                                                                                                                                                                                                                  │\n",
      "│ thread_id          │ thread_ZQgh49nZmg1zQAV2oJxyZARN                                                                                                                                                                                                                                                                                                                                                  │\n",
      "└────────────────────┴──────────────────────────────────────────────────────────────────────────────────────────────────────────────────────────────────────────────────────────────────────────────────────────────────────────────────────────────────────────────────────────────────────────────────────────────────────────────────────────────────────────────────────────────────────────────────┘\n"
     ]
    }
   ],
   "source": [
    "import time\n",
    "time.sleep(5)\n",
    "messages = client.beta.threads.messages.list(\n",
    "  thread_id=thread.id,\n",
    "  order='asc'\n",
    ")\n",
    "for i in messages.data:\n",
    "    print(tabulate(i,tablefmt='simple_outline'))"
   ]
  },
  {
   "cell_type": "markdown",
   "metadata": {},
   "source": [
    "訊息顯示"
   ]
  },
  {
   "cell_type": "code",
   "execution_count": 22,
   "metadata": {},
   "outputs": [
    {
     "name": "stdout",
     "output_type": "stream",
     "text": [
      "Here is 3 history questions and answers related to this question according to Flora's database\n",
      "1. Can I change my login email? \n",
      "Currently, changing your email is not supported in the settings. However, you may contact us to migrate your account for you. We can help migrate your account. Please use a new email address to register a new account and complete the verification process. After that, send us the old and new email address for the account, and we will manually migrate for you. Note that we can only keep the data of one account after connecting. In other words, the data in another account will be erased. Let us know if you have any questions.\n",
      "2. How do I change my password? \n",
      "We could not manually set your password. However, you could do the following instructions. In the \"Log In\" section, there is an option \"Forgot password?\". By clicking, it would guide you through the process of resetting the password. Remember don't swipe Flora while you go to check the passcode. In the \"Log In\" section, there is an option \"Forgot password?\". By clicking, it would guide you through the process of resetting the password.\n",
      "3. I forgot my password, can you help me change it? \n",
      "We could not manually set your password. However, you could do the following instructions. In the \"Log In\" section, there is an option \"Forgot password?\". By clicking, it would guide you through the process of resetting the password. Remember don't swipe Flora while you go to check the passcode. In the \"Log In\" section, there is an option \"Forgot password?\". By clicking, it would guide you through the process of resetting the password.\n",
      "Here is my question:\n",
      "Can I change login password?\n",
      "\n",
      "\n",
      "\n",
      "\n",
      "We could not manually set your password. However, you could do the following instructions. In the \"Log In\" section, there is an option \"Forgot password?\". By clicking it, it would guide you through the process of resetting the password. Remember not to close Flora while you go to check the passcode.\n",
      "\n",
      "\n",
      "\n",
      "\n"
     ]
    }
   ],
   "source": [
    "messages = client.beta.threads.messages.list(\n",
    "  thread_id=thread.id,\n",
    "  order='asc'\n",
    ")\n",
    "for i in messages.data:\n",
    "  print(i.content[0].text.value)\n",
    "  print(\"\\n\\n\\n\")"
   ]
  },
  {
   "cell_type": "markdown",
   "metadata": {},
   "source": [
    "# Delete Assistant"
   ]
  },
  {
   "cell_type": "code",
   "execution_count": 24,
   "metadata": {},
   "outputs": [
    {
     "name": "stdout",
     "output_type": "stream",
     "text": [
      "AssistantDeleted(id='asst_bxbz4QKtSW3Xs224LFkvkoXq', deleted=True, object='assistant.deleted')\n"
     ]
    }
   ],
   "source": [
    "response = client.beta.assistants.delete(assistant.id)\n",
    "time.sleep(5)\n",
    "print(response)"
   ]
  }
 ],
 "metadata": {
  "kernelspec": {
   "display_name": "Python 3",
   "language": "python",
   "name": "python3"
  },
  "language_info": {
   "codemirror_mode": {
    "name": "ipython",
    "version": 3
   },
   "file_extension": ".py",
   "mimetype": "text/x-python",
   "name": "python",
   "nbconvert_exporter": "python",
   "pygments_lexer": "ipython3",
   "version": "3.10.13"
  }
 },
 "nbformat": 4,
 "nbformat_minor": 2
}
