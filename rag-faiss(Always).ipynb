{
 "cells": [
  {
   "cell_type": "markdown",
   "metadata": {},
   "source": [
    "faiss事前準備:\n",
    "\n",
    "miniconda_python(3.10版本):\n",
    "\n",
    "https://docs.conda.io/projects/miniconda/en/latest/miniconda-other-installer-links.html\n",
    "\n",
    "裝完打開anaconda prompt:\n",
    "\n",
    "做一個環境```conda create -n VScode-env-3.10.13 python=3.10.13```\n",
    "\n",
    "做完啟動```conda activate VScode-env-3.10.13```\n",
    "\n",
    "安裝faiss插件\n",
    "\n",
    "```conda install -c pytorch faiss-cpu=1.7.4 mkl=2021 blas=1.0=mkl```\n",
    "\n",
    "```conda install -c pytorch/label/nightly faiss-cpu```\n",
    "\n",
    "關掉prompt 重新開啟VScode 右上角kernel 選擇another kernel->python env->VScode-env-3.10.13\n",
    "\n",
    "VScode商城:\n",
    "\n",
    "python\n",
    "\n",
    "jupyter\n",
    "\n",
    "import和拿key\n",
    "\n",
    "沒裝openai_SDK使用:```pip install openai```\n",
    "\n",
    "沒裝tabulate使用:```pip install tabulate```\n",
    "\n",
    "沒裝pandas:```pip install pandas```\n",
    "\n",
    "沒設定key使用:```setx OPENAI_API_KEY “<yourkey>”```\n",
    "\n",
    "```echo %OPENAI_API_KEY%```可以看你的KEY"
   ]
  },
  {
   "cell_type": "code",
   "execution_count": 65,
   "metadata": {},
   "outputs": [],
   "source": [
    "import os\n",
    "import time\n",
    "from openai import OpenAI\n",
    "client = OpenAI()\n",
    "OpenAI.api_key = os.getenv('OPENAI_API_KEY')"
   ]
  },
  {
   "cell_type": "markdown",
   "metadata": {},
   "source": [
    "# input在此輸入\n",
    "\n",
    "使用同一個Assistant和Thread從這邊開始run (記得把最後刪除Assitant的code註解掉)"
   ]
  },
  {
   "cell_type": "code",
   "execution_count": 66,
   "metadata": {},
   "outputs": [],
   "source": [
    "input = \"Can I get deleted account back? How to adjust the break time after planting a tree?\""
   ]
  },
  {
   "cell_type": "markdown",
   "metadata": {},
   "source": [
    "前處理 問題建議(要回答)還是抱怨#或誇獎@(不回答)"
   ]
  },
  {
   "cell_type": "code",
   "execution_count": 67,
   "metadata": {},
   "outputs": [
    {
     "name": "stdout",
     "output_type": "stream",
     "text": [
      "\"Can I get my deleted account back? How can I adjust the break time after planting a tree?\" is this your question?\n"
     ]
    }
   ],
   "source": [
    "completion = client.chat.completions.create(\n",
    "  model=\"gpt-3.5-turbo-1106\",\n",
    "  messages=[\n",
    "    {\"role\": \"system\", \"content\": \"you are classify bot. you are prohibited answering question.here is three rule:1.if sentence is a compliment, you must only answer with '@'2.if sentence is a complain, you must only answer with '#'3.if sentence is not compliment nor complain, you must summarise and grammerly complete user's sentence then output\"},\n",
    "    {\"role\": \"user\", \"content\": input}\n",
    "  ]\n",
    ")\n",
    "time.sleep(5)\n",
    "prequiz = completion.choices[0].message.content\n",
    "if prequiz ==\"#\":\n",
    "    prequiz = \"complain\"\n",
    "    print(prequiz)\n",
    "elif prequiz ==\"@\":\n",
    "    prequiz = \"compliment\"\n",
    "    print(prequiz)\n",
    "else:\n",
    "    print(\"\\\"\"+prequiz+\"\\\" is this your question?\")"
   ]
  },
  {
   "cell_type": "code",
   "execution_count": 68,
   "metadata": {},
   "outputs": [
    {
     "name": "stdout",
     "output_type": "stream",
     "text": [
      "Can I get my deleted account back? How can I adjust the break time after planting a tree?\n"
     ]
    }
   ],
   "source": [
    "print(completion.choices[0].message.content)"
   ]
  },
  {
   "cell_type": "markdown",
   "metadata": {},
   "source": [
    "# channel在此輸入(1.App 2.Email 3.comment)"
   ]
  },
  {
   "cell_type": "code",
   "execution_count": 69,
   "metadata": {},
   "outputs": [],
   "source": [
    "channel = 1"
   ]
  },
  {
   "cell_type": "markdown",
   "metadata": {},
   "source": [
    "# instruction在此輸入"
   ]
  },
  {
   "cell_type": "code",
   "execution_count": 70,
   "metadata": {},
   "outputs": [],
   "source": [
    "instruction_App = \"1.You are InApp chatting bot from Flora customer service. 2.When user ask a question, You must reply based on 3 history questions and answers. 3.If 3 history questions and answers not related to my question, you must reply only a special mark:'*'.\"\n",
    "instruction_App_check = \"1.You are InApp chatting bot from Flora customer service. 2.When user ask a question, You must reply based on 3 history questions and answers. 3.If 3 history questions and answers not related to my question, you must reply only a special mark:'*'. 4.when you encounter question concerning email, you must check email fitting RFC5322 standard or not. if not, ask again\"\n",
    "instruction_Email = \"You are email reply bot from Flora customer service. You must answer based on the history questions and answers from Flora's database. If there is 0 history question and answer, you must reply only a special mark:'*'\"\n",
    "instruction_Comment = \"You are Apple Appstore comment reply bot from Flora customer service. You must answer based on the history questions and answers from Flora's database. If there is 0 history question and answer, you must reply only a special mark:'*'\""
   ]
  },
  {
   "cell_type": "markdown",
   "metadata": {},
   "source": [
    "assistant1負責掌握多少問題和進度"
   ]
  },
  {
   "cell_type": "code",
   "execution_count": 71,
   "metadata": {},
   "outputs": [],
   "source": [
    "still = 1\n",
    "def get_still():\n",
    "    return still\n",
    "def set_still_to_zero():\n",
    "    global still\n",
    "    still =0\n",
    "    return\n",
    "init = 0\n",
    "def get_init():\n",
    "    return init\n",
    "def set_init_to_one():\n",
    "    global init\n",
    "    init = 1\n",
    "    return"
   ]
  },
  {
   "cell_type": "code",
   "execution_count": 72,
   "metadata": {},
   "outputs": [],
   "source": [
    "assistant1 = client.beta.assistants.create(\n",
    "    name=\"sentence queue\",\n",
    "    instructions=\"you are a sentence storing queue. you must not modify any sentence and you can perform some action listed below: 1.'enqueue':You must add sentence to queue.When encounter multiple question,split into several questions then 'enqueue' ono by one. 2.'dequeue': output one sentence then remove one sentence from queue. when there is no sentence in queue,you must output only'$'.\",\n",
    "    model=\"gpt-3.5-turbo-1106\"\n",
    ")\n",
    "thread1 = client.beta.threads.create()"
   ]
  },
  {
   "cell_type": "code",
   "execution_count": 92,
   "metadata": {},
   "outputs": [
    {
     "name": "stdout",
     "output_type": "stream",
     "text": [
      "How can I adjust the break time after planting a tree?\n"
     ]
    }
   ],
   "source": [
    "if get_init() == 0:\n",
    "  message1 = client.beta.threads.messages.create(\n",
    "    thread_id=thread1.id,\n",
    "    role=\"user\",\n",
    "    content= \"enqueue \\\"\"+prequiz+\"\\\"\\ndequeue\"\n",
    "  )\n",
    "  run1 = client.beta.threads.runs.create(\n",
    "    thread_id=thread1.id,\n",
    "    assistant_id=assistant1.id\n",
    "  )\n",
    "  time.sleep(5)\n",
    "  input = client.beta.threads.messages.list(thread_id=thread1.id,order='desc').data[0].content[0].text.value\n",
    "  print(input)\n",
    "  set_init_to_one()\n",
    "elif get_init() == 1:\n",
    "  if get_still() ==1:\n",
    "    message1 = client.beta.threads.messages.create(\n",
    "      thread_id=thread1.id,\n",
    "      role=\"user\",\n",
    "      content= \"dequeue\"\n",
    "    )\n",
    "    run1 = client.beta.threads.runs.create(\n",
    "      thread_id=thread1.id,\n",
    "      assistant_id=assistant1.id\n",
    "    )\n",
    "    time.sleep(5)\n",
    "    input = client.beta.threads.messages.list(thread_id=thread1.id,order='desc').data[0].content[0].text.value\n",
    "    if input ==\"$\":\n",
    "      set_still_to_zero()\n",
    "      print(\"nothing in queue1\")\n",
    "    else:\n",
    "      print(input)\n",
    "  elif get_still() == 0:\n",
    "    print(\"nothing in queue2\")"
   ]
  },
  {
   "cell_type": "code",
   "execution_count": 93,
   "metadata": {},
   "outputs": [
    {
     "name": "stdout",
     "output_type": "stream",
     "text": [
      "How can I adjust the break time after planting a tree?\n",
      "\n",
      "\n",
      "dequeue\n",
      "\n",
      "\n",
      "\"Can I get my deleted account back?\"\n",
      "\n",
      "\n",
      "\n",
      "enqueue \"Can I get my deleted account back? How can I adjust the break time after planting a tree?\"\n",
      "dequeue\n",
      "\n",
      "\n"
     ]
    }
   ],
   "source": [
    "m=client.beta.threads.messages.list(thread_id=thread1.id,order='asc')\n",
    "for i in m.data:\n",
    "  print(i.content[0].text.value)\n",
    "  print(\"\\n\")"
   ]
  },
  {
   "cell_type": "code",
   "execution_count": 94,
   "metadata": {},
   "outputs": [],
   "source": [
    "instruction = \"\"\n",
    "if channel == 1 :\n",
    "    instruction = instruction_App\n",
    "elif channel == 2 :\n",
    "    instruction = instruction_Email\n",
    "elif channel == 3 :\n",
    "    instruction = instruction_Comment"
   ]
  },
  {
   "cell_type": "markdown",
   "metadata": {},
   "source": [
    "instruction += \"\\nYou must follow the SOP: \\n\"\n",
    "\n",
    "# The rule that Assistant should follow\n",
    "SOP = [\n",
    "    \"1. Based on history Q&A to answer.\",\n",
    "    \"2. If the customer's problem still can not be solved after you replied, reply only a special mark:'*'.\",\n",
    "]\n",
    "\n",
    "for i in SOP:\n",
    "    instruction = instruction + i + \"\\n\"\n",
    "\n",
    "print(instruction)"
   ]
  },
  {
   "cell_type": "markdown",
   "metadata": {},
   "source": [
    "先準備faiss\n",
    "\n",
    "讀embeddings資料\n",
    "\n",
    "並把dataframe轉為numpy"
   ]
  },
  {
   "cell_type": "code",
   "execution_count": 95,
   "metadata": {},
   "outputs": [
    {
     "data": {
      "text/html": [
       "<div>\n",
       "<style scoped>\n",
       "    .dataframe tbody tr th:only-of-type {\n",
       "        vertical-align: middle;\n",
       "    }\n",
       "\n",
       "    .dataframe tbody tr th {\n",
       "        vertical-align: top;\n",
       "    }\n",
       "\n",
       "    .dataframe thead th {\n",
       "        text-align: right;\n",
       "    }\n",
       "</style>\n",
       "<table border=\"1\" class=\"dataframe\">\n",
       "  <thead>\n",
       "    <tr style=\"text-align: right;\">\n",
       "      <th></th>\n",
       "      <th>0</th>\n",
       "      <th>1</th>\n",
       "      <th>2</th>\n",
       "      <th>3</th>\n",
       "      <th>4</th>\n",
       "      <th>5</th>\n",
       "      <th>6</th>\n",
       "      <th>7</th>\n",
       "      <th>8</th>\n",
       "      <th>9</th>\n",
       "      <th>...</th>\n",
       "      <th>3062</th>\n",
       "      <th>3063</th>\n",
       "      <th>3064</th>\n",
       "      <th>3065</th>\n",
       "      <th>3066</th>\n",
       "      <th>3067</th>\n",
       "      <th>3068</th>\n",
       "      <th>3069</th>\n",
       "      <th>3070</th>\n",
       "      <th>3071</th>\n",
       "    </tr>\n",
       "  </thead>\n",
       "  <tbody>\n",
       "    <tr>\n",
       "      <th>0</th>\n",
       "      <td>-0.030886</td>\n",
       "      <td>-0.020970</td>\n",
       "      <td>0.002210</td>\n",
       "      <td>-0.032358</td>\n",
       "      <td>-0.014908</td>\n",
       "      <td>-0.007581</td>\n",
       "      <td>0.005008</td>\n",
       "      <td>0.012017</td>\n",
       "      <td>-0.034472</td>\n",
       "      <td>0.018240</td>\n",
       "      <td>...</td>\n",
       "      <td>0.001131</td>\n",
       "      <td>0.019792</td>\n",
       "      <td>-0.011917</td>\n",
       "      <td>0.007220</td>\n",
       "      <td>-0.018026</td>\n",
       "      <td>0.003841</td>\n",
       "      <td>0.001450</td>\n",
       "      <td>0.020649</td>\n",
       "      <td>-0.003747</td>\n",
       "      <td>0.021291</td>\n",
       "    </tr>\n",
       "    <tr>\n",
       "      <th>1</th>\n",
       "      <td>0.013026</td>\n",
       "      <td>0.013851</td>\n",
       "      <td>-0.009579</td>\n",
       "      <td>-0.059783</td>\n",
       "      <td>0.008046</td>\n",
       "      <td>-0.015229</td>\n",
       "      <td>0.002933</td>\n",
       "      <td>0.004625</td>\n",
       "      <td>-0.002641</td>\n",
       "      <td>0.046384</td>\n",
       "      <td>...</td>\n",
       "      <td>0.017729</td>\n",
       "      <td>0.013825</td>\n",
       "      <td>0.001612</td>\n",
       "      <td>-0.019378</td>\n",
       "      <td>0.011802</td>\n",
       "      <td>-0.009483</td>\n",
       "      <td>-0.006945</td>\n",
       "      <td>0.005122</td>\n",
       "      <td>0.004068</td>\n",
       "      <td>0.009393</td>\n",
       "    </tr>\n",
       "    <tr>\n",
       "      <th>2</th>\n",
       "      <td>-0.005118</td>\n",
       "      <td>-0.024766</td>\n",
       "      <td>-0.014762</td>\n",
       "      <td>-0.029704</td>\n",
       "      <td>-0.016605</td>\n",
       "      <td>-0.011532</td>\n",
       "      <td>-0.001856</td>\n",
       "      <td>0.039089</td>\n",
       "      <td>0.005199</td>\n",
       "      <td>0.034809</td>\n",
       "      <td>...</td>\n",
       "      <td>0.013769</td>\n",
       "      <td>0.028311</td>\n",
       "      <td>0.001599</td>\n",
       "      <td>-0.015600</td>\n",
       "      <td>0.024998</td>\n",
       "      <td>-0.024624</td>\n",
       "      <td>-0.000467</td>\n",
       "      <td>-0.005411</td>\n",
       "      <td>0.007058</td>\n",
       "      <td>0.008451</td>\n",
       "    </tr>\n",
       "    <tr>\n",
       "      <th>3</th>\n",
       "      <td>-0.019629</td>\n",
       "      <td>0.002125</td>\n",
       "      <td>-0.002155</td>\n",
       "      <td>-0.013240</td>\n",
       "      <td>0.015541</td>\n",
       "      <td>-0.034832</td>\n",
       "      <td>-0.044084</td>\n",
       "      <td>0.013315</td>\n",
       "      <td>0.035132</td>\n",
       "      <td>0.020191</td>\n",
       "      <td>...</td>\n",
       "      <td>0.003723</td>\n",
       "      <td>0.032956</td>\n",
       "      <td>-0.020729</td>\n",
       "      <td>-0.005295</td>\n",
       "      <td>0.016266</td>\n",
       "      <td>0.004657</td>\n",
       "      <td>-0.020029</td>\n",
       "      <td>0.008870</td>\n",
       "      <td>0.011921</td>\n",
       "      <td>0.033432</td>\n",
       "    </tr>\n",
       "    <tr>\n",
       "      <th>4</th>\n",
       "      <td>0.005265</td>\n",
       "      <td>0.015462</td>\n",
       "      <td>0.002796</td>\n",
       "      <td>-0.057215</td>\n",
       "      <td>0.013133</td>\n",
       "      <td>-0.032900</td>\n",
       "      <td>-0.001634</td>\n",
       "      <td>0.008408</td>\n",
       "      <td>-0.005457</td>\n",
       "      <td>0.024303</td>\n",
       "      <td>...</td>\n",
       "      <td>0.020498</td>\n",
       "      <td>0.016450</td>\n",
       "      <td>0.004387</td>\n",
       "      <td>-0.020389</td>\n",
       "      <td>-0.004006</td>\n",
       "      <td>0.007847</td>\n",
       "      <td>0.003600</td>\n",
       "      <td>0.005015</td>\n",
       "      <td>0.010267</td>\n",
       "      <td>0.010481</td>\n",
       "    </tr>\n",
       "  </tbody>\n",
       "</table>\n",
       "<p>5 rows × 3072 columns</p>\n",
       "</div>"
      ],
      "text/plain": [
       "          0         1         2         3         4         5         6  \\\n",
       "0 -0.030886 -0.020970  0.002210 -0.032358 -0.014908 -0.007581  0.005008   \n",
       "1  0.013026  0.013851 -0.009579 -0.059783  0.008046 -0.015229  0.002933   \n",
       "2 -0.005118 -0.024766 -0.014762 -0.029704 -0.016605 -0.011532 -0.001856   \n",
       "3 -0.019629  0.002125 -0.002155 -0.013240  0.015541 -0.034832 -0.044084   \n",
       "4  0.005265  0.015462  0.002796 -0.057215  0.013133 -0.032900 -0.001634   \n",
       "\n",
       "          7         8         9  ...      3062      3063      3064      3065  \\\n",
       "0  0.012017 -0.034472  0.018240  ...  0.001131  0.019792 -0.011917  0.007220   \n",
       "1  0.004625 -0.002641  0.046384  ...  0.017729  0.013825  0.001612 -0.019378   \n",
       "2  0.039089  0.005199  0.034809  ...  0.013769  0.028311  0.001599 -0.015600   \n",
       "3  0.013315  0.035132  0.020191  ...  0.003723  0.032956 -0.020729 -0.005295   \n",
       "4  0.008408 -0.005457  0.024303  ...  0.020498  0.016450  0.004387 -0.020389   \n",
       "\n",
       "       3066      3067      3068      3069      3070      3071  \n",
       "0 -0.018026  0.003841  0.001450  0.020649 -0.003747  0.021291  \n",
       "1  0.011802 -0.009483 -0.006945  0.005122  0.004068  0.009393  \n",
       "2  0.024998 -0.024624 -0.000467 -0.005411  0.007058  0.008451  \n",
       "3  0.016266  0.004657 -0.020029  0.008870  0.011921  0.033432  \n",
       "4 -0.004006  0.007847  0.003600  0.005015  0.010267  0.010481  \n",
       "\n",
       "[5 rows x 3072 columns]"
      ]
     },
     "execution_count": 95,
     "metadata": {},
     "output_type": "execute_result"
    }
   ],
   "source": [
    "import pandas as pd\n",
    "import numpy as np\n",
    "\n",
    "csv_file = 'data\\embeddingsV3_3072.csv'\n",
    "df = pd.read_csv(csv_file)\n",
    "data = df.to_numpy()\n",
    "df.head(5)"
   ]
  },
  {
   "cell_type": "markdown",
   "metadata": {},
   "source": [
    "確認內容"
   ]
  },
  {
   "cell_type": "code",
   "execution_count": 96,
   "metadata": {},
   "outputs": [
    {
     "name": "stdout",
     "output_type": "stream",
     "text": [
      "669\n",
      "<class 'numpy.ndarray'>\n",
      "float64\n",
      "-0.0308859776705503\n"
     ]
    }
   ],
   "source": [
    "print(data.shape[0])\n",
    "print(type(data))\n",
    "print(data.dtype)\n",
    "print(data[0][0])"
   ]
  },
  {
   "cell_type": "markdown",
   "metadata": {},
   "source": [
    "寫入維度 並把data加入faiss的index"
   ]
  },
  {
   "cell_type": "code",
   "execution_count": 97,
   "metadata": {},
   "outputs": [],
   "source": [
    "import faiss\n",
    "\n",
    "index = faiss.IndexFlatL2(data.shape[1])\n",
    "index.add(data)"
   ]
  },
  {
   "cell_type": "markdown",
   "metadata": {},
   "source": [
    "創assistant,thread!"
   ]
  },
  {
   "cell_type": "code",
   "execution_count": 98,
   "metadata": {},
   "outputs": [],
   "source": [
    "from tabulate import tabulate\n",
    "\n",
    "assistant2 = client.beta.assistants.create(\n",
    "    name=\"Flora's Customer Service\",\n",
    "    instructions=instruction,\n",
    "    model=\"gpt-3.5-turbo-1106\"\n",
    ")\n",
    "\n",
    "thread2 = client.beta.threads.create()"
   ]
  },
  {
   "cell_type": "markdown",
   "metadata": {},
   "source": [
    "做問題的embedding\n",
    "\n",
    "TOP-k的設定並查找問題\n",
    "\n",
    "拿答案"
   ]
  },
  {
   "cell_type": "code",
   "execution_count": 99,
   "metadata": {},
   "outputs": [],
   "source": [
    "def get_similar(input):\n",
    "    response = client.embeddings.create(input=input, model=\"text-embedding-3-large\", dimensions=3072)\n",
    "    question = np.array(response.data[0].embedding, ndmin=2)\n",
    "    k = 3\n",
    "    distances, indices = index.search(question, k)\n",
    "    csv_question = 'data\\manual.csv'\n",
    "    qdf = pd.read_csv(csv_question)\n",
    "    qarray = qdf.to_numpy()\n",
    "    answer = [(qarray[i], float(dist)) for dist, i in zip(distances[0], indices[0])]\n",
    "    history = \"\"\n",
    "    Qcount = 0\n",
    "    for i in range(0,k):\n",
    "        Qcount += 1\n",
    "        history = history +str(i+1)+\". \"+ answer[i][0][0]+\"\\n\"+answer[i][0][1]+\"\\n\"\n",
    "    return Qcount, history"
   ]
  },
  {
   "cell_type": "markdown",
   "metadata": {},
   "source": [
    "距離設定dist內才顯示"
   ]
  },
  {
   "cell_type": "markdown",
   "metadata": {},
   "source": [
    "# Prompt內容在此"
   ]
  },
  {
   "cell_type": "code",
   "execution_count": 100,
   "metadata": {},
   "outputs": [
    {
     "name": "stdout",
     "output_type": "stream",
     "text": [
      "Here is 3 history questions and answers similar to this question according to Flora's database\n",
      "1. Can I adjust the break timer after growing a tree?\n",
      "You may adjust your break time after successfully growing a tree. Press the 'Timer' icon at the left of the 'See Stories' button on the green focus screen, then you will be able to adjust the break timer. When the timer is up, a 'Back to Work' notification will be sent to remind you to go back to work.\n",
      "2. I want to change the resting time after I have planted a tree? \n",
      "You may adjust your break time after successfully growing a tree. Press the 'Timer' icon at the left of the 'See Stories' button on the green focus screen, then you will be able to adjust the break timer. When the timer is up, a 'Back to Work' notification will be sent to remind you to go back to work.\n",
      "3. What if I need more time to finish my task after a tree grows up?\n",
      "A focus session does not end when the tree grows. So, keep working! During this phase, the focus duration will automatically count up to record the extra time you input. When done, you can press the 'See Tree' button to end the session and see your tree. Your total focus duration, including your extra time after the tree grows, will be correctly recorded in the associated story.\n",
      "Here is my question:\n",
      "How can I adjust the break time after planting a tree?\n"
     ]
    }
   ],
   "source": [
    "similar = get_similar(input)\n",
    "prompt = \"Here is \"+str(similar[0])+\" history questions and answers similar to this question according to Flora's database\\n\"+similar[1]+\"Here is my question:\\n\"+input\n",
    "print(prompt)"
   ]
  },
  {
   "cell_type": "code",
   "execution_count": 101,
   "metadata": {},
   "outputs": [],
   "source": [
    "message2 = client.beta.threads.messages.create(\n",
    "    thread_id=thread2.id,\n",
    "    role=\"user\",\n",
    "    content= prompt\n",
    ")"
   ]
  },
  {
   "cell_type": "markdown",
   "metadata": {},
   "source": [
    "沒裝tabulate很醜\n",
    "\n",
    "tabulate文件:https://pypi.org/project/tabulate/\n",
    "\n",
    "表示assistant,thread,message內容"
   ]
  },
  {
   "cell_type": "code",
   "execution_count": 102,
   "metadata": {},
   "outputs": [
    {
     "name": "stdout",
     "output_type": "stream",
     "text": [
      "┌─────────────────┬─────────────────────────────────────────────────────────────────────────────────────────────────────────────────────────────────────────────────────────────────────────────────────────────────────────────────────────────────────────────────────────┐\n",
      "│ assistant       │ content                                                                                                                                                                                                                                                 │\n",
      "├─────────────────┼─────────────────────────────────────────────────────────────────────────────────────────────────────────────────────────────────────────────────────────────────────────────────────────────────────────────────────────────────────────────────────────┤\n",
      "│ id              │ asst_pdVd0i9kFnLljlsxW5U8gwu9                                                                                                                                                                                                                           │\n",
      "│ created_at      │ 1713890881                                                                                                                                                                                                                                              │\n",
      "│ description     │                                                                                                                                                                                                                                                         │\n",
      "│ file_ids        │ []                                                                                                                                                                                                                                                      │\n",
      "│ instructions    │ 1.You are InApp chatting bot from Flora customer service. 2.When user ask a question, You must reply based on 3 history questions and answers. 3.If 3 history questions and answers not related to my question, you must reply only a special mark:'*'. │\n",
      "│ metadata        │ {}                                                                                                                                                                                                                                                      │\n",
      "│ model           │ gpt-3.5-turbo-1106                                                                                                                                                                                                                                      │\n",
      "│ name            │ Flora's Customer Service                                                                                                                                                                                                                                │\n",
      "│ object          │ assistant                                                                                                                                                                                                                                               │\n",
      "│ tools           │ []                                                                                                                                                                                                                                                      │\n",
      "│ top_p           │ 1.0                                                                                                                                                                                                                                                     │\n",
      "│ temperature     │ 1.0                                                                                                                                                                                                                                                     │\n",
      "│ response_format │ auto                                                                                                                                                                                                                                                    │\n",
      "└─────────────────┴─────────────────────────────────────────────────────────────────────────────────────────────────────────────────────────────────────────────────────────────────────────────────────────────────────────────────────────────────────────────────────────┘\n"
     ]
    }
   ],
   "source": [
    "print(tabulate(assistant2,headers=['assistant','content'],tablefmt=\"simple_outline\"))"
   ]
  },
  {
   "cell_type": "code",
   "execution_count": 103,
   "metadata": {},
   "outputs": [
    {
     "name": "stdout",
     "output_type": "stream",
     "text": [
      "┌────────────┬─────────────────────────────────┐\n",
      "│ thread     │ content                         │\n",
      "├────────────┼─────────────────────────────────┤\n",
      "│ id         │ thread_Y6U2SrjvYCtQBkT0pyigaaqz │\n",
      "│ created_at │ 1713890881                      │\n",
      "│ metadata   │ {}                              │\n",
      "│ object     │ thread                          │\n",
      "└────────────┴─────────────────────────────────┘\n"
     ]
    }
   ],
   "source": [
    "print(tabulate(thread2,headers=['thread','content'],tablefmt=\"simple_outline\"))"
   ]
  },
  {
   "cell_type": "code",
   "execution_count": 104,
   "metadata": {},
   "outputs": [
    {
     "name": "stdout",
     "output_type": "stream",
     "text": [
      "┌────────────────────┬────────────────────────────────────────────────────────────────────────────────────────────────────────────────────────────────────────────────────────────────────────────────────────────────────────────────────────────────────────────────────────────────────────────────────────────────────────────────────────────────────────────────────────────────────────────────────────────────────────────────────────────────────────────────────────────────────────────────────────────────────────────────────────────────────────────────────────────────────────────────────────────────────────────────────────────────────────────────────────────────────────────────────────────────────────────────────────────────────────────────────────────────────────────────────────────────────────────────────────────────────────────────────────────────────────────────────────────────────────────────────────────────────────────────────────────────────────────────────────────────────────────────────────────────────────────────────────────────────────────────────────────────────────────────────────────────────────────────────────────────────────────────────────────────────────────────────────────────────────────────────────────────────────────────────────────────────────────────────────────────────────────────────────────────────────────────────────────────────────────────────────────────────────────────────────────────────────────────────┐\n",
      "│ message            │ content                                                                                                                                                                                                                                                                                                                                                                                                                                                                                                                                                                                                                                                                                                                                                                                                                                                                                                                                                                                                                                                                                                                                                                                                                                                                                                                                                                                                                                                                            │\n",
      "├────────────────────┼────────────────────────────────────────────────────────────────────────────────────────────────────────────────────────────────────────────────────────────────────────────────────────────────────────────────────────────────────────────────────────────────────────────────────────────────────────────────────────────────────────────────────────────────────────────────────────────────────────────────────────────────────────────────────────────────────────────────────────────────────────────────────────────────────────────────────────────────────────────────────────────────────────────────────────────────────────────────────────────────────────────────────────────────────────────────────────────────────────────────────────────────────────────────────────────────────────────────────────────────────────────────────────────────────────────────────────────────────────────────────────────────────────────────────────────────────────────────────────────────────────────────────────────────────────────────────────────────────────────────────────────────────────────────────────────────────────────────────────────────────────────────────────────────────────────────────────────────────────────────────────────────────────────────────────────────────────────────────────────────────────────────────────────────────────────────────────────────────────────────────────────────────────────────────────────────────────────────────┤\n",
      "│ id                 │ msg_Yq3Swm23ayMr5N1uwhMKrDMZ                                                                                                                                                                                                                                                                                                                                                                                                                                                                                                                                                                                                                                                                                                                                                                                                                                                                                                                                                                                                                                                                                                                                                                                                                                                                                                                                                                                                                                                       │\n",
      "│ assistant_id       │                                                                                                                                                                                                                                                                                                                                                                                                                                                                                                                                                                                                                                                                                                                                                                                                                                                                                                                                                                                                                                                                                                                                                                                                                                                                                                                                                                                                                                                                                    │\n",
      "│ completed_at       │                                                                                                                                                                                                                                                                                                                                                                                                                                                                                                                                                                                                                                                                                                                                                                                                                                                                                                                                                                                                                                                                                                                                                                                                                                                                                                                                                                                                                                                                                    │\n",
      "│ content            │ [TextContentBlock(text=Text(annotations=[], value=\"Here is 3 history questions and answers similar to this question according to Flora's database\\n1. Can I adjust the break timer after growing a tree?\\nYou may adjust your break time after successfully growing a tree. Press the 'Timer' icon at the left of the 'See Stories' button on the green focus screen, then you will be able to adjust the break timer. When the timer is up, a 'Back to Work' notification will be sent to remind you to go back to work.\\n2. I want to change the resting time after I have planted a tree? \\nYou may adjust your break time after successfully growing a tree. Press the 'Timer' icon at the left of the 'See Stories' button on the green focus screen, then you will be able to adjust the break timer. When the timer is up, a 'Back to Work' notification will be sent to remind you to go back to work.\\n3. What if I need more time to finish my task after a tree grows up?\\nA focus session does not end when the tree grows. So, keep working! During this phase, the focus duration will automatically count up to record the extra time you input. When done, you can press the 'See Tree' button to end the session and see your tree. Your total focus duration, including your extra time after the tree grows, will be correctly recorded in the associated story.\\nHere is my question:\\nHow can I adjust the break time after planting a tree?\"), type='text')] │\n",
      "│ created_at         │ 1713890881                                                                                                                                                                                                                                                                                                                                                                                                                                                                                                                                                                                                                                                                                                                                                                                                                                                                                                                                                                                                                                                                                                                                                                                                                                                                                                                                                                                                                                                                         │\n",
      "│ file_ids           │ []                                                                                                                                                                                                                                                                                                                                                                                                                                                                                                                                                                                                                                                                                                                                                                                                                                                                                                                                                                                                                                                                                                                                                                                                                                                                                                                                                                                                                                                                                 │\n",
      "│ incomplete_at      │                                                                                                                                                                                                                                                                                                                                                                                                                                                                                                                                                                                                                                                                                                                                                                                                                                                                                                                                                                                                                                                                                                                                                                                                                                                                                                                                                                                                                                                                                    │\n",
      "│ incomplete_details │                                                                                                                                                                                                                                                                                                                                                                                                                                                                                                                                                                                                                                                                                                                                                                                                                                                                                                                                                                                                                                                                                                                                                                                                                                                                                                                                                                                                                                                                                    │\n",
      "│ metadata           │ {}                                                                                                                                                                                                                                                                                                                                                                                                                                                                                                                                                                                                                                                                                                                                                                                                                                                                                                                                                                                                                                                                                                                                                                                                                                                                                                                                                                                                                                                                                 │\n",
      "│ object             │ thread.message                                                                                                                                                                                                                                                                                                                                                                                                                                                                                                                                                                                                                                                                                                                                                                                                                                                                                                                                                                                                                                                                                                                                                                                                                                                                                                                                                                                                                                                                     │\n",
      "│ role               │ user                                                                                                                                                                                                                                                                                                                                                                                                                                                                                                                                                                                                                                                                                                                                                                                                                                                                                                                                                                                                                                                                                                                                                                                                                                                                                                                                                                                                                                                                               │\n",
      "│ run_id             │                                                                                                                                                                                                                                                                                                                                                                                                                                                                                                                                                                                                                                                                                                                                                                                                                                                                                                                                                                                                                                                                                                                                                                                                                                                                                                                                                                                                                                                                                    │\n",
      "│ status             │                                                                                                                                                                                                                                                                                                                                                                                                                                                                                                                                                                                                                                                                                                                                                                                                                                                                                                                                                                                                                                                                                                                                                                                                                                                                                                                                                                                                                                                                                    │\n",
      "│ thread_id          │ thread_Y6U2SrjvYCtQBkT0pyigaaqz                                                                                                                                                                                                                                                                                                                                                                                                                                                                                                                                                                                                                                                                                                                                                                                                                                                                                                                                                                                                                                                                                                                                                                                                                                                                                                                                                                                                                                                    │\n",
      "└────────────────────┴────────────────────────────────────────────────────────────────────────────────────────────────────────────────────────────────────────────────────────────────────────────────────────────────────────────────────────────────────────────────────────────────────────────────────────────────────────────────────────────────────────────────────────────────────────────────────────────────────────────────────────────────────────────────────────────────────────────────────────────────────────────────────────────────────────────────────────────────────────────────────────────────────────────────────────────────────────────────────────────────────────────────────────────────────────────────────────────────────────────────────────────────────────────────────────────────────────────────────────────────────────────────────────────────────────────────────────────────────────────────────────────────────────────────────────────────────────────────────────────────────────────────────────────────────────────────────────────────────────────────────────────────────────────────────────────────────────────────────────────────────────────────────────────────────────────────────────────────────────────────────────────────────────────────────────────────────────────────────────────────────────────────────────────────────────────────────────────────────────────────────────────────────────────────────────────────────────────────────┘\n"
     ]
    }
   ],
   "source": [
    "print(tabulate(message2,headers=['message','content'],tablefmt=\"simple_outline\"))"
   ]
  },
  {
   "cell_type": "markdown",
   "metadata": {},
   "source": [
    "這次的run\n",
    "\n",
    "可以使用新instruction複寫assisstant裡的instruction!\n",
    "\n",
    "like:\n",
    "\n",
    "```\n",
    "run = client.beta.threads.runs.create(\n",
    "  thread_id=thread.id,\n",
    "  assistant_id=assistant.id,\n",
    "  instructions=\"Please address the user as Jane Doe. The user has a premium account.\"\n",
    ")\n",
    "```\n"
   ]
  },
  {
   "cell_type": "code",
   "execution_count": 105,
   "metadata": {},
   "outputs": [],
   "source": [
    "run2 = client.beta.threads.runs.create(\n",
    "  thread_id=thread2.id,\n",
    "  assistant_id=assistant2.id\n",
    ")"
   ]
  },
  {
   "cell_type": "markdown",
   "metadata": {},
   "source": [
    "查看run的狀態!\n",
    "\n",
    "以上如果還沒跑完會顯示queued!\n",
    "\n",
    "以上如果跑完會顯示completed!"
   ]
  },
  {
   "cell_type": "code",
   "execution_count": 106,
   "metadata": {},
   "outputs": [
    {
     "name": "stdout",
     "output_type": "stream",
     "text": [
      "completed\n",
      "┌───────────────────────┬─────────────────────────────────────────────────────────────────────────────────────────────────────────────────────────────────────────────────────────────────────────────────────────────────────────────────────────────────────────────────────────┐\n",
      "│ run                   │ content                                                                                                                                                                                                                                                 │\n",
      "├───────────────────────┼─────────────────────────────────────────────────────────────────────────────────────────────────────────────────────────────────────────────────────────────────────────────────────────────────────────────────────────────────────────────────────────┤\n",
      "│ id                    │ run_6rj2FuT18DFuSx7g1RYMzNzs                                                                                                                                                                                                                            │\n",
      "│ assistant_id          │ asst_pdVd0i9kFnLljlsxW5U8gwu9                                                                                                                                                                                                                           │\n",
      "│ cancelled_at          │                                                                                                                                                                                                                                                         │\n",
      "│ completed_at          │ 1713890886                                                                                                                                                                                                                                              │\n",
      "│ created_at            │ 1713890882                                                                                                                                                                                                                                              │\n",
      "│ expires_at            │                                                                                                                                                                                                                                                         │\n",
      "│ failed_at             │                                                                                                                                                                                                                                                         │\n",
      "│ file_ids              │ []                                                                                                                                                                                                                                                      │\n",
      "│ instructions          │ 1.You are InApp chatting bot from Flora customer service. 2.When user ask a question, You must reply based on 3 history questions and answers. 3.If 3 history questions and answers not related to my question, you must reply only a special mark:'*'. │\n",
      "│ last_error            │                                                                                                                                                                                                                                                         │\n",
      "│ metadata              │ {}                                                                                                                                                                                                                                                      │\n",
      "│ model                 │ gpt-3.5-turbo-1106                                                                                                                                                                                                                                      │\n",
      "│ object                │ thread.run                                                                                                                                                                                                                                              │\n",
      "│ required_action       │                                                                                                                                                                                                                                                         │\n",
      "│ started_at            │ 1713890882                                                                                                                                                                                                                                              │\n",
      "│ status                │ completed                                                                                                                                                                                                                                               │\n",
      "│ thread_id             │ thread_Y6U2SrjvYCtQBkT0pyigaaqz                                                                                                                                                                                                                         │\n",
      "│ tools                 │ []                                                                                                                                                                                                                                                      │\n",
      "│ usage                 │ Usage(completion_tokens=72, prompt_tokens=371, total_tokens=443)                                                                                                                                                                                        │\n",
      "│ temperature           │ 1.0                                                                                                                                                                                                                                                     │\n",
      "│ top_p                 │ 1.0                                                                                                                                                                                                                                                     │\n",
      "│ max_completion_tokens │                                                                                                                                                                                                                                                         │\n",
      "│ max_prompt_tokens     │                                                                                                                                                                                                                                                         │\n",
      "│ truncation_strategy   │ {'type': 'auto', 'last_messages': None}                                                                                                                                                                                                                 │\n",
      "│ incomplete_details    │                                                                                                                                                                                                                                                         │\n",
      "│ response_format       │ auto                                                                                                                                                                                                                                                    │\n",
      "│ tool_choice           │ auto                                                                                                                                                                                                                                                    │\n",
      "└───────────────────────┴─────────────────────────────────────────────────────────────────────────────────────────────────────────────────────────────────────────────────────────────────────────────────────────────────────────────────────────────────────────────────────────┘\n"
     ]
    }
   ],
   "source": [
    "# run = client.beta.threads.runs.retrieve(\n",
    "#   thread_id=thread.id,\n",
    "#   run_id=run.id\n",
    "# )\n",
    "# print(tabulate(run,headers=['run','content'],tablefmt='simple_outline'))\n",
    "\n",
    "while run2.status == \"queued\" or run2.status == \"in_progress\":\n",
    "    run2 = client.beta.threads.runs.retrieve(\n",
    "        thread_id=thread2.id,\n",
    "        run_id=run2.id\n",
    "    )\n",
    "print(run2.status)\n",
    "print(tabulate(run2,headers=['run','content'],tablefmt='simple_outline'))"
   ]
  },
  {
   "cell_type": "code",
   "execution_count": 107,
   "metadata": {},
   "outputs": [
    {
     "name": "stdout",
     "output_type": "stream",
     "text": [
      "No function calling\n"
     ]
    }
   ],
   "source": [
    "# if function calling is required, print user input\n",
    "try:\n",
    "    print(run2.required_action.submit_tool_outputs.tool_calls[0].function.arguments[21:-2])\n",
    "\n",
    "except AttributeError:\n",
    "    print(\"No function calling\")\n"
   ]
  },
  {
   "cell_type": "code",
   "execution_count": 108,
   "metadata": {},
   "outputs": [
    {
     "name": "stdout",
     "output_type": "stream",
     "text": [
      "No function calling\n"
     ]
    }
   ],
   "source": [
    "if run2.status == \"requires_action\":\n",
    "    if run2.required_action.submit_tool_outputs.tool_calls[0].function.name == \"get_history_question_and_answer\":\n",
    "        print(\"function calling: get_history_question_and_answer\")\n",
    "        similar = get_similar(run2.required_action.submit_tool_outputs.tool_calls[0].function.arguments[21:-2])\n",
    "        run = client.beta.threads.runs.submit_tool_outputs(\n",
    "            thread_id=thread2.id,\n",
    "            run_id=run2.id,\n",
    "            tool_outputs=[\n",
    "                {\n",
    "                    \"tool_call_id\": run2.required_action.submit_tool_outputs.tool_calls[0].id,\n",
    "                    \"output\": similar[1]\n",
    "                }\n",
    "            ]\n",
    "        )\n",
    "else:\n",
    "    print(\"No function calling\")"
   ]
  },
  {
   "cell_type": "markdown",
   "metadata": {},
   "source": [
    "跑完後打開查看history messages!"
   ]
  },
  {
   "cell_type": "code",
   "execution_count": 109,
   "metadata": {},
   "outputs": [
    {
     "name": "stdout",
     "output_type": "stream",
     "text": [
      "┌────────────────────┬────────────────────────────────────────────────────────────────────────────────────────────────────────────────────────────────────────────────────────────────────────────────────────────────────────────────────────────────────────────────────────────────────────────────────────────────────────────────────────────────────────────────────────────────────────────────────────────────────────────────────────────────────────────────────────────────────────────────────────────────────────────────────────────────────────────────────────────────────────────────────────────────────────────────────────────────────────────────────────────────────────────────────────────────────────────────────────────────────────────────────────────────────────────────────────────────────────────────────────────────────────────────────────────────────────────────────────────────────────────────────────────────────────────────────────────────────────────────────────────────────────────────────────────────────────────────────────────────────────────────────────────────────────────────────────────────────────────────────────────────────────────────────────────────────────────────────────────────────────────────────────────────────────────────────────────────────────────────────────────────────────────────────────────────────────────────────────────────────────────────────────────────────────────────────────────────────────────────────┐\n",
      "│ id                 │ msg_Yq3Swm23ayMr5N1uwhMKrDMZ                                                                                                                                                                                                                                                                                                                                                                                                                                                                                                                                                                                                                                                                                                                                                                                                                                                                                                                                                                                                                                                                                                                                                                                                                                                                                                                                                                                                                                                       │\n",
      "│ assistant_id       │                                                                                                                                                                                                                                                                                                                                                                                                                                                                                                                                                                                                                                                                                                                                                                                                                                                                                                                                                                                                                                                                                                                                                                                                                                                                                                                                                                                                                                                                                    │\n",
      "│ completed_at       │                                                                                                                                                                                                                                                                                                                                                                                                                                                                                                                                                                                                                                                                                                                                                                                                                                                                                                                                                                                                                                                                                                                                                                                                                                                                                                                                                                                                                                                                                    │\n",
      "│ content            │ [TextContentBlock(text=Text(annotations=[], value=\"Here is 3 history questions and answers similar to this question according to Flora's database\\n1. Can I adjust the break timer after growing a tree?\\nYou may adjust your break time after successfully growing a tree. Press the 'Timer' icon at the left of the 'See Stories' button on the green focus screen, then you will be able to adjust the break timer. When the timer is up, a 'Back to Work' notification will be sent to remind you to go back to work.\\n2. I want to change the resting time after I have planted a tree? \\nYou may adjust your break time after successfully growing a tree. Press the 'Timer' icon at the left of the 'See Stories' button on the green focus screen, then you will be able to adjust the break timer. When the timer is up, a 'Back to Work' notification will be sent to remind you to go back to work.\\n3. What if I need more time to finish my task after a tree grows up?\\nA focus session does not end when the tree grows. So, keep working! During this phase, the focus duration will automatically count up to record the extra time you input. When done, you can press the 'See Tree' button to end the session and see your tree. Your total focus duration, including your extra time after the tree grows, will be correctly recorded in the associated story.\\nHere is my question:\\nHow can I adjust the break time after planting a tree?\"), type='text')] │\n",
      "│ created_at         │ 1713890881                                                                                                                                                                                                                                                                                                                                                                                                                                                                                                                                                                                                                                                                                                                                                                                                                                                                                                                                                                                                                                                                                                                                                                                                                                                                                                                                                                                                                                                                         │\n",
      "│ file_ids           │ []                                                                                                                                                                                                                                                                                                                                                                                                                                                                                                                                                                                                                                                                                                                                                                                                                                                                                                                                                                                                                                                                                                                                                                                                                                                                                                                                                                                                                                                                                 │\n",
      "│ incomplete_at      │                                                                                                                                                                                                                                                                                                                                                                                                                                                                                                                                                                                                                                                                                                                                                                                                                                                                                                                                                                                                                                                                                                                                                                                                                                                                                                                                                                                                                                                                                    │\n",
      "│ incomplete_details │                                                                                                                                                                                                                                                                                                                                                                                                                                                                                                                                                                                                                                                                                                                                                                                                                                                                                                                                                                                                                                                                                                                                                                                                                                                                                                                                                                                                                                                                                    │\n",
      "│ metadata           │ {}                                                                                                                                                                                                                                                                                                                                                                                                                                                                                                                                                                                                                                                                                                                                                                                                                                                                                                                                                                                                                                                                                                                                                                                                                                                                                                                                                                                                                                                                                 │\n",
      "│ object             │ thread.message                                                                                                                                                                                                                                                                                                                                                                                                                                                                                                                                                                                                                                                                                                                                                                                                                                                                                                                                                                                                                                                                                                                                                                                                                                                                                                                                                                                                                                                                     │\n",
      "│ role               │ user                                                                                                                                                                                                                                                                                                                                                                                                                                                                                                                                                                                                                                                                                                                                                                                                                                                                                                                                                                                                                                                                                                                                                                                                                                                                                                                                                                                                                                                                               │\n",
      "│ run_id             │                                                                                                                                                                                                                                                                                                                                                                                                                                                                                                                                                                                                                                                                                                                                                                                                                                                                                                                                                                                                                                                                                                                                                                                                                                                                                                                                                                                                                                                                                    │\n",
      "│ status             │                                                                                                                                                                                                                                                                                                                                                                                                                                                                                                                                                                                                                                                                                                                                                                                                                                                                                                                                                                                                                                                                                                                                                                                                                                                                                                                                                                                                                                                                                    │\n",
      "│ thread_id          │ thread_Y6U2SrjvYCtQBkT0pyigaaqz                                                                                                                                                                                                                                                                                                                                                                                                                                                                                                                                                                                                                                                                                                                                                                                                                                                                                                                                                                                                                                                                                                                                                                                                                                                                                                                                                                                                                                                    │\n",
      "└────────────────────┴────────────────────────────────────────────────────────────────────────────────────────────────────────────────────────────────────────────────────────────────────────────────────────────────────────────────────────────────────────────────────────────────────────────────────────────────────────────────────────────────────────────────────────────────────────────────────────────────────────────────────────────────────────────────────────────────────────────────────────────────────────────────────────────────────────────────────────────────────────────────────────────────────────────────────────────────────────────────────────────────────────────────────────────────────────────────────────────────────────────────────────────────────────────────────────────────────────────────────────────────────────────────────────────────────────────────────────────────────────────────────────────────────────────────────────────────────────────────────────────────────────────────────────────────────────────────────────────────────────────────────────────────────────────────────────────────────────────────────────────────────────────────────────────────────────────────────────────────────────────────────────────────────────────────────────────────────────────────────────────────────────────────────────────────────────────────────────────────────────────────────────────────────────────────────────────────────────────────────┘\n",
      "┌────────────────────┬──────────────────────────────────────────────────────────────────────────────────────────────────────────────────────────────────────────────────────────────────────────────────────────────────────────────────────────────────────────────────────────────────────────────────────────────────────────────────────────────────────────────────────────────────────────────────────────┐\n",
      "│ id                 │ msg_OWGTpSkGVJSZdvFaapRqX9kB                                                                                                                                                                                                                                                                                                                                                             │\n",
      "│ assistant_id       │ asst_pdVd0i9kFnLljlsxW5U8gwu9                                                                                                                                                                                                                                                                                                                                                            │\n",
      "│ completed_at       │                                                                                                                                                                                                                                                                                                                                                                                          │\n",
      "│ content            │ [TextContentBlock(text=Text(annotations=[], value=\"You may adjust your break time after successfully growing a tree by pressing the 'Timer' icon at the left of the 'See Stories' button on the green focus screen. Then you will be able to adjust the break timer. When the timer is up, a 'Back to Work' notification will be sent to remind you to go back to work.\"), type='text')] │\n",
      "│ created_at         │ 1713890884                                                                                                                                                                                                                                                                                                                                                                               │\n",
      "│ file_ids           │ []                                                                                                                                                                                                                                                                                                                                                                                       │\n",
      "│ incomplete_at      │                                                                                                                                                                                                                                                                                                                                                                                          │\n",
      "│ incomplete_details │                                                                                                                                                                                                                                                                                                                                                                                          │\n",
      "│ metadata           │ {}                                                                                                                                                                                                                                                                                                                                                                                       │\n",
      "│ object             │ thread.message                                                                                                                                                                                                                                                                                                                                                                           │\n",
      "│ role               │ assistant                                                                                                                                                                                                                                                                                                                                                                                │\n",
      "│ run_id             │ run_6rj2FuT18DFuSx7g1RYMzNzs                                                                                                                                                                                                                                                                                                                                                             │\n",
      "│ status             │                                                                                                                                                                                                                                                                                                                                                                                          │\n",
      "│ thread_id          │ thread_Y6U2SrjvYCtQBkT0pyigaaqz                                                                                                                                                                                                                                                                                                                                                          │\n",
      "└────────────────────┴──────────────────────────────────────────────────────────────────────────────────────────────────────────────────────────────────────────────────────────────────────────────────────────────────────────────────────────────────────────────────────────────────────────────────────────────────────────────────────────────────────────────────────────────────────────────────────────┘\n"
     ]
    }
   ],
   "source": [
    "time.sleep(5)\n",
    "messages = client.beta.threads.messages.list(\n",
    "  thread_id=thread2.id,\n",
    "  order='asc'\n",
    ")\n",
    "for i in messages.data:\n",
    "    print(tabulate(i,tablefmt='simple_outline'))"
   ]
  },
  {
   "cell_type": "markdown",
   "metadata": {},
   "source": [
    "訊息顯示"
   ]
  },
  {
   "cell_type": "code",
   "execution_count": 110,
   "metadata": {},
   "outputs": [
    {
     "name": "stdout",
     "output_type": "stream",
     "text": [
      "Here is 3 history questions and answers similar to this question according to Flora's database\n",
      "1. Can I adjust the break timer after growing a tree?\n",
      "You may adjust your break time after successfully growing a tree. Press the 'Timer' icon at the left of the 'See Stories' button on the green focus screen, then you will be able to adjust the break timer. When the timer is up, a 'Back to Work' notification will be sent to remind you to go back to work.\n",
      "2. I want to change the resting time after I have planted a tree? \n",
      "You may adjust your break time after successfully growing a tree. Press the 'Timer' icon at the left of the 'See Stories' button on the green focus screen, then you will be able to adjust the break timer. When the timer is up, a 'Back to Work' notification will be sent to remind you to go back to work.\n",
      "3. What if I need more time to finish my task after a tree grows up?\n",
      "A focus session does not end when the tree grows. So, keep working! During this phase, the focus duration will automatically count up to record the extra time you input. When done, you can press the 'See Tree' button to end the session and see your tree. Your total focus duration, including your extra time after the tree grows, will be correctly recorded in the associated story.\n",
      "Here is my question:\n",
      "How can I adjust the break time after planting a tree?\n",
      "\n",
      "\n",
      "You may adjust your break time after successfully growing a tree by pressing the 'Timer' icon at the left of the 'See Stories' button on the green focus screen. Then you will be able to adjust the break timer. When the timer is up, a 'Back to Work' notification will be sent to remind you to go back to work.\n",
      "\n",
      "\n"
     ]
    }
   ],
   "source": [
    "for i in messages.data:\n",
    "  print(i.content[0].text.value)\n",
    "  print(\"\\n\")"
   ]
  },
  {
   "cell_type": "markdown",
   "metadata": {},
   "source": [
    "# Delete Assistant"
   ]
  },
  {
   "cell_type": "code",
   "execution_count": 111,
   "metadata": {},
   "outputs": [
    {
     "name": "stdout",
     "output_type": "stream",
     "text": [
      "AssistantDeleted(id='asst_AwF9iI3swIM68ot57sSha8Is', deleted=True, object='assistant.deleted')\n"
     ]
    }
   ],
   "source": [
    "response = client.beta.assistants.delete(assistant1.id)\n",
    "time.sleep(3)\n",
    "print(response)"
   ]
  },
  {
   "cell_type": "code",
   "execution_count": 112,
   "metadata": {},
   "outputs": [
    {
     "name": "stdout",
     "output_type": "stream",
     "text": [
      "AssistantDeleted(id='asst_pdVd0i9kFnLljlsxW5U8gwu9', deleted=True, object='assistant.deleted')\n"
     ]
    }
   ],
   "source": [
    "response = client.beta.assistants.delete(assistant2.id)\n",
    "time.sleep(3)\n",
    "print(response)"
   ]
  }
 ],
 "metadata": {
  "kernelspec": {
   "display_name": "Python 3",
   "language": "python",
   "name": "python3"
  },
  "language_info": {
   "codemirror_mode": {
    "name": "ipython",
    "version": 3
   },
   "file_extension": ".py",
   "mimetype": "text/x-python",
   "name": "python",
   "nbconvert_exporter": "python",
   "pygments_lexer": "ipython3",
   "version": "3.10.13"
  }
 },
 "nbformat": 4,
 "nbformat_minor": 2
}
