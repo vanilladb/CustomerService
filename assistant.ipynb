{
 "cells": [
  {
   "cell_type": "markdown",
   "metadata": {},
   "source": [
    "事前準備:\n",
    "\n",
    "python 3.12.1\n",
    "\n",
    "VScode商城:\n",
    "\n",
    "python\n",
    "\n",
    "jupyter\n",
    "\n",
    "import和拿key\n",
    "\n",
    "沒裝openai_SDK使用:\n",
    "```\n",
    "pip install openai\n",
    "```\n",
    "\n",
    "沒裝tabulate使用:\n",
    "```\n",
    "pip install tabulate\n",
    "```\n",
    "\n",
    "沒設定key使用:\n",
    "```\n",
    "setx OPENAI_API_KEY “<yourkey>”\n",
    "```\n",
    "```\n",
    "echo %OPENAI_API_KEY%\n",
    "```\n",
    "可以看你的KEY"
   ]
  },
  {
   "cell_type": "code",
   "execution_count": 3,
   "metadata": {},
   "outputs": [],
   "source": [
    "import os\n",
    "from openai import OpenAI\n",
    "client = OpenAI()\n",
    "OpenAI.api_key = os.getenv('OPENAI_API_KEY')"
   ]
  },
  {
   "cell_type": "markdown",
   "metadata": {},
   "source": [
    "創assistant,thread,message!"
   ]
  },
  {
   "cell_type": "code",
   "execution_count": 7,
   "metadata": {},
   "outputs": [],
   "source": [
    "from tabulate import tabulate\n",
    "\n",
    "# Upload a file with an \"assistants\" purpose\n",
    "file = client.files.create(\n",
    "    file=open(\"data\\QandA.csv\", \"rb\"),\n",
    "    purpose='assistants'\n",
    ")\n",
    "\n",
    "assistant = client.beta.assistants.create(\n",
    "    name=\"Flora Customer Service\",\n",
    "    instructions=\"You are customer service from Flora. when answering any question, you must always check the manual. If question are not in manual, you must not answer and tell them to contact human for help.\",\n",
    "    tools=[{\"type\": \"retrieval\"},{\"type\": \"code_interpreter\"}],\n",
    "    model=\"gpt-3.5-turbo-1106\",\n",
    "    file_ids=[file.id]\n",
    ")\n",
    "\n",
    "thread = client.beta.threads.create()\n",
    "\n",
    "message = client.beta.threads.messages.create(\n",
    "    thread_id=thread.id,\n",
    "    role=\"user\",\n",
    "    content=\"hey flora! Im having some issue with password! can you reset it for me?\"\n",
    ")\n"
   ]
  },
  {
   "cell_type": "markdown",
   "metadata": {},
   "source": [
    "沒裝tabulate很醜使用\n",
    "\n",
    "tabulate文件:https://pypi.org/project/tabulate/\n",
    "\n",
    "表示assistant,thread,message內容"
   ]
  },
  {
   "cell_type": "code",
   "execution_count": null,
   "metadata": {},
   "outputs": [],
   "source": [
    "print(tabulate(assistant,headers=['assistant','content'],tablefmt=\"simple_outline\"))"
   ]
  },
  {
   "cell_type": "code",
   "execution_count": null,
   "metadata": {},
   "outputs": [],
   "source": [
    "print(tabulate(thread,headers=['thread','content'],tablefmt=\"simple_outline\"))"
   ]
  },
  {
   "cell_type": "code",
   "execution_count": null,
   "metadata": {},
   "outputs": [],
   "source": [
    "print(tabulate(message,headers=['message','content'],tablefmt=\"simple_outline\"))"
   ]
  },
  {
   "cell_type": "markdown",
   "metadata": {},
   "source": [
    "這次的run\n",
    "\n",
    "可以使用新instruction複寫assisstant裡的instruction!\n",
    "\n",
    "like:\n",
    "\n",
    "```\n",
    "run = client.beta.threads.runs.create(\n",
    "  thread_id=thread.id,\n",
    "  assistant_id=assistant.id,\n",
    "  instructions=\"Please address the user as Jane Doe. The user has a premium account.\"\n",
    ")\n",
    "```\n"
   ]
  },
  {
   "cell_type": "code",
   "execution_count": null,
   "metadata": {},
   "outputs": [],
   "source": [
    "run = client.beta.threads.runs.create(\n",
    "  thread_id=thread.id,\n",
    "  assistant_id=assistant.id,\n",
    "  instructions=\"Please address the user as Jane Doe. The user has a premium account.\"\n",
    ")"
   ]
  },
  {
   "cell_type": "markdown",
   "metadata": {},
   "source": [
    "查看run的狀態!\n",
    "\n",
    "以上如果還沒跑完會顯示queued!\n",
    "\n",
    "以上如果跑完會顯示completed!"
   ]
  },
  {
   "cell_type": "code",
   "execution_count": null,
   "metadata": {},
   "outputs": [],
   "source": [
    "run = client.beta.threads.runs.retrieve(\n",
    "  thread_id=thread.id,\n",
    "  run_id=run.id\n",
    ")\n",
    "print(tabulate(run,headers=['run','content'],tablefmt='simple_outline'))"
   ]
  },
  {
   "cell_type": "markdown",
   "metadata": {},
   "source": [
    "跑完後打開查看history messages!"
   ]
  },
  {
   "cell_type": "code",
   "execution_count": null,
   "metadata": {},
   "outputs": [],
   "source": [
    "messages = client.beta.threads.messages.list(\n",
    "  thread_id=thread.id,\n",
    "  order='asc'\n",
    ")\n",
    "for i in messages.data:\n",
    "    print(tabulate(i,tablefmt='simple_outline'))"
   ]
  }
 ],
 "metadata": {
  "kernelspec": {
   "display_name": "Python 3",
   "language": "python",
   "name": "python3"
  },
  "language_info": {
   "codemirror_mode": {
    "name": "ipython",
    "version": 3
   },
   "file_extension": ".py",
   "mimetype": "text/x-python",
   "name": "python",
   "nbconvert_exporter": "python",
   "pygments_lexer": "ipython3",
   "version": "3.10.13"
  }
 },
 "nbformat": 4,
 "nbformat_minor": 2
}
