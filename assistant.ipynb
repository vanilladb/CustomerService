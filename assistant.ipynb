{
 "cells": [
  {
   "cell_type": "markdown",
   "metadata": {},
   "source": [
    "事前準備:\n",
    "\n",
    "python 3.12.1\n",
    "\n",
    "VScode商城:\n",
    "\n",
    "python\n",
    "\n",
    "jupyter\n",
    "\n",
    "import和拿key\n",
    "\n",
    "沒裝openai_SDK使用:\n",
    "```\n",
    "pip install openai\n",
    "```\n",
    "\n",
    "沒裝tabulate使用:\n",
    "```\n",
    "pip install tabulate\n",
    "```\n",
    "\n",
    "沒設定key使用:\n",
    "```\n",
    "setx OPENAI_API_KEY “<yourkey>”\n",
    "```\n",
    "```\n",
    "echo %OPENAI_API_KEY%\n",
    "```\n",
    "可以看你的KEY"
   ]
  },
  {
   "cell_type": "code",
   "execution_count": 1,
   "metadata": {},
   "outputs": [],
   "source": [
    "import os\n",
    "from openai import OpenAI\n",
    "client = OpenAI()\n",
    "OpenAI.api_key = os.getenv('OPENAI_API_KEY')"
   ]
  },
  {
   "cell_type": "markdown",
   "metadata": {},
   "source": [
    "創assistant,thread,message!"
   ]
  },
  {
   "cell_type": "code",
   "execution_count": 20,
   "metadata": {},
   "outputs": [],
   "source": [
    "from tabulate import tabulate\n",
    "assistant = client.beta.assistants.create(\n",
    "    name=\"Math Tutor\",\n",
    "    instructions=\"You are a personal math tutor. Write and run code to answer math questions.\",\n",
    "    tools=[{\"type\": \"code_interpreter\"}],\n",
    "    model=\"gpt-3.5-turbo-1106\"\n",
    ")\n",
    "\n",
    "thread = client.beta.threads.create()\n",
    "\n",
    "message = client.beta.threads.messages.create(\n",
    "    thread_id=thread.id,\n",
    "    role=\"user\",\n",
    "    content=\"I need to solve the equation `3x + 11 = 14`. Can you help me?\"\n",
    ")\n"
   ]
  },
  {
   "cell_type": "markdown",
   "metadata": {},
   "source": [
    "沒裝tabulate很醜使用\n",
    "\n",
    "tabulate文件:https://pypi.org/project/tabulate/\n",
    "\n",
    "表示assistant,thread,message內容"
   ]
  },
  {
   "cell_type": "code",
   "execution_count": 22,
   "metadata": {},
   "outputs": [
    {
     "name": "stdout",
     "output_type": "stream",
     "text": [
      "┌──────────────┬─────────────────────────────────────────────────────────────────────────────┐\n",
      "│ assistant    │ content                                                                     │\n",
      "├──────────────┼─────────────────────────────────────────────────────────────────────────────┤\n",
      "│ id           │ asst_edJcJI8UOOziomdBZqJRbK3M                                               │\n",
      "│ created_at   │ 1704278596                                                                  │\n",
      "│ description  │                                                                             │\n",
      "│ file_ids     │ []                                                                          │\n",
      "│ instructions │ You are a personal math tutor. Write and run code to answer math questions. │\n",
      "│ metadata     │ {}                                                                          │\n",
      "│ model        │ gpt-3.5-turbo-1106                                                          │\n",
      "│ name         │ Math Tutor                                                                  │\n",
      "│ object       │ assistant                                                                   │\n",
      "│ tools        │ [ToolCodeInterpreter(type='code_interpreter')]                              │\n",
      "└──────────────┴─────────────────────────────────────────────────────────────────────────────┘\n"
     ]
    }
   ],
   "source": [
    "print(tabulate(assistant,headers=['assistant','content'],tablefmt=\"simple_outline\"))"
   ]
  },
  {
   "cell_type": "code",
   "execution_count": 23,
   "metadata": {},
   "outputs": [
    {
     "name": "stdout",
     "output_type": "stream",
     "text": [
      "┌────────────┬─────────────────────────────────┐\n",
      "│ thread     │ content                         │\n",
      "├────────────┼─────────────────────────────────┤\n",
      "│ id         │ thread_8coNFccDWTknqX3q6PisiJWX │\n",
      "│ created_at │ 1704278596                      │\n",
      "│ metadata   │ {}                              │\n",
      "│ object     │ thread                          │\n",
      "└────────────┴─────────────────────────────────┘\n"
     ]
    }
   ],
   "source": [
    "print(tabulate(thread,headers=['thread','content'],tablefmt=\"simple_outline\"))"
   ]
  },
  {
   "cell_type": "code",
   "execution_count": 24,
   "metadata": {},
   "outputs": [
    {
     "name": "stdout",
     "output_type": "stream",
     "text": [
      "┌──────────────┬─────────────────────────────────────────────────────────────────────────────────────────────────────────────────────────────────────┐\n",
      "│ message      │ content                                                                                                                             │\n",
      "├──────────────┼─────────────────────────────────────────────────────────────────────────────────────────────────────────────────────────────────────┤\n",
      "│ id           │ msg_o0iTtd7pymlOIwvLW59tUApp                                                                                                        │\n",
      "│ assistant_id │                                                                                                                                     │\n",
      "│ content      │ [MessageContentText(text=Text(annotations=[], value='I need to solve the equation `3x + 11 = 14`. Can you help me?'), type='text')] │\n",
      "│ created_at   │ 1704278596                                                                                                                          │\n",
      "│ file_ids     │ []                                                                                                                                  │\n",
      "│ metadata     │ {}                                                                                                                                  │\n",
      "│ object       │ thread.message                                                                                                                      │\n",
      "│ role         │ user                                                                                                                                │\n",
      "│ run_id       │                                                                                                                                     │\n",
      "│ thread_id    │ thread_8coNFccDWTknqX3q6PisiJWX                                                                                                     │\n",
      "└──────────────┴─────────────────────────────────────────────────────────────────────────────────────────────────────────────────────────────────────┘\n"
     ]
    }
   ],
   "source": [
    "print(tabulate(message,headers=['message','content'],tablefmt=\"simple_outline\"))"
   ]
  },
  {
   "cell_type": "markdown",
   "metadata": {},
   "source": [
    "這次的run\n",
    "\n",
    "可以使用新instruction複寫assisstant裡的instruction!\n",
    "\n",
    "like:\n",
    "\n",
    "```\n",
    "run = client.beta.threads.runs.create(\n",
    "  thread_id=thread.id,\n",
    "  assistant_id=assistant.id,\n",
    "  instructions=\"Please address the user as Jane Doe. The user has a premium account.\"\n",
    ")\n",
    "```\n"
   ]
  },
  {
   "cell_type": "code",
   "execution_count": 25,
   "metadata": {},
   "outputs": [],
   "source": [
    "run = client.beta.threads.runs.create(\n",
    "  thread_id=thread.id,\n",
    "  assistant_id=assistant.id,\n",
    "  instructions=\"Please address the user as Jane Doe. The user has a premium account.\"\n",
    ")"
   ]
  },
  {
   "cell_type": "markdown",
   "metadata": {},
   "source": [
    "查看run的狀態!\n",
    "\n",
    "以上如果還沒跑完會顯示queued!\n",
    "\n",
    "以上如果跑完會顯示completed!"
   ]
  },
  {
   "cell_type": "code",
   "execution_count": 30,
   "metadata": {},
   "outputs": [
    {
     "name": "stdout",
     "output_type": "stream",
     "text": [
      "┌─────────────────┬──────────────────────────────────────────────────────────────────────┐\n",
      "│ run             │ content                                                              │\n",
      "├─────────────────┼──────────────────────────────────────────────────────────────────────┤\n",
      "│ id              │ run_QwhSngqYjIywqV4XIblhrugL                                         │\n",
      "│ assistant_id    │ asst_edJcJI8UOOziomdBZqJRbK3M                                        │\n",
      "│ cancelled_at    │                                                                      │\n",
      "│ completed_at    │ 1704353924                                                           │\n",
      "│ created_at      │ 1704353915                                                           │\n",
      "│ expires_at      │                                                                      │\n",
      "│ failed_at       │                                                                      │\n",
      "│ file_ids        │ []                                                                   │\n",
      "│ instructions    │ Please address the user as Jane Doe. The user has a premium account. │\n",
      "│ last_error      │                                                                      │\n",
      "│ metadata        │ {}                                                                   │\n",
      "│ model           │ gpt-3.5-turbo-1106                                                   │\n",
      "│ object          │ thread.run                                                           │\n",
      "│ required_action │                                                                      │\n",
      "│ started_at      │ 1704353915                                                           │\n",
      "│ status          │ completed                                                            │\n",
      "│ thread_id       │ thread_8coNFccDWTknqX3q6PisiJWX                                      │\n",
      "│ tools           │ [ToolAssistantToolsCode(type='code_interpreter')]                    │\n",
      "└─────────────────┴──────────────────────────────────────────────────────────────────────┘\n"
     ]
    }
   ],
   "source": [
    "run = client.beta.threads.runs.retrieve(\n",
    "  thread_id=thread.id,\n",
    "  run_id=run.id\n",
    ")\n",
    "print(tabulate(run,headers=['run','content'],tablefmt='simple_outline'))"
   ]
  },
  {
   "cell_type": "markdown",
   "metadata": {},
   "source": [
    "跑完後打開查看history messages!"
   ]
  },
  {
   "cell_type": "code",
   "execution_count": null,
   "metadata": {},
   "outputs": [
    {
     "name": "stdout",
     "output_type": "stream",
     "text": [
      "┌──────────────┬─────────────────────────────────────────────────────────────────────────────────────────────────────────────────────────────────────┐\n",
      "│ id           │ msg_o0iTtd7pymlOIwvLW59tUApp                                                                                                        │\n",
      "│ assistant_id │                                                                                                                                     │\n",
      "│ content      │ [MessageContentText(text=Text(annotations=[], value='I need to solve the equation `3x + 11 = 14`. Can you help me?'), type='text')] │\n",
      "│ created_at   │ 1704278596                                                                                                                          │\n",
      "│ file_ids     │ []                                                                                                                                  │\n",
      "│ metadata     │ {}                                                                                                                                  │\n",
      "│ object       │ thread.message                                                                                                                      │\n",
      "│ role         │ user                                                                                                                                │\n",
      "│ run_id       │                                                                                                                                     │\n",
      "│ thread_id    │ thread_8coNFccDWTknqX3q6PisiJWX                                                                                                     │\n",
      "└──────────────┴─────────────────────────────────────────────────────────────────────────────────────────────────────────────────────────────────────┘\n",
      "┌──────────────┬───────────────────────────────────────────────────────────────────────────────────────────────────────────────────────────┐\n",
      "│ id           │ msg_QvVKNP5CAm2w7kaDe53Vtj4E                                                                                              │\n",
      "│ assistant_id │ asst_edJcJI8UOOziomdBZqJRbK3M                                                                                             │\n",
      "│ content      │ [MessageContentText(text=Text(annotations=[], value='The solution to the equation 3x + 11 = 14 is x = 1.'), type='text')] │\n",
      "│ created_at   │ 1704353923                                                                                                                │\n",
      "│ file_ids     │ []                                                                                                                        │\n",
      "│ metadata     │ {}                                                                                                                        │\n",
      "│ object       │ thread.message                                                                                                            │\n",
      "│ role         │ assistant                                                                                                                 │\n",
      "│ run_id       │ run_QwhSngqYjIywqV4XIblhrugL                                                                                              │\n",
      "│ thread_id    │ thread_8coNFccDWTknqX3q6PisiJWX                                                                                           │\n",
      "└──────────────┴───────────────────────────────────────────────────────────────────────────────────────────────────────────────────────────┘\n"
     ]
    }
   ],
   "source": [
    "messages = client.beta.threads.messages.list(\n",
    "  thread_id=thread.id,\n",
    "  order='asc'\n",
    ")\n",
    "for i in messages.data:\n",
    "    print(tabulate(i,tablefmt='simple_outline'))"
   ]
  }
 ],
 "metadata": {
  "kernelspec": {
   "display_name": "Python 3",
   "language": "python",
   "name": "python3"
  },
  "language_info": {
   "codemirror_mode": {
    "name": "ipython",
    "version": 3
   },
   "file_extension": ".py",
   "mimetype": "text/x-python",
   "name": "python",
   "nbconvert_exporter": "python",
   "pygments_lexer": "ipython3",
   "version": "3.12.1"
  }
 },
 "nbformat": 4,
 "nbformat_minor": 2
}
